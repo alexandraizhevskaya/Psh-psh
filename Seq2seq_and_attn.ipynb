{
  "nbformat": 4,
  "nbformat_minor": 0,
  "metadata": {
    "accelerator": "GPU",
    "colab": {
      "name": "spring_2020[homework]seq2seq_and_attn.ipynb",
      "provenance": [],
      "collapsed_sections": []
    },
    "kernelspec": {
      "display_name": "Python 3",
      "language": "python",
      "name": "python3"
    },
    "language_info": {
      "codemirror_mode": {
        "name": "ipython",
        "version": 3
      },
      "file_extension": ".py",
      "mimetype": "text/x-python",
      "name": "python",
      "nbconvert_exporter": "python",
      "pygments_lexer": "ipython3",
      "version": "3.7.6"
    }
  },
  "cells": [
    {
      "cell_type": "markdown",
      "metadata": {
        "colab_type": "text",
        "id": "jgH3CAcubM4z"
      },
      "source": [
        "# Hausaufgabe\n",
        "translate(Hausaufgabe) -> **Homework**\n",
        "\n",
        "Halo!\n",
        "На семинаре мы создали простую seq2seq модель на основе rnn для перевода, а сейчас постараемся засунуть туда attention. Работать будем с тем же датасетом DE->EN (датасеты получше просто не влезают в память колаба, но если у вас есть CPU+тонна времени или GPU побольше, то можно попробовать построить перевод на WMT14 или IWSLT )\n",
        "\n",
        "В конце домашней работы предполагается написание отчета о проделанной работе."
      ]
    },
    {
      "cell_type": "code",
      "metadata": {
        "colab_type": "code",
        "id": "1fPuwHEnVIzn",
        "colab": {}
      },
      "source": [
        "\n",
        "import torch\n",
        "import torch.nn as nn\n",
        "import torch.optim as optim\n",
        "import numpy as np\n",
        "\n",
        "import spacy\n",
        "\n",
        "import random\n",
        "import math\n",
        "import time\n",
        "\n",
        "from torchtext.datasets import TranslationDataset, Multi30k #WMT14, IWSLT\n",
        "from torchtext.data import Field, BucketIterator\n",
        "\n",
        "import torch.nn.functional as F"
      ],
      "execution_count": 0,
      "outputs": []
    },
    {
      "cell_type": "code",
      "metadata": {
        "colab_type": "code",
        "id": "uQSnhb84VLU7",
        "colab": {}
      },
      "source": [
        "seed = 43\n",
        "\n",
        "random.seed(seed)\n",
        "torch.manual_seed(seed)\n",
        "np.random.seed(seed)\n",
        "torch.backends.cudnn.deterministic = True\n",
        "\n",
        "device = torch.device('cuda' if torch.cuda.is_available() else 'cpu')"
      ],
      "execution_count": 0,
      "outputs": []
    },
    {
      "cell_type": "code",
      "metadata": {
        "colab_type": "code",
        "id": "L10vdpVaVXBo",
        "colab": {}
      },
      "source": [
        "! python -m spacy download en\n",
        "! python -m spacy download de\n",
        "\n",
        "\n",
        "spacy_de = spacy.load('de')\n",
        "spacy_en = spacy.load('en')"
      ],
      "execution_count": 0,
      "outputs": []
    },
    {
      "cell_type": "code",
      "metadata": {
        "colab_type": "code",
        "id": "ferOqkOUVirW",
        "colab": {}
      },
      "source": [
        "def tokenize_de(text):\n",
        "    \"\"\"\n",
        "    Tokenizes German text from a string into a list of strings (tokens) and reverses it\n",
        "    \"\"\"\n",
        "    return [tok.text for tok in spacy_de.tokenizer(text)][::-1]\n",
        "\n",
        "def tokenize_en(text):\n",
        "    \"\"\"\n",
        "    Tokenizes English text from a string into a list of strings (tokens)\n",
        "    \"\"\"\n",
        "    return [tok.text for tok in spacy_en.tokenizer(text)]\n",
        "\n",
        "# немецкий язык является полем SRC, а английский в поле TRG\n",
        "SRC = Field(tokenize = tokenize_de, \n",
        "            init_token = '<sos>', \n",
        "            eos_token = '<eos>', \n",
        "            lower = True)\n",
        "\n",
        "TRG = Field(tokenize = tokenize_en, \n",
        "            init_token = '<sos>', \n",
        "            eos_token = '<eos>', \n",
        "            lower = True)"
      ],
      "execution_count": 0,
      "outputs": []
    },
    {
      "cell_type": "code",
      "metadata": {
        "colab_type": "code",
        "id": "u6pNY6cWW3j5",
        "colab": {}
      },
      "source": [
        "# В датасете содержится ~ 30к предложений средняя длина которых 11\n",
        "train_data, valid_data, test_data = Multi30k.splits(exts = ('.de', '.en'),  fields = (SRC, TRG))"
      ],
      "execution_count": 0,
      "outputs": []
    },
    {
      "cell_type": "markdown",
      "metadata": {
        "colab_type": "text",
        "id": "iOS3e7QZbLro"
      },
      "source": [
        "Давайте посмотрим что у нас с датасетом и сделаем словари для SRC и TGT"
      ]
    },
    {
      "cell_type": "code",
      "metadata": {
        "colab_type": "code",
        "id": "r0Xpf4IBW4Uf",
        "outputId": "ae2803a3-9071-4c71-9ff2-33b6b514792b",
        "colab": {
          "base_uri": "https://localhost:8080/",
          "height": 68
        }
      },
      "source": [
        "labels = ['train', 'validation', 'test']\n",
        "dataloaders = [train_data, valid_data, test_data]\n",
        "for d, l in zip(dataloaders, labels):\n",
        "    print(\"Number of sentences in {} : {}\".format(l, len(d.examples)))\n"
      ],
      "execution_count": 7,
      "outputs": [
        {
          "output_type": "stream",
          "text": [
            "Number of sentences in train : 29000\n",
            "Number of sentences in validation : 1014\n",
            "Number of sentences in test : 1000\n"
          ],
          "name": "stdout"
        }
      ]
    },
    {
      "cell_type": "code",
      "metadata": {
        "colab_type": "code",
        "id": "Gg63m8haW4XC",
        "outputId": "e75e2484-cc07-4fe8-dcce-30f621e69d23",
        "colab": {
          "base_uri": "https://localhost:8080/",
          "height": 51
        }
      },
      "source": [
        "SRC.build_vocab(train_data, min_freq = 2)\n",
        "TRG.build_vocab(train_data, min_freq = 2)\n",
        "print(\"Number of words in source vocabulary\", len(SRC.vocab))\n",
        "print(\"Number of words in source vocabulary\", len(TRG.vocab))"
      ],
      "execution_count": 8,
      "outputs": [
        {
          "output_type": "stream",
          "text": [
            "Number of words in source vocabulary 7855\n",
            "Number of words in source vocabulary 5893\n"
          ],
          "name": "stdout"
        }
      ]
    },
    {
      "cell_type": "markdown",
      "metadata": {
        "colab_type": "text",
        "id": "LSd3la5FbJ5_"
      },
      "source": [
        "## Encoder\n",
        "\n",
        "Энкодер будет ровно как в семинаре, с кдинственным изменением -- forward будет возвращать не только hidden, cell, но еще и outputs. Это нужно (надеюсь, вы уже поняли) для использования attention в декодере"
      ]
    },
    {
      "cell_type": "code",
      "metadata": {
        "colab_type": "code",
        "id": "_Ar5SN6tW4ck",
        "colab": {}
      },
      "source": [
        "from torch.nn.utils.rnn import pack_padded_sequence, pad_packed_sequence\n",
        "\n",
        "class Encoder(nn.Module):\n",
        "    def __init__(self, input_dim, emb_dim, enc_hid_dim, dec_hid_dim, dropout, n_layers=3):\n",
        "        \"\"\"\n",
        "        :param: input_dim is the size/dimensionality of the one-hot vectors that will be input to the encoder. This is equal to the input (source) vocabulary size.\n",
        "        :param: emb_dim is the dimensionality of the embedding layer. This layer converts the one-hot vectors into dense vectors with emb_dim dimensions.\n",
        "        :param: hid_dim is the dimensionality of the hidden and cell states.\n",
        "        :param: n_layers is the number of layers in the RNN.\n",
        "        :param: percentage of the dropout to use\n",
        "        \n",
        "        \"\"\"\n",
        "        super().__init__()\n",
        "        self.input_dim = input_dim\n",
        "        self.emb_dim = emb_dim\n",
        "        self.enc_hid_dim = enc_hid_dim\n",
        "        self.dec_hid_dim = dec_hid_dim\n",
        "        self.n_layers = n_layers\n",
        "\n",
        "\n",
        "\n",
        "        self.embedding = nn.Embedding(input_dim, emb_dim)\n",
        " \n",
        "        self.rnn = nn.GRU(emb_dim, enc_hid_dim, n_layers, bidirectional=True)\n",
        "\n",
        "        self.fc = nn.Linear(enc_hid_dim * 2, dec_hid_dim)\n",
        "        \n",
        "        self.dropout = nn.Dropout(dropout)\n",
        "        \n",
        "    def forward(self, src):\n",
        "        \"\"\"\n",
        "        :param: src sentences (src_len x batch_size)\n",
        "        \"\"\"\n",
        "        # embedded = <TODO> (src_len x batch_size x embd_dim)\n",
        "        embedded = self.embedding(src)\n",
        "        # dropout over embedding\n",
        "        embedded = self.dropout(embedded)\n",
        "        outputs, hidden = self.rnn(embedded)\n",
        "\n",
        "        hidden = torch.tanh(self.fc(torch.cat((hidden[-2,:,:], hidden[-1,:,:]), dim = 1)))\n",
        "        # [Attention return is for lstm, but you can also use gru]\n",
        "        return outputs, hidden"
      ],
      "execution_count": 0,
      "outputs": []
    },
    {
      "cell_type": "markdown",
      "metadata": {
        "colab_type": "text",
        "id": "-8QOCpKxfD3M"
      },
      "source": [
        "## Decoder\n",
        "Оп ля, а тут уже что-то новенькое\n",
        "\n",
        "Мы будем реализовывать attention, который будет смотреть из tgt в src (НЕ self-attention). \n",
        "\n",
        "Определим два класса -- Attention и DecoderAttn. Мы разбили их на два класса, чтобы можно было играться с типом внимания, не меняя код DecoderAttn. Как вы помните с лекции, в качестве аттеншена можно брать любую странную функцию (конкатенация, маленькая сеточка, ...), и все будет работать! Поэтому вам предлагается попробовать несколько разных.\n",
        "\n",
        "\n",
        "---------------------\n",
        "Есть два подхода к реализации аттеншена:\n",
        "\n",
        "Подход #1:\n",
        "\n",
        "1. Вычисляется embed\n",
        "2. На основе hidden c прошлого шага, embedded и (возможно) enc_out вычисляется attention, а точнее, веса attention (поэтому не забудьте softmax!!). Размерность batch_size * max_len, max_len -- максимальная длина предложения в батче, т.е. shape[0] от выхода энкодера.\n",
        "3. К enc_out применяется attention: чаще всего dot product от enc_out и attention_weights (не забудьте про измерение батч. Чтобы нормально вычислить dot_product по батчу, вам поможет torch.bmm)\n",
        "4. Берутся attention и embedded и сворачиваются в один вектор размерности такой, чтобы кормить его self.lstm. Например, это можно сделать с помощью обычного линейного слоя\n",
        "5. Вычисляется новое скрытое состояние new_hidden. Это наша self.lstm, примененная к выходу пункта 4.\n",
        "6. Вычисляется prediction, как в семинаре\n",
        "\n",
        "Грубо говоря, вся разница с семинаром в том, что мы вместо того, чтобы embedded пихать в self.lstm, миксуем аттэншен на основе всего, что имеем (enc_out, hidden, embedded) и запихиваем в self.lstm микс аттэншена и embedded.\n",
        "\n",
        "![alt text](https://i.imgur.com/cmkRY0r.png)\n",
        "\n",
        "\n",
        "Подход #2:\n",
        "\n",
        "1. Вычисляется embed\n",
        "2. Вычисляется output, new_hidden (строчка output, (hidden, cell) = self.rnn(embedded, (hidden, cell)))\n",
        "3. На основе output и enc_out вычисляется attention, а точнее, веса attention (поэтому не забудьте softmax!!)\n",
        "3. К enc_out применяется attention: чаще всего dot product от enc_out и attention_weights (не забудьте про измерение батч. Чтобы нормально вычислить dot_product по батчу, вам поможет torch.bmm)\n",
        "4. Вычисляется prediction на основе attention и output. Можно, например, взять nn.Linear() от конкатенации attention и output.\n",
        "\n",
        "Разница с первым подходом в том, что мы сначала вычисляем выход rnn слоя, а потом смотрим вниманием на src и на основе выхода rnn и attn считаем выход (prediction). \n",
        "\n",
        "![alt text](https://i.imgur.com/5aWjQWv.png)\n",
        "\n",
        "\n",
        "Вам предлагается реализовать хотя бы 1 из вариантов и хотя бы 2 варианта функции attention (в классе Attention)\n"
      ]
    },
    {
      "cell_type": "code",
      "metadata": {
        "colab_type": "code",
        "id": "gRgtzaf4bJp6",
        "colab": {}
      },
      "source": [
        "class Attention(nn.Module):\n",
        "    def __init__(self, enc_hid_dim, dec_hid_dim, method =\"concat\"): # add parameters needed for your type of attention\n",
        "        super().__init__()\n",
        "        self.method=method # attention method you'll use. e.g. \"cat\", \"one-layer-net\", \"dot\", ..\n",
        "\n",
        "        if method == \"dot\": #обычный дот - не придумала, как нормально перемножить с байдирекшнл и просто дублировала его - работает так себе\n",
        "          self.dec_hid_dim = dec_hid_dim\n",
        "        elif method == \"general\": #обычный млп\n",
        "          self.attn = nn.Linear((enc_hid_dim*2), dec_hid_dim) #encoder???\n",
        "          self.dec_hid_dim = dec_hid_dim\n",
        "        elif method == \"concat\": #конкатим вектор аттеншна, получаемый с помощью 1 млп слоя подходящей размерности и умножаем его на параметр v\n",
        "          self.attn = nn.Linear((enc_hid_dim*2) + dec_hid_dim, dec_hid_dim)\n",
        "          self.v = nn.Parameter(torch.rand(dec_hid_dim))\n",
        "        elif method==\"some_layers_net\": #то же самое, но сеть из нескольких полносвязных\n",
        "         self.fc = nn.Sequential(\n",
        "            nn.Linear((enc_hid_dim*2)+ dec_hid_dim, 512),\n",
        "            nn.ReLU(),\n",
        "            nn.Dropout(p=0.5),\n",
        "            nn.Linear(512, 1024),\n",
        "            nn.ReLU(),\n",
        "            nn.Dropout(p=0.5),\n",
        "            nn.Linear(1024, dec_hid_dim),\n",
        "            nn.ReLU(),\n",
        "            )\n",
        "         self.v = nn.Parameter(torch.rand(dec_hid_dim))\n",
        "\n",
        "    def forward(self, hidden, encoder_outputs):\n",
        "        \n",
        "        batch_size = encoder_outputs.shape[1]\n",
        "        src_len = encoder_outputs.shape[0]\n",
        "\n",
        "        encoder_outputs = encoder_outputs.permute(1, 0, 2)\n",
        "\n",
        "        if self.method == \"dot\":\n",
        "          \n",
        "            encoder_outputs = encoder_outputs.permute(0,2,1)\n",
        "            hidden= torch.cat((hidden, hidden), dim=1)\n",
        "            hidden = hidden.view(batch_size, 1, self.dec_hid_dim*2)\n",
        "            attention = torch.bmm(hidden, encoder_outputs).squeeze(1)\n",
        "            return  F.softmax(attention, dim=1)\n",
        "        elif self.method == \"general\":\n",
        "            \n",
        "            hidden = hidden.view(batch_size, 1, self.dec_hid_dim)\n",
        "            out = self.attn(encoder_outputs)\n",
        "            out = out.permute(0, 2, 1)\n",
        "            attention = torch.bmm(hidden, out).squeeze(1)\n",
        "            return F.softmax(attention, dim=1)\n",
        "\n",
        "        elif self.method == \"concat\":\n",
        "\n",
        "            hidden = hidden.unsqueeze(1).repeat(1, src_len, 1)\n",
        "            energy = torch.tanh(self.attn(torch.cat((hidden, encoder_outputs), dim = 2))) \n",
        "            energy = energy.permute(0, 2, 1)\n",
        "            v = self.v.repeat(batch_size, 1).unsqueeze(1)\n",
        "            attention = torch.bmm(v, energy).squeeze(1)\n",
        "            return F.softmax(attention, dim=1)\n",
        "\n",
        "        elif self.method ==\"some_layers_net\":\n",
        "\n",
        "            hidden = hidden.unsqueeze(1).repeat(1, src_len, 1)\n",
        "            energy = torch.tanh(self.fc(torch.cat((hidden, encoder_outputs), dim = 2))) \n",
        "            energy = energy.permute(0, 2, 1)\n",
        "            v = self.v.repeat(batch_size, 1).unsqueeze(1)\n",
        "            attention = torch.bmm(v, energy).squeeze(1)\n",
        "            return F.softmax(attention, dim=1)   \n",
        "            \n",
        "        \n",
        "      \n",
        "class DecoderAttn(nn.Module):\n",
        "    def __init__(self, output_dim, emb_dim, enc_hid_dim, dec_hid_dim, attention, dropout=0.1, n_layers=3):\n",
        "        super(DecoderAttn, self).__init__()\n",
        "        \n",
        "        self.emb_dim = emb_dim\n",
        "        self.enc_hid_dim = enc_hid_dim\n",
        "        self.dec_hid_dim = dec_hid_dim\n",
        "        self.output_dim = output_dim\n",
        "        self.n_layers = n_layers\n",
        "\n",
        "        self.output_dim = output_dim\n",
        "        \n",
        "        self.attention = attention # instance of Attention class\n",
        "\n",
        "        # define layers\n",
        "        self.embedding = nn.Embedding(self.output_dim, self.emb_dim)\n",
        "        \n",
        "        self.rnn = nn.GRU((enc_hid_dim * 2) + emb_dim, dec_hid_dim)\n",
        "        self.out = nn.Linear((enc_hid_dim * 2) + dec_hid_dim + emb_dim, output_dim)\n",
        "        self.dropout = nn.Dropout(dropout)\n",
        "        # more layers you'll need for attention\n",
        "        \n",
        "        \n",
        "    def forward(self, input_, hidden, encoder_outputs):\n",
        "        # make decoder with attention\n",
        "        # use code from seminar notebook as base and add attention to it\n",
        "        \n",
        "        input = input_.unsqueeze(0)\n",
        "        \n",
        "        \n",
        "        \n",
        "        embedded = self.dropout(self.embedding(input))\n",
        "        \n",
        "        a = self.attention(hidden, encoder_outputs)\n",
        "        a = a.unsqueeze(1)\n",
        "        \n",
        "        encoder_outputs = encoder_outputs.permute(1, 0, 2)\n",
        "        \n",
        "        weighted = torch.bmm(a, encoder_outputs)\n",
        "        \n",
        "        \n",
        "        weighted = weighted.permute(1, 0, 2)\n",
        "        \n",
        "        rnn_input = torch.cat((embedded, weighted), dim = 2)\n",
        "            \n",
        "        output, hidden = self.rnn(rnn_input, hidden.unsqueeze(0))\n",
        "        \n",
        "        assert (output == hidden).all()\n",
        "        \n",
        "        embedded = embedded.squeeze(0)\n",
        "        output = output.squeeze(0)\n",
        "        weighted = weighted.squeeze(0)\n",
        "        \n",
        "        output = self.out(torch.cat((output, weighted, embedded), dim = 1))\n",
        "        \n",
        "        \n",
        "        return output, hidden.squeeze(0)\n",
        "\n",
        "\n",
        "    def initHidden(self):\n",
        "        return torch.zeros(1, 1, self.hidden_size, device=device)"
      ],
      "execution_count": 0,
      "outputs": []
    },
    {
      "cell_type": "markdown",
      "metadata": {
        "colab_type": "text",
        "id": "UlD7-nusfL86"
      },
      "source": [
        "## Seq2Seq module"
      ]
    },
    {
      "cell_type": "markdown",
      "metadata": {
        "colab_type": "text",
        "id": "HOineJlHpof2"
      },
      "source": [
        "Здесь опять ничего не поменяется кроме того, что энкодер теперь возвращает свой output, а декодер его принимает"
      ]
    },
    {
      "cell_type": "code",
      "metadata": {
        "colab_type": "code",
        "id": "v_YvVGzaW4fY",
        "colab": {}
      },
      "source": [
        "# we need that to put it first to the decoder in 'translate' method\n",
        "BOS_IDX = SRC.vocab.stoi['<sos>']\n",
        "\n",
        "class Seq2Seq(nn.Module):\n",
        "    def __init__(self, encoder, decoder, device):\n",
        "        super().__init__()\n",
        "        # Hidden dimensions of encoder and decoder must be equal\n",
        "        self.encoder = encoder\n",
        "        self.decoder = decoder\n",
        "        self.device = device\n",
        "        self._init_weights() \n",
        "        self.max_len=30\n",
        "    \n",
        "    def forward(self, src, trg, teacher_forcing_ratio = 0.5):\n",
        "        \"\"\"\n",
        "        :param: src (src_len x batch_size)\n",
        "        :param: tgt\n",
        "        :param: teacher_forcing_ration : if 0.5 then every second token is the ground truth input\n",
        "        \"\"\"\n",
        "        \n",
        "        batch_size = src.shape[1]\n",
        "        max_len = trg.shape[0]\n",
        "        trg_vocab_size = self.decoder.output_dim\n",
        "        \n",
        "        #tensor to store decoder outputs\n",
        "        outputs = torch.zeros(max_len, batch_size, trg_vocab_size).to(self.device)\n",
        "        \n",
        "        #last hidden state of the encoder is used as the initial hidden state of the decoder\n",
        "        enc_out, hidden = self.encoder(src)\n",
        "        \n",
        "        #first input to the decoder is the <sos> tokens\n",
        "        input = trg[0,:]\n",
        "        \n",
        "        for t in range(1, max_len):\n",
        "            \n",
        "            output, hidden = self.decoder(input, hidden, enc_out) #TODO pass state and input throw decoder \n",
        "            outputs[t] = output\n",
        "            teacher_force = random.random() < teacher_forcing_ratio\n",
        "            top1 = output.argmax(1) \n",
        "            input = (trg[t] if teacher_force else top1)\n",
        "        \n",
        "        return outputs\n",
        "    \n",
        "    def translate(self, src):\n",
        "        trg_vocab_size = self.decoder.output_dim\n",
        "        \n",
        "        #tensor to store decoder outputs\n",
        "        outputs = []\n",
        "        \n",
        "        #last hidden state of the encoder is used as the initial hidden state of the decoder\n",
        "        src = torch.tensor(src).to(self.device)\n",
        "\n",
        "        # TODO pass src throw encoder\n",
        "        \n",
        "        #first input to the decoder is the <sos> tokens\n",
        "        #input_ = torch.tensor([BOS_IDX]).to(self.device)\n",
        "        src = torch.tensor(src).to(self.device)\n",
        "        enc_out, hidden = self.encoder(src.reshape((src.shape[0], 1))) # TODO pass src throw encoder\n",
        "\n",
        "        #.reshape((src.shape[0], 1))\n",
        "        \n",
        "        #first input to the decoder is the <sos> tokens\n",
        "        input_ = torch.tensor([BOS_IDX]).to(self.device)# TODO trg[idxs]\n",
        "        \n",
        "        for t in range(1, self.max_len):\n",
        "            \n",
        "            output, hidden = self.decoder(input_, hidden, enc_out) #TODO pass state and input throw decoder \n",
        "            top1 = output.max(1)[1]\n",
        "            outputs.append(top1)\n",
        "            input = (top1)\n",
        "        \n",
        "        return outputs\n",
        "    \n",
        "            \n",
        "            \n",
        "        \n",
        "        \n",
        "    \n",
        "    def _init_weights(self):\n",
        "        p = 0.08\n",
        "        for name, param in self.named_parameters():\n",
        "            nn.init.uniform_(param.data, -p, p)\n",
        "        \n"
      ],
      "execution_count": 0,
      "outputs": []
    },
    {
      "cell_type": "code",
      "metadata": {
        "id": "Gk98k6GNskHq",
        "colab_type": "code",
        "colab": {}
      },
      "source": [
        "input_dim = len(SRC.vocab)\n",
        "output_dim = len(TRG.vocab)\n",
        "enc_emb_dim = dec_emb_dim = 300 #256\n",
        "\n",
        "enc_hid_dim = dec_hid_dim = 512\n",
        "\n",
        "enc_dropout = dec_dropout = 0.5\n",
        "\n",
        "batch_size = 128\n",
        "\n",
        "\n",
        "attn = Attention(enc_hid_dim, dec_hid_dim, method=\"concat\")\n",
        "enc = Encoder(input_dim, enc_emb_dim, enc_hid_dim, dec_hid_dim, enc_dropout)\n",
        "dec = DecoderAttn(output_dim, dec_emb_dim, enc_hid_dim, dec_hid_dim, attn, dec_dropout)\n",
        "\n",
        "model = Seq2Seq(enc, dec, device).to(device)\n",
        "\n",
        "PAD_IDX = TRG.vocab.stoi['<pad>']\n",
        "train_iterator, valid_iterator, test_iterator = BucketIterator.splits(\n",
        "    (train_data, valid_data, test_data), \n",
        "    batch_size = batch_size,\n",
        "    device = device)"
      ],
      "execution_count": 0,
      "outputs": []
    },
    {
      "cell_type": "code",
      "metadata": {
        "colab_type": "code",
        "id": "h5V9ZnK4fUxq",
        "outputId": "d86df78a-107c-4bab-8dff-7c4d5ae4cd86",
        "colab": {
          "base_uri": "https://localhost:8080/",
          "height": 306
        }
      },
      "source": [
        "model"
      ],
      "execution_count": 0,
      "outputs": [
        {
          "output_type": "execute_result",
          "data": {
            "text/plain": [
              "Seq2Seq(\n",
              "  (encoder): Encoder(\n",
              "    (embedding): Embedding(7855, 300)\n",
              "    (rnn): GRU(300, 512, num_layers=3, bidirectional=True)\n",
              "    (fc): Linear(in_features=1024, out_features=512, bias=True)\n",
              "    (dropout): Dropout(p=0.5, inplace=False)\n",
              "  )\n",
              "  (decoder): DecoderAttn(\n",
              "    (attention): Attention(\n",
              "      (attn): Linear(in_features=1536, out_features=512, bias=True)\n",
              "    )\n",
              "    (embedding): Embedding(5893, 300)\n",
              "    (rnn): GRU(1324, 512)\n",
              "    (out): Linear(in_features=1836, out_features=5893, bias=True)\n",
              "    (dropout): Dropout(p=0.5, inplace=False)\n",
              "  )\n",
              ")"
            ]
          },
          "metadata": {
            "tags": []
          },
          "execution_count": 135
        }
      ]
    },
    {
      "cell_type": "code",
      "metadata": {
        "colab_type": "code",
        "id": "3vaUeDjTfU4k",
        "colab": {}
      },
      "source": [
        "def train(model, iterator, optimizer, criterion, clip):\n",
        "    \n",
        "    model.train()\n",
        "    \n",
        "    epoch_loss = 0\n",
        "    \n",
        "    for i, batch in enumerate(iterator):\n",
        "        \n",
        "        src = batch.src\n",
        "        #print(batch.src.shape)\n",
        "        trg = batch.trg\n",
        "        \n",
        "        optimizer.zero_grad()\n",
        "        \n",
        "        output = model(src, trg)\n",
        "        \n",
        "        output = output[1:].view(-1, output.shape[-1])\n",
        "        trg = trg[1:].view(-1)\n",
        "        \n",
        "        loss = criterion(output, trg)\n",
        "        \n",
        "        loss.backward()\n",
        "        \n",
        "        torch.nn.utils.clip_grad_norm_(model.parameters(), clip)\n",
        "        \n",
        "        optimizer.step()\n",
        "        \n",
        "        epoch_loss += loss.item()\n",
        "        \n",
        "    return epoch_loss / len(iterator)"
      ],
      "execution_count": 0,
      "outputs": []
    },
    {
      "cell_type": "code",
      "metadata": {
        "colab_type": "code",
        "id": "HfbTx2FMjaIM",
        "colab": {}
      },
      "source": [
        "def evaluate(model, iterator, criterion):\n",
        "    \n",
        "    model.eval()\n",
        "    \n",
        "    epoch_loss = 0\n",
        "    \n",
        "    with torch.no_grad():\n",
        "    \n",
        "        for i, batch in enumerate(iterator):\n",
        "\n",
        "            src = batch.src\n",
        "            trg = batch.trg\n",
        "\n",
        "            output = model(src, trg, 0) #turn off teacher forcing !!\n",
        "            output = output[1:].view(-1, output.shape[-1])\n",
        "            trg = trg[1:].view(-1)\n",
        "\n",
        "\n",
        "            loss = criterion(output, trg)\n",
        "            \n",
        "            epoch_loss += loss.item()\n",
        "        \n",
        "    return epoch_loss / len(iterator)"
      ],
      "execution_count": 0,
      "outputs": []
    },
    {
      "cell_type": "code",
      "metadata": {
        "colab_type": "code",
        "id": "lQV_yqkLjcyQ",
        "outputId": "840d94b0-855d-4bf6-b628-d57731a6abbd",
        "colab": {
          "base_uri": "https://localhost:8080/",
          "height": 272
        }
      },
      "source": [
        "max_epochs = 5\n",
        "CLIP = 1\n",
        "\n",
        "# TODO\n",
        "optimizer = optim.Adam(model.parameters())\n",
        "criterion = nn.CrossEntropyLoss(ignore_index = PAD_IDX)\n",
        "\n",
        "best_valid_loss = float('inf')\n",
        "\n",
        "for epoch in range(max_epochs):\n",
        "    \n",
        "    \n",
        "    train_loss = round(train(model, train_iterator, optimizer, criterion, CLIP), 5)\n",
        "    valid_loss = round(evaluate(model, valid_iterator, criterion),5)\n",
        "    \n",
        "    \n",
        "    if valid_loss < best_valid_loss:\n",
        "        best_valid_loss = valid_loss\n",
        "        torch.save(model.state_dict(), 'model.pt')\n",
        "    \n",
        "    print('Epoch: {} \\n Train Loss {}  Val loss {}:'.format(epoch, train_loss, valid_loss))\n",
        "    print('Train Perplexity {}  Val Perplexity {}:'.format(np.exp(train_loss), np.exp(valid_loss)))\n"
      ],
      "execution_count": 0,
      "outputs": [
        {
          "output_type": "stream",
          "text": [
            "Epoch: 0 \n",
            " Train Loss 4.37902  Val loss 4.00703:\n",
            "Train Perplexity 79.7598304580504  Val Perplexity 54.98332733979401:\n",
            "Epoch: 1 \n",
            " Train Loss 3.11019  Val loss 3.4669:\n",
            "Train Perplexity 22.425304803907967  Val Perplexity 32.03727280078117:\n",
            "Epoch: 2 \n",
            " Train Loss 2.58632  Val loss 3.1846:\n",
            "Train Perplexity 13.280808191630127  Val Perplexity 24.157623423608072:\n",
            "Epoch: 3 \n",
            " Train Loss 2.23598  Val loss 3.16137:\n",
            "Train Perplexity 9.35564589405887  Val Perplexity 23.60290977542154:\n",
            "Epoch: 4 \n",
            " Train Loss 2.01286  Val loss 3.07505:\n",
            "Train Perplexity 7.484692987527677  Val Perplexity 21.650964432670435:\n"
          ],
          "name": "stdout"
        }
      ]
    },
    {
      "cell_type": "code",
      "metadata": {
        "id": "9yarjvXqhgYh",
        "colab_type": "code",
        "outputId": "645f94e0-013c-436c-c0f4-11d01c84ac8b",
        "colab": {
          "base_uri": "https://localhost:8080/",
          "height": 34
        }
      },
      "source": [
        "test_loss = evaluate(model, test_iterator, criterion)\n",
        "\n",
        "print('| Test Loss: {} Test PPL:{}|'.format(test_loss, np.exp(test_loss)))"
      ],
      "execution_count": 0,
      "outputs": [
        {
          "output_type": "stream",
          "text": [
            "| Test Loss: 3.0803081393241882 Test PPL:21.765108048691413|\n"
          ],
          "name": "stdout"
        }
      ]
    },
    {
      "cell_type": "code",
      "metadata": {
        "colab_type": "code",
        "id": "an6HG7_uyjJN",
        "colab": {}
      },
      "source": [
        "EOS_IDX = SRC.vocab.stoi['<eos>']\n",
        "\n",
        "def translate(sentence):\n",
        "    \"\"\"\n",
        "    function that uses .translate() method of the model to translate german sentence into english\n",
        "    params:\n",
        "        sentence: tokenized gernam sentence\n",
        "    \"\"\"\n",
        "    sentence = sentence.lower()\n",
        "    sent_vec = [SRC.vocab.stoi[token] for token in sentence.split()]\n",
        "    translation_idx = model.translate(torch.tensor(sent_vec))\n",
        "    translated = []\n",
        "    for t in translation_idx:\n",
        "        if t[0] != EOS_IDX:\n",
        "            translated.append(TRG.vocab.itos[t[0]])\n",
        "        else:\n",
        "          break\n",
        "    return ' '.join(translated)"
      ],
      "execution_count": 0,
      "outputs": []
    },
    {
      "cell_type": "markdown",
      "metadata": {
        "colab_type": "text",
        "id": "tBrHtQ_qrSKX"
      },
      "source": [
        "ИИИИ давайте также научимся считать самую популярную метрику для перевода -- BLEU (https://en.wikipedia.org/wiki/BLEU)\n",
        "\n",
        "В общем-то, вам повезло -- ее писать руками скучно, да и nltk ее написало за вас:"
      ]
    },
    {
      "cell_type": "code",
      "metadata": {
        "colab_type": "code",
        "id": "HFIVyXXeJrCr",
        "colab": {}
      },
      "source": [
        "from nltk.translate.bleu_score import corpus_bleu\n",
        "def compute_bleu(inp_lines, out_lines):\n",
        "    \"\"\" Estimates corpora-level BLEU score of model's translations given inp and reference out \"\"\"\n",
        "    translations = [translate(line) for line in inp_lines]\n",
        "    return corpus_bleu([[ref] for ref in out_lines], translations) * 100"
      ],
      "execution_count": 0,
      "outputs": []
    },
    {
      "cell_type": "code",
      "metadata": {
        "id": "hO4ikydeh8wz",
        "colab_type": "code",
        "outputId": "d2925e09-14c2-4532-df75-523f418df136",
        "colab": {
          "base_uri": "https://localhost:8080/",
          "height": 156
        }
      },
      "source": [
        "compute_bleu([\"ein klein apfel\", \"ein guter Junge\"], [\"a small apple\", \"a good boy\"])"
      ],
      "execution_count": 0,
      "outputs": [
        {
          "output_type": "stream",
          "text": [
            "/usr/local/lib/python3.6/dist-packages/ipykernel_launcher.py:50: UserWarning: To copy construct from a tensor, it is recommended to use sourceTensor.clone().detach() or sourceTensor.clone().detach().requires_grad_(True), rather than torch.tensor(sourceTensor).\n",
            "/usr/local/lib/python3.6/dist-packages/ipykernel_launcher.py:56: UserWarning: To copy construct from a tensor, it is recommended to use sourceTensor.clone().detach() or sourceTensor.clone().detach().requires_grad_(True), rather than torch.tensor(sourceTensor).\n",
            "/usr/local/lib/python3.6/dist-packages/nltk/translate/bleu_score.py:490: UserWarning: \n",
            "Corpus/Sentence contains 0 counts of 3-gram overlaps.\n",
            "BLEU scores might be undesirable; use SmoothingFunction().\n",
            "  warnings.warn(_msg)\n"
          ],
          "name": "stderr"
        },
        {
          "output_type": "execute_result",
          "data": {
            "text/plain": [
              "22.427560162172274"
            ]
          },
          "metadata": {
            "tags": []
          },
          "execution_count": 145
        }
      ]
    },
    {
      "cell_type": "markdown",
      "metadata": {
        "id": "Kuf44w8R9WnV",
        "colab_type": "text"
      },
      "source": [
        "Если вы реализовали несколько методов аттеншена, опишите каждый из них и полученную метрику на нем в отчете.\n"
      ]
    },
    {
      "cell_type": "markdown",
      "metadata": {
        "id": "KzPXjQRMj6d0",
        "colab_type": "text"
      },
      "source": [
        "Итак, в данном задании я пыталась реализовать несколько методов, а именно обычный dot product, перцептрон, нейронную сеть с несколькими слоями и линейный слой с конкатенацией и дополнительным параметром. Из всех опробованных, последний оказался самым эффективным. В то время, как dot product давал посредственные результаты, а остальные методы приблизительно perplexity 22-25 -  последний метод позволил получить perplexity 21, хотя bleu  все еще низкий: 22."
      ]
    }
  ]
}
