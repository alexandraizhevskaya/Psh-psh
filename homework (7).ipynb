{
  "nbformat": 4,
  "nbformat_minor": 0,
  "metadata": {
    "kernelspec": {
      "display_name": "Python 3",
      "language": "python",
      "name": "python3"
    },
    "language_info": {
      "codemirror_mode": {
        "name": "ipython",
        "version": 3
      },
      "file_extension": ".py",
      "mimetype": "text/x-python",
      "name": "python",
      "nbconvert_exporter": "python",
      "pygments_lexer": "ipython3",
      "version": "3.6.10"
    },
    "colab": {
      "name": "homework.ipynb",
      "provenance": [],
      "collapsed_sections": []
    }
  },
  "cells": [
    {
      "cell_type": "code",
      "metadata": {
        "id": "-qYeYNDHiKyP",
        "colab_type": "code",
        "colab": {}
      },
      "source": [
        "%matplotlib inline\n",
        "\n",
        "import numpy as np\n",
        "import pandas as pd\n",
        "import matplotlib.pyplot as plt"
      ],
      "execution_count": null,
      "outputs": []
    },
    {
      "cell_type": "markdown",
      "metadata": {
        "id": "XzbJW982iKyU",
        "colab_type": "text"
      },
      "source": [
        "# Gradient Boosting"
      ]
    },
    {
      "cell_type": "markdown",
      "metadata": {
        "id": "Dl_aA4I6iKyV",
        "colab_type": "text"
      },
      "source": [
        "## Read Data"
      ]
    },
    {
      "cell_type": "code",
      "metadata": {
        "id": "u4AlsxhmiKyW",
        "colab_type": "code",
        "colab": {}
      },
      "source": [
        "#data from here https://www.kaggle.com/c/boston-housing/overview\n",
        "df = pd.read_csv('https://raw.githubusercontent.com/shestakoff/hse_se_ml/master/2020/s11-boosting/data/boston_train.csv').drop(columns = 'ID')"
      ],
      "execution_count": null,
      "outputs": []
    },
    {
      "cell_type": "markdown",
      "metadata": {
        "id": "blZFCWkpiKyZ",
        "colab_type": "text"
      },
      "source": [
        " Prediction of house price in Boston.\n",
        " \n",
        " Why it's important? Because it can help people determine a fair price at home."
      ]
    },
    {
      "cell_type": "code",
      "metadata": {
        "id": "TRwRhsIziKya",
        "colab_type": "code",
        "colab": {}
      },
      "source": [
        "X = df.drop(columns = 'medv').values\n",
        "y = df['medv'].values"
      ],
      "execution_count": null,
      "outputs": []
    },
    {
      "cell_type": "code",
      "metadata": {
        "id": "hgD55I2NiKyd",
        "colab_type": "code",
        "colab": {
          "base_uri": "https://localhost:8080/",
          "height": 34
        },
        "outputId": "658bee99-a551-4572-8289-6988edb8b395"
      },
      "source": [
        "X.shape"
      ],
      "execution_count": null,
      "outputs": [
        {
          "output_type": "execute_result",
          "data": {
            "text/plain": [
              "(333, 13)"
            ]
          },
          "metadata": {
            "tags": []
          },
          "execution_count": 9
        }
      ]
    },
    {
      "cell_type": "markdown",
      "metadata": {
        "id": "HjzLVaeHiKyh",
        "colab_type": "text"
      },
      "source": [
        "## Before doing"
      ]
    },
    {
      "cell_type": "markdown",
      "metadata": {
        "id": "GrtKnYqkiKyi",
        "colab_type": "text"
      },
      "source": [
        "definition of huber_loss: https://en.wikipedia.org/wiki/Huber_loss"
      ]
    },
    {
      "cell_type": "markdown",
      "metadata": {
        "id": "2PhHcoHtiKyi",
        "colab_type": "text"
      },
      "source": [
        "Implement function which calculate $z_i$ from gradient boosting alogirithm (minus gradient of loss function). Implement for all possible loss function (mse, hl, logloss)\n",
        "\n",
        "In hl use $\\delta = 1$, assume that $MSE = \\frac{1}{2}(r - y)^2$ and log_loss(sigmoid(r)) use $0$ and $1$ like class label"
      ]
    },
    {
      "cell_type": "code",
      "metadata": {
        "id": "FYQsYvitiKyj",
        "colab_type": "code",
        "colab": {}
      },
      "source": [
        "def calc_objective(r, target, loss = 'mse'):\n",
        "    \"\"\"\n",
        "    Parameters\n",
        "        ----------\n",
        "        r : np.array\n",
        "            value of f(x)\n",
        "        target : np.array\n",
        "            target\n",
        "        loss : str\n",
        "            loss function. Possible values : mse, hl(https://en.wikipedia.org/wiki/Huber_loss, logloss(sigmoid(r))\n",
        "    \"\"\"\n",
        "    if loss == 'mse':\n",
        "      return -(r - target)\n",
        "\n",
        "    elif loss == 'logloss':\n",
        "      sigmoid = lambda x:1/(1+np.exp(-x))\n",
        "      confidence = sigmoid(r) - target\n",
        "      return - confidence\n",
        "\n",
        "    elif loss == 'hl':\n",
        "      delta = 1\n",
        "      d = np.abs(target - r)\n",
        "      return np.where(d <= delta,\n",
        "                 -(r - target),\n",
        "                 -delta * np.sign(r - target))\n",
        "\n",
        "    else:\n",
        "      raise ValueError\n",
        "      print('{} not implemented'.format(loss))"
      ],
      "execution_count": null,
      "outputs": []
    },
    {
      "cell_type": "code",
      "metadata": {
        "id": "ELGrE2vliKym",
        "colab_type": "code",
        "colab": {}
      },
      "source": [
        "#test your code\n",
        "\n",
        "r = np.array([1, 2, 3, 4, 5])\n",
        "target = np.array([10, 9, 8, 7, 6])\n",
        "assert(np.allclose(calc_objective(r, target, 'mse'), np.array([9, 7, 5, 3, 1]), 0.00001))\n",
        "\n",
        "r = np.array([2, 4, 7, 9, 13])\n",
        "target = np.array([2.5, 6, 10, 6, 12.75])\n",
        "assert(np.allclose(calc_objective(r, target, 'hl'), np.array([0.5, 1, 1, -1, -0.25]), 0.00001))\n",
        "\n",
        "r = np.array([0, np.log(2), -np.log(9), np.log(4), np.log(19)])\n",
        "target = np.array([0, 1, 0, 1, 1])\n",
        "assert(np.allclose(calc_objective(r, target, 'logloss'), np.array([-0.5, 1. / 3, -0.1, 0.2, 0.05]), 0.00001))"
      ],
      "execution_count": null,
      "outputs": []
    },
    {
      "cell_type": "markdown",
      "metadata": {
        "id": "Qt7kZv-uiKyq",
        "colab_type": "text"
      },
      "source": [
        "Implement function which makes one step of gradient boossting (fit new estimator)"
      ]
    },
    {
      "cell_type": "code",
      "metadata": {
        "id": "pqm-j3zjiKyr",
        "colab_type": "code",
        "colab": {}
      },
      "source": [
        "def step(X, y, r, base_estimator, loss = 'mse'):\n",
        "    \"\"\"\n",
        "    Parameters\n",
        "        ----------\n",
        "        X : numpy.array, shape = (n_objects, n_features)\n",
        "            Matrix of objects that are described by their input features.\n",
        "        y : numpy.array, shape = (n_objects)\n",
        "            1D array with the target variables\n",
        "        r : np.array, shape = (n_ojects)\n",
        "            f_{m-1}(X) (X matrix of features) - prediction of previous m-1 base_estimators\n",
        "        base_estimator : estimator which you must fit\n",
        "            has got method fit\n",
        "        loss : str\n",
        "            loss function. Possible values : mse, hl, logloss\n",
        "            \n",
        "        Return fitted base_estimator\n",
        "    \"\"\"\n",
        "    residuals = calc_objective(r, y, loss=loss)\n",
        "    return base_estimator.fit(X,  residuals)"
      ],
      "execution_count": null,
      "outputs": []
    },
    {
      "cell_type": "markdown",
      "metadata": {
        "id": "OtwU6DIpiKyu",
        "colab_type": "text"
      },
      "source": [
        "## Now use your knowledge and implement gradient boosting"
      ]
    },
    {
      "cell_type": "markdown",
      "metadata": {
        "id": "G_Kh_wQviKyv",
        "colab_type": "text"
      },
      "source": [
        "# Task 1 (6 points)\n",
        "\n",
        "Implement GradientBoostingRegressor as it was described in your lectures:\n",
        "\n",
        "**Input**: training dataset $(x_{i},y_{i}),\\,i=1,2,...N$; loss function $\\mathcal{L}(f,y)$; learning rate $\\nu$ and the number $M$ of successive additive approximations.\n",
        "\n",
        "1. Fit initial approximation $f_{0}(x)$ (might be taken $f_{0}(x)\\equiv0$)\n",
        "2. For each step $m=1,2,...M$:\n",
        "\n",
        "    1. calculate derivatives $z_{i}=-\\frac{\\partial\\mathcal{L}(r,y_{i})}{\\partial r}|_{r=f^{m-1}(x_{i})}$\n",
        "    2. fit $h_{m}$ to $\\{(x_{i},z_{i})\\}_{i=1}^{N}$, for example by solving\n",
        "$$\n",
        "\\sum_{n=1}^{N}(h_{m}(x_{n})-z_{n})^{2}\\to\\min_{h_{m}}\n",
        "$$\n",
        "    4. set $f_{m}(x)=f_{m-1}(x)+\\nu h_{m}(x)$\n",
        "\n",
        "\n",
        "**Output**: approximation function $f_{M}(x)=f_{0}(x)+\\sum_{m=1}^{M}\\nu h_{m}(x)$\n",
        "\n",
        "Implement three loss functions:\n",
        "\n",
        "    1 MSE\n",
        "    2 Huber loss(https://en.wikipedia.org/wiki/Huber_loss)\n",
        "    3 log_loss (in this case we solve classification task\n",
        "In our case $h_m$ is DecisionTreeRegressor"
      ]
    },
    {
      "cell_type": "code",
      "metadata": {
        "id": "cnqTwcAAiKyw",
        "colab_type": "code",
        "colab": {}
      },
      "source": [
        "from sklearn.tree import DecisionTreeRegressor"
      ],
      "execution_count": null,
      "outputs": []
    },
    {
      "cell_type": "code",
      "metadata": {
        "id": "hmSuP4t2iKyy",
        "colab_type": "code",
        "colab": {}
      },
      "source": [
        "# You need to modify this class #\n",
        "\n",
        "class GradientBoostingEstimator(object):\n",
        "\n",
        "    def __init__(self, n_estimators=10, max_depth = 3, max_leaf_nodes = 8, n_subset_features = 5, random_state = 42,\n",
        "                 loss = 'mse', learning_rate=0.1):\n",
        "        \"\"\"\n",
        "        This is your random forest classifier.\n",
        "        \n",
        "        Parameters\n",
        "        ----------\n",
        "        n_estimators : int\n",
        "            Number of estimators to train.\n",
        "        max_depth : int\n",
        "            max_depth of DecisionTreeRegressor\n",
        "        max_leaf_nodes:\n",
        "            max_leaf_nodes of DecisionTreeRegressor\n",
        "        n_subset_features : int\n",
        "            Number of random features to used to train a decision tree\n",
        "        random_state : int\n",
        "            random_state for decision tree\n",
        "        loss : str\n",
        "            Loss. Possible values : mse, hl, logloss\n",
        "        learning_rate : float\n",
        "            learning_rate (coef for next estimator on each step)\n",
        "        \"\"\"\n",
        "\n",
        "\n",
        "        self.n_estimators = n_estimators\n",
        "        self.learning_rate = learning_rate\n",
        "        self.estimators = []\n",
        "        self.base_estimator = DecisionTreeRegressor(max_depth = max_depth, max_leaf_nodes = max_leaf_nodes, max_features=n_subset_features, random_state = 42)\n",
        "        self.loss = loss\n",
        "\n",
        "    def fit(self, X, y):\n",
        "        \"\"\"\n",
        "        Fit the classifier.\n",
        "        \n",
        "        Parameters\n",
        "        ----------\n",
        "        X : numpy.array, shape = (n_objects, n_features)\n",
        "            Matrix of objects that are described by their input features.\n",
        "        y : numpy.array, shape = (n_objects)\n",
        "            1D array with the object labels. \n",
        "            For the classification labels are integers in {0, 1, 2, ...}.\n",
        "        \"\"\"\n",
        "        from sklearn.base import clone\n",
        "        \n",
        "        r = np.zeros(shape=X.shape[0])\n",
        "        \n",
        "       \n",
        "        for i in range(self.n_estimators):\n",
        "\n",
        "          base_estimator = clone(self.base_estimator)\n",
        "            \n",
        "          fitted_estimator = step(X, y, r, base_estimator, loss = self.loss)\n",
        "\n",
        "          self.estimators.append(fitted_estimator)\n",
        "\n",
        "          r_new = fitted_estimator.predict(X)\n",
        "\n",
        "          r = r + self.learning_rate*r_new\n",
        "       \n",
        "\n",
        "          \n",
        "        \n",
        "        \n",
        "            \n",
        "    def predict(self, X):\n",
        "        \"\"\"\n",
        "        This methods performs labels prediction for new objects.\n",
        "        \n",
        "        Parameters\n",
        "        ----------\n",
        "        X : numpy.array, shape = (n_objects, n_features)\n",
        "            Matrix of objects that are described by their input features.\n",
        "            \n",
        "        Returns\n",
        "        -------\n",
        "        labels : numpy.array, shape = (n_objects)\n",
        "            1D array with predicted labels. \n",
        "            For the classification labels are integers in {0, 1, 2, ...}.\n",
        "        \"\"\"\n",
        "        prediction = np.zeros(shape=X.shape[0])\n",
        "\n",
        "        if self.loss=='mse' or self.loss=='hl':\n",
        "          for estimator in self.estimators:\n",
        "              prediction += self.learning_rate*estimator.predict(X)\n",
        "          return prediction\n",
        "\n",
        "\n",
        "          \n",
        "        \n",
        "        elif self.loss=='logloss':\n",
        "          for estimator in self.estimators:\n",
        "            prediction += self.learning_rate*(1/(1+np.exp(estimator.predict(X))))\n",
        "          return np.where(1/(1+np.exp(prediction))>0.5, 1,0) \n",
        "\n",
        "\n",
        "    \n",
        "    def predict_proba(self, X):\n",
        "        \"\"\"\n",
        "        This methods performs probabilities prediction for new objects.\n",
        "        \n",
        "        Parameters\n",
        "        ----------\n",
        "        X : numpy.array, shape = (n_objects, n_features)\n",
        "            Matrix of objects that are described by their input features.\n",
        "            \n",
        "        Returns\n",
        "        -------\n",
        "        proba : numpy.array, shape = (n_objects, n_classes)\n",
        "            Array with predicted probabilities. \n",
        "        \"\"\"\n",
        "        prediction = np.zeros(shape=X.shape[0])\n",
        "\n",
        "        for estimator in self.estimators:\n",
        "\n",
        "           prediction += self.learning_rate*1/(1+np.exp(estimator.predict(X)))\n",
        "\n",
        "        return 1/(1 + np.exp(prediction))\n"
      ],
      "execution_count": null,
      "outputs": []
    },
    {
      "cell_type": "markdown",
      "metadata": {
        "id": "qgtKkx3TiKy1",
        "colab_type": "text"
      },
      "source": [
        "### Important\n",
        "When you select `learning_rate` and `n_estimators`, follow the default values of the tree parameters"
      ]
    },
    {
      "cell_type": "markdown",
      "metadata": {
        "id": "xTPxbkC6iKy1",
        "colab_type": "text"
      },
      "source": [
        "# Task 2 (2 points)\n",
        "\n",
        "Split your data on train, valid sample (fix random_seed). Choose the best `learning_rate` and `n_estimators` for every loss (for logloss use data from previous HW). For regression task (mse_loss, huber_loss) use MSE on valid sample as quality measure to choose optimal params, for classification task (logloss) use ROC-AUC."
      ]
    },
    {
      "cell_type": "code",
      "metadata": {
        "id": "VlUjSWfHJzg-",
        "colab_type": "code",
        "colab": {}
      },
      "source": [
        "from sklearn.model_selection import train_test_split\n",
        "from sklearn.metrics import roc_auc_score, mean_squared_error\n",
        "from sklearn.model_selection import GridSearchCV\n",
        "from sklearn.metrics import make_scorer"
      ],
      "execution_count": null,
      "outputs": []
    },
    {
      "cell_type": "code",
      "metadata": {
        "id": "5A-18GpXKYSa",
        "colab_type": "code",
        "colab": {}
      },
      "source": [
        "X_train, X_valid, y_train, y_valid = train_test_split(X, y, random_state=42, test_size=0.2)"
      ],
      "execution_count": null,
      "outputs": []
    },
    {
      "cell_type": "code",
      "metadata": {
        "id": "X-Ax3Y1HKVc6",
        "colab_type": "code",
        "colab": {
          "base_uri": "https://localhost:8080/",
          "height": 54
        },
        "outputId": "dcdfe354-990f-49c9-ba81-1dbfddf5ea64"
      },
      "source": [
        "results = {}\n",
        "best = (float('inf'), None)\n",
        "for i in np.arange(50, 300, 10):\n",
        "  reg = GradientBoostingEstimator(n_estimators=i, loss='mse')\n",
        "  reg.fit(X_train, y_train)\n",
        "  mse = mean_squared_error(y_valid, reg.predict(X_valid))\n",
        "  results[i] = mse\n",
        "  if mse< best[0]:\n",
        "    best = (mse, i)\n",
        "\n",
        "print(results)"
      ],
      "execution_count": null,
      "outputs": [
        {
          "output_type": "stream",
          "text": [
            "{50: 0.2918149466192171, 60: 0.2918149466192171, 70: 0.2918149466192171, 80: 0.2918149466192171, 90: 0.2918149466192171, 100: 0.2918149466192171, 110: 0.2918149466192171, 120: 0.2918149466192171, 130: 0.2918149466192171, 140: 0.2918149466192171, 150: 0.2918149466192171, 160: 0.2918149466192171, 170: 0.2922103598260182, 180: 0.29240806642941874, 190: 0.2926057730328193, 200: 0.2926057730328193, 210: 0.29280347963621983, 220: 0.29280347963621983, 230: 0.2930011862396204, 240: 0.2930011862396204, 250: 0.29280347963621983, 260: 0.29280347963621983, 270: 0.29280347963621983, 280: 0.29280347963621983, 290: 0.29280347963621983}\n"
          ],
          "name": "stdout"
        }
      ]
    },
    {
      "cell_type": "markdown",
      "metadata": {
        "id": "lYLBp9zDShYi",
        "colab_type": "text"
      },
      "source": [
        "Best number of estimators for MSE"
      ]
    },
    {
      "cell_type": "code",
      "metadata": {
        "id": "f21DnfEVPu-3",
        "colab_type": "code",
        "colab": {
          "base_uri": "https://localhost:8080/",
          "height": 34
        },
        "outputId": "119fdf83-dfad-42dd-888f-f9c50ccfea51"
      },
      "source": [
        "best "
      ],
      "execution_count": null,
      "outputs": [
        {
          "output_type": "execute_result",
          "data": {
            "text/plain": [
              "(9.677064465095649, 100)"
            ]
          },
          "metadata": {
            "tags": []
          },
          "execution_count": 460
        }
      ]
    },
    {
      "cell_type": "code",
      "metadata": {
        "id": "yWlAWSIUNeMa",
        "colab_type": "code",
        "colab": {
          "base_uri": "https://localhost:8080/",
          "height": 54
        },
        "outputId": "3368a711-c097-4f22-b244-1a6560a3e57f"
      },
      "source": [
        "results = {}\n",
        "best = (float('inf'), None)\n",
        "for i in np.append(np.arange(0.005, 1, 0.01), np.array([0.1,0.2,0.3])):\n",
        "  reg = GradientBoostingEstimator(n_estimators=100, learning_rate=i, loss='mse')\n",
        "  reg.fit(X_train, y_train)\n",
        "  mse = mean_squared_error(y_valid, reg.predict(X_valid))\n",
        "  results[i] = mse\n",
        "  if mse< best[0]:\n",
        "    best = (mse, i)\n",
        "\n",
        "print(results)"
      ],
      "execution_count": null,
      "outputs": [
        {
          "output_type": "stream",
          "text": [
            "{0.005: 235.2674286365268, 0.015: 50.51704919646147, 0.024999999999999998: 18.247595801127776, 0.034999999999999996: 16.32297898585152, 0.04499999999999999: 12.22624823620786, 0.054999999999999986: 12.348928030072184, 0.06499999999999999: 12.676438166102393, 0.075: 15.345701687424457, 0.08499999999999999: 9.910537974346726, 0.09499999999999999: 18.12562586445554, 0.10499999999999998: 15.7115812214083, 0.11499999999999999: 15.215029608324441, 0.12499999999999999: 10.104706326951556, 0.13499999999999998: 18.62837418243543, 0.145: 16.31014956911653, 0.15499999999999997: 13.375733333937863, 0.16499999999999998: 15.687075496169275, 0.175: 10.679062346668072, 0.18499999999999997: 9.991985918869338, 0.19499999999999998: 16.323750202044046, 0.20499999999999996: 16.49580743905389, 0.21499999999999997: 12.024596380901025, 0.22499999999999998: 14.173597988422257, 0.23499999999999996: 10.303366113630899, 0.24499999999999997: 10.178479248934227, 0.25499999999999995: 12.080178395286678, 0.26499999999999996: 19.355152356250386, 0.27499999999999997: 10.931062428286234, 0.285: 16.4011981768203, 0.295: 14.064904373187284, 0.30499999999999994: 11.320439047450709, 0.31499999999999995: 12.903245309349375, 0.32499999999999996: 14.533594296191566, 0.33499999999999996: 14.186896073868516, 0.345: 14.670168456561802, 0.3549999999999999: 18.633389013567516, 0.36499999999999994: 18.4920207393529, 0.37499999999999994: 19.983820735665606, 0.38499999999999995: 16.768356009029606, 0.39499999999999996: 17.168883981407095, 0.4049999999999999: 15.240998967992724, 0.4149999999999999: 15.783902887551639, 0.42499999999999993: 20.825817178010613, 0.43499999999999994: 16.318999995030133, 0.44499999999999995: 18.644374839163234, 0.45499999999999996: 18.124126911075585, 0.4649999999999999: 18.122466987728323, 0.4749999999999999: 22.21285199422108, 0.48499999999999993: 18.40884493921781, 0.49499999999999994: 15.479547936173116, 0.5049999999999999: 20.228614660299108, 0.5149999999999999: 16.980474445944658, 0.5249999999999999: 16.67168991222883, 0.5349999999999999: 16.439604470379795, 0.5449999999999999: 16.47127341285423, 0.5549999999999999: 18.50084460135217, 0.565: 18.70022876015798, 0.575: 23.39032706156906, 0.585: 24.221806677499035, 0.5949999999999999: 22.094600315036914, 0.6049999999999999: 21.326803031846403, 0.6149999999999999: 22.75468719931669, 0.6249999999999999: 22.131965789328312, 0.6349999999999999: 28.78576700210755, 0.6449999999999999: 27.655352624333847, 0.6549999999999999: 24.86573047492679, 0.6649999999999999: 24.72758098238355, 0.6749999999999999: 25.719206318527142, 0.6849999999999999: 25.623037191892983, 0.695: 22.62472212191135, 0.7049999999999998: 24.572186091033124, 0.7149999999999999: 22.32998661974818, 0.7249999999999999: 25.04818777968706, 0.7349999999999999: 26.144213069801978, 0.7449999999999999: 26.857563801267432, 0.7549999999999999: 24.077879777727045, 0.7649999999999999: 24.35132048324101, 0.7749999999999999: 22.973726877317024, 0.7849999999999999: 19.92401501086553, 0.7949999999999999: 24.240145102709395, 0.8049999999999998: 23.26822427880594, 0.8149999999999998: 20.089623313686516, 0.8249999999999998: 25.187751092156358, 0.8349999999999999: 33.41220335530725, 0.8449999999999999: 34.023299956964905, 0.8549999999999999: 35.15010464263868, 0.8649999999999999: 33.7061400775281, 0.8749999999999999: 39.09631927337035, 0.8849999999999999: 26.370509575660396, 0.8949999999999999: 35.17361831012102, 0.9049999999999999: 28.707056574739532, 0.9149999999999998: 39.90618453215872, 0.9249999999999998: 26.55249099728861, 0.9349999999999998: 23.620488169406713, 0.9449999999999998: 23.680006868981245, 0.9549999999999998: 23.154390198534962, 0.9649999999999999: 38.69742535628886, 0.9749999999999999: 27.349072166274773, 0.9849999999999999: 46.18649194817929, 0.9949999999999999: 34.40764164042888, 0.1: 9.677064465095649, 0.2: 15.750755070158768, 0.3: 19.904243887906024}\n"
          ],
          "name": "stdout"
        }
      ]
    },
    {
      "cell_type": "markdown",
      "metadata": {
        "id": "W7y-Z-dMSSPA",
        "colab_type": "text"
      },
      "source": [
        "Best learning rate for mse"
      ]
    },
    {
      "cell_type": "code",
      "metadata": {
        "id": "GA5J5Dq9QJcb",
        "colab_type": "code",
        "colab": {
          "base_uri": "https://localhost:8080/",
          "height": 34
        },
        "outputId": "23da15ba-3c4e-4f7a-ab36-a218f2601acf"
      },
      "source": [
        "best"
      ],
      "execution_count": null,
      "outputs": [
        {
          "output_type": "execute_result",
          "data": {
            "text/plain": [
              "(9.677064465095649, 0.1)"
            ]
          },
          "metadata": {
            "tags": []
          },
          "execution_count": 462
        }
      ]
    },
    {
      "cell_type": "code",
      "metadata": {
        "id": "-tt1j2UPQ-NV",
        "colab_type": "code",
        "colab": {
          "base_uri": "https://localhost:8080/",
          "height": 54
        },
        "outputId": "bbc06611-6dd4-4faa-cad3-42fb647dd6c2"
      },
      "source": [
        "results = {}\n",
        "best = (float('inf'), None)\n",
        "for i in np.arange(50, 300, 10):\n",
        "  reg = GradientBoostingEstimator(n_estimators=i, loss='hl')\n",
        "  reg.fit(X_train, y_train)\n",
        "  mse = mean_squared_error(y_valid, reg.predict(X_valid))\n",
        "  results[i] = mse\n",
        "  if mse< best[0]:\n",
        "    best = (mse, i)\n",
        "\n",
        "print(results)"
      ],
      "execution_count": null,
      "outputs": [
        {
          "output_type": "stream",
          "text": [
            "{50: 391.8242260777612, 60: 358.0650419888635, 70: 326.2968079264424, 80: 296.54505092988177, 90: 268.8169114744145, 100: 243.05273164915744, 110: 219.072430898623, 120: 197.01129517381213, 130: 176.8904801426696, 140: 158.8884448651366, 150: 142.6757029366815, 160: 128.4522282693278, 170: 115.58409429776023, 180: 104.24103037321824, 190: 94.72128879023894, 200: 86.06149452659838, 210: 79.45696019455073, 220: 72.96422820231679, 230: 66.22528106695735, 240: 60.33568203138516, 250: 55.40060214331693, 260: 50.60549825817814, 270: 46.717231619026656, 280: 43.17104382939798, 290: 39.778317232560546}\n"
          ],
          "name": "stdout"
        }
      ]
    },
    {
      "cell_type": "markdown",
      "metadata": {
        "id": "Lsml8_RKSXqn",
        "colab_type": "text"
      },
      "source": [
        "Best number of estimators huber"
      ]
    },
    {
      "cell_type": "code",
      "metadata": {
        "id": "tlX66XglRDoo",
        "colab_type": "code",
        "colab": {
          "base_uri": "https://localhost:8080/",
          "height": 34
        },
        "outputId": "1372aff4-bd41-4a12-f881-2c8b019a60e3"
      },
      "source": [
        "best"
      ],
      "execution_count": null,
      "outputs": [
        {
          "output_type": "execute_result",
          "data": {
            "text/plain": [
              "(39.778317232560546, 290)"
            ]
          },
          "metadata": {
            "tags": []
          },
          "execution_count": 499
        }
      ]
    },
    {
      "cell_type": "code",
      "metadata": {
        "id": "HmFdO_DUQ-WB",
        "colab_type": "code",
        "colab": {
          "base_uri": "https://localhost:8080/",
          "height": 54
        },
        "outputId": "0c018480-5934-4d9f-e7b0-d08019985a10"
      },
      "source": [
        "results = {}\n",
        "best = (float('inf'), None)\n",
        "for i in np.arange(0.005, 0.2, 0.001):\n",
        "  reg = GradientBoostingEstimator(n_estimators=290, learning_rate=i, loss='hl')\n",
        "  reg.fit(X_train, y_train)\n",
        "  mse = mean_squared_error(y_valid, reg.predict(X_valid))\n",
        "  results[i] = mse\n",
        "  if mse< best[0]:\n",
        "    best = (mse, i)\n",
        "\n",
        "print(results)"
      ],
      "execution_count": null,
      "outputs": [
        {
          "output_type": "stream",
          "text": [
            "{0.005: 527.7759328358212, 0.006: 515.7246149253731, 0.007: 503.841497014926, 0.008: 492.12657910447757, 0.009000000000000001: 480.57986119403057, 0.01: 469.20134328358284, 0.011: 457.9910253731341, 0.012: 446.94890746268646, 0.013000000000000001: 436.07498955223946, 0.014000000000000002: 425.369271641792, 0.015: 414.83175373134327, 0.016: 404.4624413048579, 0.017: 394.26144878369223, 0.018000000000000002: 384.2277407948522, 0.019: 374.3604028678765, 0.02: 364.6589772253966, 0.021: 355.12324798180373, 0.022000000000000002: 345.75533051353773, 0.023000000000000003: 336.5591510399302, 0.024: 327.5302982366044, 0.025: 318.66699363727673, 0.026000000000000002: 309.9691416755569, 0.027: 301.4633276242015, 0.028: 293.1317560401332, 0.029: 284.9647226668434, 0.030000000000000002: 276.94419164632524, 0.031000000000000003: 269.08786869274826, 0.032: 261.406655329802, 0.033: 253.89237837114754, 0.034: 246.54269595782367, 0.034999999999999996: 239.31818172378897, 0.036: 232.2327846770494, 0.037: 225.31429039611035, 0.038: 218.63706147592717, 0.039: 212.0445421941619, 0.04: 205.62686573664692, 0.041: 199.36298155055368, 0.041999999999999996: 193.27771327800596, 0.043: 187.34237466494315, 0.044: 181.57921964362336, 0.045: 175.96007808347784, 0.046: 170.4976542163506, 0.047: 165.24493617496196, 0.048: 160.22923098463258, 0.048999999999999995: 155.40838020203995, 0.049999999999999996: 150.6482311100443, 0.051: 146.00228576328678, 0.052: 141.45922801519646, 0.053: 137.22801587671827, 0.054: 133.13802870912951, 0.055: 129.08097062915206, 0.056: 125.23702539535485, 0.057: 121.40884252197918, 0.057999999999999996: 117.86079611053707, 0.059: 114.36043178118248, 0.06: 110.94148838871125, 0.061: 107.74867384090696, 0.062: 104.60857492314132, 0.063: 101.62407339444674, 0.064: 98.74618329326913, 0.065: 96.18372050782425, 0.066: 93.37183110386285, 0.067: 90.9175541086663, 0.068: 88.57568681661964, 0.069: 86.36088222278374, 0.07: 84.02093779363501, 0.07100000000000001: 82.35997613285998, 0.07200000000000001: 80.15447698271414, 0.07300000000000001: 78.10469791747667, 0.07400000000000001: 76.37653622427818, 0.07500000000000001: 74.84566556497074, 0.07600000000000001: 72.54861192832462, 0.07700000000000001: 70.90133283320931, 0.078: 68.82669881776559, 0.079: 66.75784943542311, 0.08: 64.96602231513276, 0.081: 63.782656692388095, 0.082: 61.37211684223693, 0.083: 60.1497117460064, 0.084: 58.487331037110586, 0.085: 57.48797775432934, 0.08600000000000001: 55.850651400736645, 0.08700000000000001: 54.41697133103927, 0.08800000000000001: 52.55115537598698, 0.08900000000000001: 51.3989034953928, 0.09000000000000001: 50.249369761176816, 0.09100000000000001: 49.060240820181846, 0.09200000000000001: 48.14493372634611, 0.093: 46.75854189728329, 0.094: 45.6053035358248, 0.095: 44.428490201654945, 0.096: 43.72463782080406, 0.097: 42.631627366295056, 0.098: 41.87874119549909, 0.099: 40.992673104305545, 0.1: 39.778317232560546, 0.101: 39.022593175895125, 0.10200000000000001: 37.798967901847604, 0.10300000000000001: 36.81856278536172, 0.10400000000000001: 36.00257896015951, 0.10500000000000001: 34.965928346512854, 0.10600000000000001: 34.16152423033686, 0.10700000000000001: 32.71612999788374, 0.10800000000000001: 32.77778373847423, 0.10900000000000001: 31.07062751345468, 0.11: 30.860406966118894, 0.111: 29.897984261424707, 0.112: 29.175983305453034, 0.113: 28.982400581340805, 0.114: 28.14602565833496, 0.115: 27.59895209444859, 0.116: 27.741540537458008, 0.117: 27.442440395543862, 0.11800000000000001: 26.836493036851476, 0.11900000000000001: 26.894679361646496, 0.12000000000000001: 26.052866814036456, 0.12100000000000001: 26.126549929296736, 0.12200000000000001: 25.830867055089367, 0.12300000000000001: 25.491669412733877, 0.12400000000000001: 24.74375116990207, 0.125: 24.27518741816785, 0.126: 23.92183748317098, 0.127: 23.039711961112648, 0.128: 22.35114193819639, 0.129: 22.15301213178771, 0.13: 21.85489964106271, 0.131: 21.448873579154213, 0.132: 20.433731476955206, 0.133: 20.2966900944197, 0.134: 19.881875890608587, 0.135: 19.578954574694656, 0.136: 19.612551921435703, 0.137: 19.087972089565945, 0.138: 18.97866668490899, 0.139: 18.60266241381275, 0.14: 18.138487922930615, 0.14100000000000001: 17.90449975798579, 0.14200000000000002: 18.55248172076821, 0.14300000000000002: 17.713266613914335, 0.14400000000000002: 17.33737237427976, 0.14500000000000002: 16.67888607591412, 0.14600000000000002: 16.710958607638077, 0.14700000000000002: 16.989169784743286, 0.14800000000000002: 16.13219628931351, 0.14900000000000002: 14.808394319357275, 0.15: 15.004316807624317, 0.151: 15.102047460153356, 0.152: 15.25286069585565, 0.153: 14.464639987154941, 0.154: 13.894637963509007, 0.155: 14.2672434870428, 0.156: 13.928190713110576, 0.157: 14.78049214722327, 0.158: 16.210240708759954, 0.159: 14.400782250271945, 0.16: 14.30547029054164, 0.161: 14.964065758199839, 0.162: 13.935216085142304, 0.163: 13.931456076449098, 0.164: 14.03261760261029, 0.165: 14.440441687145716, 0.166: 14.312443784751315, 0.167: 13.810849018089394, 0.168: 14.284604144058164, 0.169: 13.493961218597878, 0.17: 15.121007357307537, 0.171: 14.65414165228067, 0.17200000000000001: 14.02266149501869, 0.17300000000000001: 15.109264261738435, 0.17400000000000002: 14.766382351525248, 0.17500000000000002: 14.460898763691715, 0.17600000000000002: 14.981948408967336, 0.17700000000000002: 14.96497868730242, 0.17800000000000002: 14.68180575252949, 0.17900000000000002: 14.17671116457132, 0.18000000000000002: 14.212608405140314, 0.181: 13.510210647682788, 0.182: 14.950669996676545, 0.183: 15.841976879753984, 0.184: 14.523497743634968, 0.185: 14.917527546893552, 0.186: 15.262151997758346, 0.187: 14.073897824827002, 0.188: 16.700236813192753, 0.189: 13.437981349352189, 0.19: 16.11993835318222, 0.191: 15.25523195374982, 0.192: 16.056192203470157, 0.193: 15.523212343141529, 0.194: 15.36141757479571, 0.195: 15.635777702372307, 0.196: 15.966138517764469, 0.197: 16.259335553845695, 0.198: 16.86572903600876, 0.199: 16.066834324448017}\n"
          ],
          "name": "stdout"
        }
      ]
    },
    {
      "cell_type": "markdown",
      "metadata": {
        "id": "H3S1wiSnSp8T",
        "colab_type": "text"
      },
      "source": [
        "Best learning rate Huber"
      ]
    },
    {
      "cell_type": "code",
      "metadata": {
        "id": "8AVu8JU1XEPa",
        "colab_type": "code",
        "colab": {
          "base_uri": "https://localhost:8080/",
          "height": 34
        },
        "outputId": "a51dae71-a61a-45f6-9467-a313359755ef"
      },
      "source": [
        "best"
      ],
      "execution_count": null,
      "outputs": [
        {
          "output_type": "execute_result",
          "data": {
            "text/plain": [
              "(13.437981349352189, 0.189)"
            ]
          },
          "metadata": {
            "tags": []
          },
          "execution_count": 497
        }
      ]
    },
    {
      "cell_type": "code",
      "metadata": {
        "id": "m75UTLz-Zjv8",
        "colab_type": "code",
        "colab": {}
      },
      "source": [
        "X = pd.read_csv('https://raw.githubusercontent.com/shestakoff/hse_se_ml/master/2020/s10-ensembles/data/x_train.csv', sep=';')\n",
        "y = pd.read_csv('https://raw.githubusercontent.com/shestakoff/hse_se_ml/master/2020/s10-ensembles/data/y_train.csv', sep=';', header=None, names=['target'])\n",
        "X = X.values\n",
        "y = y['target'].values\n",
        "X_train_, X_val_, y_train_, y_val_ = train_test_split(X, y, \n",
        "                                                    test_size=0.3,    \n",
        "                                                    random_state=42)"
      ],
      "execution_count": null,
      "outputs": []
    },
    {
      "cell_type": "code",
      "metadata": {
        "id": "jfosZ9iMSDWH",
        "colab_type": "code",
        "colab": {
          "base_uri": "https://localhost:8080/",
          "height": 54
        },
        "outputId": "304a4e6a-6ba2-4b7d-9e3c-30a5afb0578a"
      },
      "source": [
        "results = {}\n",
        "best = (float('-inf'), None)\n",
        "for i in np.arange(50, 300, 10):\n",
        "  clf = GradientBoostingEstimator(n_estimators=i, loss='logloss')\n",
        "  clf.fit(X_train_, y_train_)\n",
        "  roc_auc = roc_auc_score(y_val_, clf.predict_proba(X_val_))\n",
        "  results[i] = roc_auc\n",
        "  if roc_auc> best[0]:\n",
        "    best = (roc_auc, i)\n",
        "\n",
        "print(results)"
      ],
      "execution_count": null,
      "outputs": [
        {
          "output_type": "stream",
          "text": [
            "{50: 0.8823157604728654, 60: 0.8827230584051291, 70: 0.8830633693089374, 80: 0.883343874865711, 90: 0.8836332840275205, 100: 0.8840584731661304, 110: 0.884343304531011, 120: 0.8843696373628864, 130: 0.8844982776564032, 140: 0.8846203662405536, 150: 0.8846291018530419, 160: 0.8845313301901927, 170: 0.884539981806407, 180: 0.8845443916107881, 190: 0.88457727615203, 200: 0.8845802580197543, 210: 0.8847537523235469, 220: 0.8848198153929892, 230: 0.8848547578429421, 240: 0.8848718930828228, 250: 0.8849834821327326, 260: 0.8850447994126982, 270: 0.8850798678570618, 280: 0.8851222439772571, 290: 0.8851761695851172}\n"
          ],
          "name": "stdout"
        }
      ]
    },
    {
      "cell_type": "markdown",
      "metadata": {
        "id": "gJcO40PPjOLg",
        "colab_type": "text"
      },
      "source": [
        "Best number of estimators for logloss"
      ]
    },
    {
      "cell_type": "code",
      "metadata": {
        "id": "4Rj-C7j1lNDB",
        "colab_type": "code",
        "colab": {
          "base_uri": "https://localhost:8080/",
          "height": 34
        },
        "outputId": "3010b013-a853-4e55-8fbb-ac93e09360b5"
      },
      "source": [
        "best"
      ],
      "execution_count": null,
      "outputs": [
        {
          "output_type": "execute_result",
          "data": {
            "text/plain": [
              "(0.8851761695851172, 290)"
            ]
          },
          "metadata": {
            "tags": []
          },
          "execution_count": 556
        }
      ]
    },
    {
      "cell_type": "code",
      "metadata": {
        "id": "34vkQLmVSDeN",
        "colab_type": "code",
        "colab": {
          "base_uri": "https://localhost:8080/",
          "height": 54
        },
        "outputId": "685fb390-388d-4228-e3c4-b281ee23638c"
      },
      "source": [
        "results = {}\n",
        "best = (float('-inf'), None)\n",
        "for i in np.arange(0.005, 0.2, 0.01):\n",
        "  clf = GradientBoostingEstimator(n_estimators=290, learning_rate=i, loss='logloss')\n",
        "  clf.fit(X_train_, y_train_)\n",
        "  roc_auc = roc_auc_score(y_val_, clf.predict_proba(X_val_))\n",
        "  results[i] = roc_auc\n",
        "  if roc_auc> best[0]:\n",
        "    best = (roc_auc, i)\n",
        "\n",
        "print(results)"
      ],
      "execution_count": null,
      "outputs": [
        {
          "output_type": "stream",
          "text": [
            "{0.005: 0.8756004683632234, 0.015: 0.8821368064112676, 0.024999999999999998: 0.8831731104408207, 0.034999999999999996: 0.8841461652761085, 0.04499999999999999: 0.8844868541631493, 0.054999999999999986: 0.8845866837347094, 0.06499999999999999: 0.8847416568601016, 0.075: 0.8847793291889572, 0.08499999999999999: 0.8850221624168751, 0.09499999999999999: 0.8850647905258924, 0.10499999999999998: 0.8851147263107408, 0.11499999999999999: 0.8852927984114625, 0.12499999999999999: 0.8852539921329089, 0.13499999999999998: 0.8852095161058654, 0.145: 0.8853171153327637, 0.15499999999999997: 0.8855230321982916, 0.16499999999999998: 0.8854004816346346, 0.175: 0.8854119051278886, 0.18499999999999997: 0.885452895309564, 0.19499999999999998: 0.8853499998740055}\n"
          ],
          "name": "stdout"
        }
      ]
    },
    {
      "cell_type": "markdown",
      "metadata": {
        "id": "eYQRM-RzmCKO",
        "colab_type": "text"
      },
      "source": [
        "Best learning rate for logloss"
      ]
    },
    {
      "cell_type": "code",
      "metadata": {
        "id": "NkSlf0oqaEHa",
        "colab_type": "code",
        "colab": {
          "base_uri": "https://localhost:8080/",
          "height": 34
        },
        "outputId": "e948c714-f43e-440b-8643-8dba1cc06a9e"
      },
      "source": [
        "best"
      ],
      "execution_count": null,
      "outputs": [
        {
          "output_type": "execute_result",
          "data": {
            "text/plain": [
              "(0.8855230321982916, 0.15499999999999997)"
            ]
          },
          "metadata": {
            "tags": []
          },
          "execution_count": 559
        }
      ]
    },
    {
      "cell_type": "markdown",
      "metadata": {
        "id": "LQN8QFG7iKy2",
        "colab_type": "text"
      },
      "source": [
        "# Task 3 (1 point)\n",
        "Plot dependecy of loss value (in classification task plot roc-auc score) from `n_estimators` of your boosting. Use `learning_rate=0.1`."
      ]
    },
    {
      "cell_type": "code",
      "metadata": {
        "id": "c_JEd35hTNpM",
        "colab_type": "code",
        "colab": {}
      },
      "source": [
        "from matplotlib import pyplot as plt"
      ],
      "execution_count": null,
      "outputs": []
    },
    {
      "cell_type": "code",
      "metadata": {
        "id": "JTSK5-taSvAg",
        "colab_type": "code",
        "colab": {
          "base_uri": "https://localhost:8080/",
          "height": 313
        },
        "outputId": "e9f1793e-8de4-4c1e-c356-ae461676a5c1"
      },
      "source": [
        "errors = []\n",
        "n_estimators = []\n",
        "for i in np.arange(50, 300, 10):\n",
        "  reg = GradientBoostingEstimator(n_estimators=i,learning_rate=0.1, loss='mse')\n",
        "  reg.fit(X_train, y_train)\n",
        "  mse = mean_squared_error(y_valid, reg.predict(X_valid))\n",
        "  errors.append(mse)\n",
        "  n_estimators.append(i)\n",
        "\n",
        "plt.plot(n_estimators, errors)\n",
        "plt.title('MSE depending on the estimators number')\n",
        "plt.xlabel('n_estimators')\n",
        "plt.ylabel('MSE')"
      ],
      "execution_count": null,
      "outputs": [
        {
          "output_type": "execute_result",
          "data": {
            "text/plain": [
              "Text(0, 0.5, 'MSE')"
            ]
          },
          "metadata": {
            "tags": []
          },
          "execution_count": 481
        },
        {
          "output_type": "display_data",
          "data": {
            "image/png": "[encoded data removed]",
            "text/plain": [
              "<Figure size 432x288 with 1 Axes>"
            ]
          },
          "metadata": {
            "tags": [],
            "needs_background": "light"
          }
        }
      ]
    },
    {
      "cell_type": "code",
      "metadata": {
        "id": "KkEXzcVwUCs4",
        "colab_type": "code",
        "colab": {
          "base_uri": "https://localhost:8080/",
          "height": 313
        },
        "outputId": "8a289f87-a1ab-4f4a-82eb-3aea6e29660f"
      },
      "source": [
        "errors = []\n",
        "n_estimators = []\n",
        "for i in np.arange(50, 300, 10):\n",
        "  reg = GradientBoostingEstimator(n_estimators=i,learning_rate=0.1, loss='hl')\n",
        "  reg.fit(X_train, y_train)\n",
        "  mse = mean_squared_error(y_valid, reg.predict(X_valid))\n",
        "  errors.append(mse)\n",
        "  n_estimators.append(i)\n",
        "\n",
        "plt.plot(n_estimators, errors)\n",
        "plt.title('hl depending on the estimators number')\n",
        "plt.xlabel('n_estimators')\n",
        "plt.ylabel('hl')"
      ],
      "execution_count": null,
      "outputs": [
        {
          "output_type": "execute_result",
          "data": {
            "text/plain": [
              "Text(0, 0.5, 'hl')"
            ]
          },
          "metadata": {
            "tags": []
          },
          "execution_count": 482
        },
        {
          "output_type": "display_data",
          "data": {
            "image/png": "[encoded data removed]",
            "text/plain": [
              "<Figure size 432x288 with 1 Axes>"
            ]
          },
          "metadata": {
            "tags": [],
            "needs_background": "light"
          }
        }
      ]
    },
    {
      "cell_type": "code",
      "metadata": {
        "id": "YMgq1TJslwEi",
        "colab_type": "code",
        "colab": {
          "base_uri": "https://localhost:8080/",
          "height": 313
        },
        "outputId": "b3f1037b-e83e-40b0-ad60-ca76999fcaf4"
      },
      "source": [
        "errors = []\n",
        "n_estimators = []\n",
        "for i in np.arange(50, 300, 10):\n",
        "  cls = GradientBoostingEstimator(n_estimators=i,learning_rate=0.1, loss='logloss')\n",
        "  cls.fit(X_train_, y_train_)\n",
        "  roc_auc = roc_auc_score(y_val_, cls.predict_proba(X_val_))\n",
        "  errors.append(roc_auc)\n",
        "  n_estimators.append(i)\n",
        "\n",
        "plt.plot(n_estimators, errors)\n",
        "plt.title('roc-auc depending on the estimators number')\n",
        "plt.xlabel('n_estimators')\n",
        "plt.ylabel('roc_auc')"
      ],
      "execution_count": null,
      "outputs": [
        {
          "output_type": "execute_result",
          "data": {
            "text/plain": [
              "Text(0, 0.5, 'roc_auc')"
            ]
          },
          "metadata": {
            "tags": []
          },
          "execution_count": 562
        },
        {
          "output_type": "display_data",
          "data": {
            "image/png": "[encoded data removed]",
            "text/plain": [
              "<Figure size 432x288 with 1 Axes>"
            ]
          },
          "metadata": {
            "tags": [],
            "needs_background": "light"
          }
        }
      ]
    },
    {
      "cell_type": "markdown",
      "metadata": {
        "id": "rY4jE3cXiKy3",
        "colab_type": "text"
      },
      "source": [
        "# Task 4 (1 point)\n",
        "Plot dependecy of loss value (in classification task plot roc-auc score) from `learning_rate` of your boosting. Use `n_estimators=100`."
      ]
    },
    {
      "cell_type": "code",
      "metadata": {
        "id": "RTTbKBffVNK4",
        "colab_type": "code",
        "colab": {
          "base_uri": "https://localhost:8080/",
          "height": 312
        },
        "outputId": "b674cdf4-8a9b-47c3-9315-50ef20aac0c6"
      },
      "source": [
        "errors = []\n",
        "lrs = []\n",
        "for i in np.arange(0.005, 0.2, 0.01):\n",
        "  reg = GradientBoostingEstimator(n_estimators=100,learning_rate=i, loss='mse')\n",
        "  reg.fit(X_train, y_train)\n",
        "  mse = mean_squared_error(y_valid, reg.predict(X_valid))\n",
        "  errors.append(mse)\n",
        "  lrs.append(i)\n",
        "\n",
        "plt.plot(lrs, errors)\n",
        "plt.title('MSE depending on the learning rate')\n",
        "plt.xlabel('lr')\n",
        "plt.ylabel('MSE')"
      ],
      "execution_count": null,
      "outputs": [
        {
          "output_type": "execute_result",
          "data": {
            "text/plain": [
              "Text(0, 0.5, 'MSE')"
            ]
          },
          "metadata": {
            "tags": []
          },
          "execution_count": 486
        },
        {
          "output_type": "display_data",
          "data": {
            "image/png": "[encoded data removed]",
            "text/plain": [
              "<Figure size 432x288 with 1 Axes>"
            ]
          },
          "metadata": {
            "tags": [],
            "needs_background": "light"
          }
        }
      ]
    },
    {
      "cell_type": "code",
      "metadata": {
        "id": "GbWBI61gVtQP",
        "colab_type": "code",
        "colab": {
          "base_uri": "https://localhost:8080/",
          "height": 312
        },
        "outputId": "568aed6d-c575-447f-e6ae-60dbab69d324"
      },
      "source": [
        "errors = []\n",
        "lrs = []\n",
        "for i in np.arange(0.005, 0.2, 0.01):\n",
        "  reg = GradientBoostingEstimator(n_estimators=100,learning_rate=i, loss='hl')\n",
        "  reg.fit(X_train, y_train)\n",
        "  mse = mean_squared_error(y_valid, reg.predict(X_valid))\n",
        "  errors.append(mse)\n",
        "  lrs.append(i)\n",
        "\n",
        "plt.plot(lrs, errors)\n",
        "plt.title('hl depending on the learning rate')\n",
        "plt.xlabel('lr')\n",
        "plt.ylabel('hl')"
      ],
      "execution_count": null,
      "outputs": [
        {
          "output_type": "execute_result",
          "data": {
            "text/plain": [
              "Text(0, 0.5, 'hl')"
            ]
          },
          "metadata": {
            "tags": []
          },
          "execution_count": 487
        },
        {
          "output_type": "display_data",
          "data": {
            "image/png": "[encoded data removed]",
            "text/plain": [
              "<Figure size 432x288 with 1 Axes>"
            ]
          },
          "metadata": {
            "tags": [],
            "needs_background": "light"
          }
        }
      ]
    },
    {
      "cell_type": "code",
      "metadata": {
        "id": "LkJajWVkWRPD",
        "colab_type": "code",
        "colab": {
          "base_uri": "https://localhost:8080/",
          "height": 312
        },
        "outputId": "444025ae-7596-453f-c4f0-2e93bf3198d9"
      },
      "source": [
        "errors = []\n",
        "lrs = []\n",
        "for i in np.arange(0.005, 0.2, 0.01):\n",
        "  cls = GradientBoostingEstimator(n_estimators=100,learning_rate=i, loss='logloss')\n",
        "  cls.fit(X_train_, y_train_)\n",
        "  roc_auc = roc_auc_score(y_val_, cls.predict_proba(X_val_))\n",
        "  errors.append(roc_auc)\n",
        "  lrs.append(i)\n",
        "\n",
        "plt.plot(lrs, errors)\n",
        "plt.title('roc-auc depending on the learning rate')\n",
        "plt.xlabel('learning rate')\n",
        "plt.ylabel('roc_auc')"
      ],
      "execution_count": null,
      "outputs": [
        {
          "output_type": "execute_result",
          "data": {
            "text/plain": [
              "Text(0, 0.5, 'roc_auc')"
            ]
          },
          "metadata": {
            "tags": []
          },
          "execution_count": 563
        },
        {
          "output_type": "display_data",
          "data": {
            "image/png": "[encoded data removed]",
            "text/plain": [
              "<Figure size 432x288 with 1 Axes>"
            ]
          },
          "metadata": {
            "tags": [],
            "needs_background": "light"
          }
        }
      ]
    }
  ]
}