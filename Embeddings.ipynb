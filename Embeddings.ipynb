{
  "nbformat": 4,
  "nbformat_minor": 0,
  "metadata": {
    "colab": {
      "name": "Homework_spring_2020_embeddings.ipynb",
      "provenance": [],
      "collapsed_sections": [
        "YFMvZ8BV5a4o",
        "7eqgzVF85a51"
      ],
      "machine_shape": "hm"
    },
    "kernelspec": {
      "name": "python3",
      "display_name": "Python 3"
    },
    "accelerator": "GPU"
  },
  "cells": [
    {
      "cell_type": "markdown",
      "metadata": {
        "colab_type": "text",
        "id": "Ot3c4fjZwC4T"
      },
      "source": [
        "<img src=\"https://s8.hostingkartinok.com/uploads/images/2018/08/308b49fcfbc619d629fe4604bceb67ac.jpg\" width=500, height=450>\n",
        "<h3 style=\"text-align: center;\"><b>Физтех-Школа Прикладной математики и информатики (ФПМИ) МФТИ</b></h3>"
      ]
    },
    {
      "cell_type": "code",
      "metadata": {
        "id": "dHHOJrFoaRrS",
        "colab_type": "code",
        "outputId": "d95de424-37b6-4da3-a0c4-130ceffc7c3d",
        "colab": {
          "base_uri": "https://localhost:8080/",
          "height": 169
        }
      },
      "source": [
        "from google.colab import drive\n",
        "drive.mount('/content/drive')"
      ],
      "execution_count": 0,
      "outputs": [
        {
          "output_type": "stream",
          "text": [
            "Go to this URL in a browser: https://accounts.google.com/o/oauth2/auth?client_id=947318989803-6bn6qk8qdgf4n4g3pfee6491hc0brc4i.apps.googleusercontent.com&redirect_uri=urn%3aietf%3awg%3aoauth%3a2.0%3aoob&response_type=code&scope=email%20https%3a%2f%2fwww.googleapis.com%2fauth%2fdocs.test%20https%3a%2f%2fwww.googleapis.com%2fauth%2fdrive%20https%3a%2f%2fwww.googleapis.com%2fauth%2fdrive.photos.readonly%20https%3a%2f%2fwww.googleapis.com%2fauth%2fpeopleapi.readonly\n",
            "\n",
            "Enter your authorization code:\n",
            "··········\n",
            "Mounted at /content/drive\n"
          ],
          "name": "stdout"
        }
      ]
    },
    {
      "cell_type": "markdown",
      "metadata": {
        "id": "nPWDLqBJ5a3M",
        "colab_type": "text"
      },
      "source": [
        "<b> Прочитайте семинар, пожалуйста, для успешного выполнения домашнего задания"
      ]
    },
    {
      "cell_type": "markdown",
      "metadata": {
        "id": "TWRRBc7Z5a3O",
        "colab_type": "text"
      },
      "source": [
        "## Задача поиска схожих по смыслу предложений"
      ]
    },
    {
      "cell_type": "markdown",
      "metadata": {
        "id": "t9Ov8-7a5a3Q",
        "colab_type": "text"
      },
      "source": [
        "Мы будем ранжировать вопросы [StackOverflow](https://stackoverflow.com) на основе семантического векторного представления "
      ]
    },
    {
      "cell_type": "markdown",
      "metadata": {
        "id": "dNRXIEfu5a3Q",
        "colab_type": "text"
      },
      "source": [
        "До этого в курсе не было речи про задачу ранжировния, поэтому введем математическую формулировку"
      ]
    },
    {
      "cell_type": "markdown",
      "metadata": {
        "id": "uS9FwWNd5a3S",
        "colab_type": "text"
      },
      "source": [
        "## Задача ранжирования(Learning to Rank)"
      ]
    },
    {
      "cell_type": "markdown",
      "metadata": {
        "id": "wdwY9-f75a3T",
        "colab_type": "text"
      },
      "source": [
        "* $X$ - множество объектов\n",
        "* $X^l = \\{x_1, x_2, ..., x_l\\}$ - обучающая выборка\n",
        "<br>На обучающей выборке задан порядок между некоторыми элементами, то есть нам известно, что некий объект выборки более релевантный для нас, чем другой:\n",
        "* $i \\prec j$ - порядок пары индексов объектов на выборке $X^l$ c индексами $i$ и $j$\n",
        "### Задача:\n",
        "построить ранжирующую функцию $a$ : $X \\rightarrow R$ такую, что\n",
        "$$i \\prec j \\Rightarrow a(x_i) < a(x_j)$$"
      ]
    },
    {
      "cell_type": "markdown",
      "metadata": {
        "id": "WG2IGBsh5a3U",
        "colab_type": "text"
      },
      "source": [
        "<img src=\"https://d25skit2l41vkl.cloudfront.net/wp-content/uploads/2016/12/Featured-Image.jpg\" width=500, height=450>"
      ]
    },
    {
      "cell_type": "markdown",
      "metadata": {
        "id": "Svbx8w905a3V",
        "colab_type": "text"
      },
      "source": [
        "### Данные\n",
        "`test.tsv` - тестовая выборка. В каждой строке через табуляцию записаны: *<вопрос>, <похожий вопрос>, <отрицательный пример 1>, <отрицательный пример 2>, ...*"
      ]
    },
    {
      "cell_type": "markdown",
      "metadata": {
        "id": "5_uw862G5a3W",
        "colab_type": "text"
      },
      "source": [
        "Будем использовать предобученные векторные представления слов [GoogleNews-vectors-negative300](https://drive.google.com/file/d/0B7XkCwpI5KDYNlNUTTlSS21pQmM/edit) (<b>скачаем их</b>), которые были обучены с помощью стандартной модели word2vec на данных Google News (100 миллиардов слов). Модель содержит 300-мерные вектора для 3 миллионов слов и фраз"
      ]
    },
    {
      "cell_type": "markdown",
      "metadata": {
        "id": "IumfhGG55a3Y",
        "colab_type": "text"
      },
      "source": [
        "<b>Загрузим</b> их после <b>скачивания</b> с помощью функции [KeyedVectors.load_word2vec_format](https://radimrehurek.com/gensim/models/keyedvectors.html) библиотеки Gensim, с которой вы познакомились на семинаре. Загрузим только часть векторов, указав параметр *limit* = 500000."
      ]
    },
    {
      "cell_type": "code",
      "metadata": {
        "id": "cSFre1YicTq8",
        "colab_type": "code",
        "outputId": "c21273c2-044b-4744-ab65-10fb1d866458",
        "colab": {
          "base_uri": "https://localhost:8080/",
          "height": 1000
        }
      },
      "source": [
        "! wget -c \"https://s3.amazonaws.com/dl4j-distribution/GoogleNews-vectors-negative300.bin.gz\""
      ],
      "execution_count": 0,
      "outputs": [
        {
          "output_type": "stream",
          "text": [
            "--2020-03-29 18:00:24--  https://s3.amazonaws.com/dl4j-distribution/GoogleNews-vectors-negative300.bin.gz\n",
            "Resolving s3.amazonaws.com (s3.amazonaws.com)... 52.216.242.46\n",
            "Connecting to s3.amazonaws.com (s3.amazonaws.com)|52.216.242.46|:443... connected.\n",
            "HTTP request sent, awaiting response... 200 OK\n",
            "Length: 1647046227 (1.5G) [application/x-gzip]\n",
            "Saving to: ‘GoogleNews-vectors-negative300.bin.gz’\n",
            "\n",
            "GoogleNews-vectors- 100%[===================>]   1.53G  46.1MB/s    in 35s     \n",
            "\n",
            "2020-03-29 18:00:59 (45.3 MB/s) - ‘GoogleNews-vectors-negative300.bin.gz’ saved [1647046227/1647046227]\n",
            "\n"
          ],
          "name": "stdout"
        }
      ]
    },
    {
      "cell_type": "code",
      "metadata": {
        "id": "JpiKBAmJ5a3b",
        "colab_type": "code",
        "colab": {}
      },
      "source": [
        "import gensim"
      ],
      "execution_count": 0,
      "outputs": []
    },
    {
      "cell_type": "code",
      "metadata": {
        "id": "hYd6edVv5a3h",
        "colab_type": "code",
        "outputId": "61e822e7-1b34-434e-9f74-6cd1d5e8b86b",
        "colab": {
          "base_uri": "https://localhost:8080/",
          "height": 111
        }
      },
      "source": [
        "wv_embeddings = gensim.models.KeyedVectors.load_word2vec_format(fname='/content/GoogleNews-vectors-negative300.bin.gz', limit=500000, binary=True)"
      ],
      "execution_count": 0,
      "outputs": [
        {
          "output_type": "stream",
          "text": [
            "/usr/local/lib/python3.6/dist-packages/smart_open/smart_open_lib.py:410: UserWarning: This function is deprecated, use smart_open.open instead. See the migration notes for details: https://github.com/RaRe-Technologies/smart_open/blob/master/README.rst#migrating-to-the-new-open-function\n",
            "  'See the migration notes for details: %s' % _MIGRATION_NOTES_URL\n"
          ],
          "name": "stderr"
        }
      ]
    },
    {
      "cell_type": "markdown",
      "metadata": {
        "id": "IQNIUiSe5a3m",
        "colab_type": "text"
      },
      "source": [
        "### Как пользоваться этими векторами?"
      ]
    },
    {
      "cell_type": "markdown",
      "metadata": {
        "id": "lBW-8I5_5a3o",
        "colab_type": "text"
      },
      "source": [
        "Посмотрим на примере одного слова, что из себя представляет embedding"
      ]
    },
    {
      "cell_type": "code",
      "metadata": {
        "scrolled": true,
        "id": "e-IMHALD5a3q",
        "colab_type": "code",
        "outputId": "e8abd01c-d49f-41ce-d37e-35aa2b378f4e",
        "colab": {
          "base_uri": "https://localhost:8080/",
          "height": 34
        }
      },
      "source": [
        "word = 'dog'\n",
        "if word in wv_embeddings:\n",
        "    print(wv_embeddings[word].dtype, wv_embeddings[word].shape)"
      ],
      "execution_count": 0,
      "outputs": [
        {
          "output_type": "stream",
          "text": [
            "float32 (300,)\n"
          ],
          "name": "stdout"
        }
      ]
    },
    {
      "cell_type": "markdown",
      "metadata": {
        "id": "9dznrXUN5a3w",
        "colab_type": "text"
      },
      "source": [
        "<b>Еще раз напомню, что семинар нужно прочитать"
      ]
    },
    {
      "cell_type": "markdown",
      "metadata": {
        "id": "WRX93vwq5a3x",
        "colab_type": "text"
      },
      "source": [
        "Найдем наиболее близкие слова к слову `dog`:"
      ]
    },
    {
      "cell_type": "markdown",
      "metadata": {
        "colab_type": "text",
        "id": "n08z2PjMwC5o"
      },
      "source": [
        "### Вопрос 1:\n",
        "* Входит ли слов `cat` топ-5 близких слов к слову `dog`?"
      ]
    },
    {
      "cell_type": "markdown",
      "metadata": {
        "id": "72IyU7KnrDD3",
        "colab_type": "text"
      },
      "source": [
        "Yes"
      ]
    },
    {
      "cell_type": "code",
      "metadata": {
        "scrolled": true,
        "id": "1Q98a2x85a39",
        "colab_type": "code",
        "outputId": "4947979c-5840-4386-8d5d-f567fddbf017",
        "colab": {
          "base_uri": "https://localhost:8080/",
          "height": 173
        }
      },
      "source": [
        "wv_embeddings.most_similar('dog')[:6]"
      ],
      "execution_count": 0,
      "outputs": [
        {
          "output_type": "stream",
          "text": [
            "/usr/local/lib/python3.6/dist-packages/gensim/matutils.py:737: FutureWarning: Conversion of the second argument of issubdtype from `int` to `np.signedinteger` is deprecated. In future, it will be treated as `np.int64 == np.dtype(int).type`.\n",
            "  if np.issubdtype(vec.dtype, np.int):\n"
          ],
          "name": "stderr"
        },
        {
          "output_type": "execute_result",
          "data": {
            "text/plain": [
              "[('dogs', 0.8680489659309387),\n",
              " ('puppy', 0.8106428384780884),\n",
              " ('pit_bull', 0.780396044254303),\n",
              " ('pooch', 0.7627377510070801),\n",
              " ('cat', 0.7609456777572632),\n",
              " ('golden_retriever', 0.7500902414321899)]"
            ]
          },
          "metadata": {
            "tags": []
          },
          "execution_count": 4
        }
      ]
    },
    {
      "cell_type": "markdown",
      "metadata": {
        "id": "WU3klj-15a3_",
        "colab_type": "text"
      },
      "source": [
        "### Векторные представления текста\n",
        "\n",
        "Перейдем от векторных представлений отдельных слов к векторным представлениям вопросов, как к **среднему** векторов всех слов в вопросе. Если для какого-то слова нет предобученного вектора, то его нужно пропустить. Если вопрос не содержит ни одного известного слова, то нужно вернуть нулевой вектор."
      ]
    },
    {
      "cell_type": "code",
      "metadata": {
        "id": "FuQ6bClV5a4B",
        "colab_type": "code",
        "colab": {}
      },
      "source": [
        "import numpy as np\n",
        "from nltk.tokenize import WordPunctTokenizer\n",
        "tokenizer = WordPunctTokenizer()"
      ],
      "execution_count": 0,
      "outputs": []
    },
    {
      "cell_type": "code",
      "metadata": {
        "id": "Dm02wjKS5a4K",
        "colab_type": "code",
        "colab": {}
      },
      "source": [
        "def question_to_vec(question, embeddings=wv_embeddings, dim=300):\n",
        "    \"\"\"\n",
        "        question: строка\n",
        "        embeddings: наше векторное представление\n",
        "        dim: размер любого вектора в нашем представлении\n",
        "        \n",
        "        return: векторное представление для вопроса\n",
        "    \"\"\"\n",
        "    \n",
        "    # убрать знак вопроса, если он есть\n",
        "    question = question.replace('?', ' ')\n",
        "    words = tokenizer.tokenize(question)\n",
        "    n_known = 0\n",
        "    result = np.array([0] * dim, dtype=float)\n",
        "    \n",
        "    for word in words:\n",
        "        if word in embeddings:\n",
        "            result += embeddings.get_vector(word)\n",
        "            n_known += 1\n",
        "            \n",
        "    if n_known != 0:\n",
        "        return result/n_known\n",
        "    else:\n",
        "        return result"
      ],
      "execution_count": 0,
      "outputs": []
    },
    {
      "cell_type": "markdown",
      "metadata": {
        "id": "_XScw4It5a4X",
        "colab_type": "text"
      },
      "source": [
        "Теперь у нас есть метод для создания векторного представления любого предложения."
      ]
    },
    {
      "cell_type": "code",
      "metadata": {
        "scrolled": true,
        "id": "2dSpTxx05a4b",
        "colab_type": "code",
        "outputId": "aab1a8c9-04c0-4695-895b-81aa9034336a",
        "colab": {
          "base_uri": "https://localhost:8080/",
          "height": 1000
        }
      },
      "source": [
        "question = \"How old are you, my friend?\"\n",
        "question_to_vec(question)\n"
      ],
      "execution_count": 0,
      "outputs": [
        {
          "output_type": "execute_result",
          "data": {
            "text/plain": [
              "array([ 0.12345378,  0.02559408,  0.11218262,  0.12833659, -0.07430013,\n",
              "        0.14345296, -0.01629639, -0.04066976,  0.03324382,  0.01520284,\n",
              "        0.04459635, -0.08459473, -0.1242396 , -0.01133219, -0.18619792,\n",
              "        0.05023193,  0.11173503,  0.13407389,  0.04821777, -0.01680501,\n",
              "       -0.0267334 ,  0.09700521,  0.1302592 , -0.07446289,  0.04882812,\n",
              "        0.01200358, -0.153361  ,  0.08781433,  0.07526906, -0.10518392,\n",
              "        0.0769043 ,  0.00099691, -0.05031331,  0.01224264, -0.00113996,\n",
              "        0.09706624,  0.11297607,  0.04886882,  0.00775146,  0.11547852,\n",
              "        0.08441416, -0.04070918,  0.19423421, -0.03767395,  0.15128581,\n",
              "        0.028066  ,  0.02754211,  0.01239014,  0.01159668, -0.04185994,\n",
              "       -0.06109619,  0.15332031,  0.01674398, -0.03450521,  0.0355835 ,\n",
              "        0.024882  , -0.04109446,  0.01831055,  0.06882731,  0.05642192,\n",
              "        0.02827962,  0.04638163, -0.07362874,  0.00553385,  0.02396647,\n",
              "       -0.05017598, -0.05210114,  0.06896973, -0.04886882,  0.0014445 ,\n",
              "        0.14833577,  0.09629313,  0.04636637,  0.01234945, -0.23933919,\n",
              "       -0.06119792, -0.03263092,  0.08033244,  0.06292725,  0.24324544,\n",
              "        0.04134115, -0.13972982,  0.08933036, -0.03396765, -0.1887207 ,\n",
              "       -0.0043513 , -0.08422852,  0.16442871, -0.00061289,  0.09525553,\n",
              "       -0.05885315,  0.07291667, -0.14345296, -0.02711995, -0.07474772,\n",
              "       -0.05537923,  0.13102214,  0.08695984,  0.01518758, -0.02571615,\n",
              "       -0.0608724 , -0.08677483, -0.02034505, -0.03466797, -0.0961558 ,\n",
              "       -0.00506592, -0.05651855,  0.0328776 ,  0.04539998, -0.04311117,\n",
              "       -0.14847819,  0.01386007,  0.0045166 , -0.01121012,  0.08927409,\n",
              "       -0.002889  , -0.05516052, -0.08219401,  0.08227539,  0.04036458,\n",
              "       -0.02715556, -0.03968302, -0.08125941,  0.03204346,  0.02482096,\n",
              "        0.02330844, -0.04939779,  0.02382406,  0.00427246, -0.00524902,\n",
              "       -0.1879069 , -0.18123372, -0.08425395,  0.02270508, -0.01508586,\n",
              "       -0.09220378,  0.03193156, -0.02429199,  0.0369161 ,  0.20902507,\n",
              "        0.09486898,  0.04595947,  0.00496419, -0.01161702,  0.08390299,\n",
              "       -0.04412333, -0.01371257, -0.13598633,  0.08416748, -0.05521647,\n",
              "        0.1108017 ,  0.04715983, -0.09069824, -0.00164795, -0.01344808,\n",
              "        0.019104  , -0.03586833, -0.07971191, -0.08087921, -0.0259196 ,\n",
              "       -0.04947662,  0.11482747,  0.02711995,  0.17667643,  0.0108134 ,\n",
              "       -0.14176432,  0.12556966, -0.13706462,  0.05580648,  0.01222738,\n",
              "       -0.15470378,  0.02429199, -0.05216471, -0.09990056, -0.11539332,\n",
              "        0.03782145,  0.11848958, -0.01781209,  0.03430176,  0.06386312,\n",
              "       -0.02709961,  0.01486206,  0.04160563, -0.00280762,  0.01078288,\n",
              "       -0.00491333, -0.0927887 ,  0.08717855,  0.15096029,  0.01489258,\n",
              "       -0.08862305,  0.08439128, -0.00263723,  0.0324707 , -0.00577545,\n",
              "        0.05232747, -0.0195109 , -0.01311493, -0.01359049, -0.13968913,\n",
              "       -0.02705892,  0.06111654, -0.13533529,  0.08235677, -0.04299927,\n",
              "        0.04744466, -0.11116536, -0.01712672, -0.00994873, -0.00236003,\n",
              "       -0.05556234,  0.00203451, -0.04654948,  0.01149495, -0.16178385,\n",
              "       -0.01072184,  0.08918254,  0.03305054, -0.17447917,  0.01365153,\n",
              "       -0.11897786, -0.02921549, -0.08944702, -0.08776347,  0.13350423,\n",
              "       -0.1362915 ,  0.04239909,  0.02122498, -0.06003825, -0.07177734,\n",
              "        0.03511556, -0.04758708, -0.02024333,  0.0378418 ,  0.03464762,\n",
              "        0.03771973, -0.06752523, -0.01043701, -0.08260091,  0.0351766 ,\n",
              "        0.00879924,  0.03511556, -0.02898916, -0.10353597, -0.10837809,\n",
              "        0.09439087, -0.08895874,  0.10620117, -0.01918538, -0.02371979,\n",
              "        0.09407552,  0.00252279,  0.12239583,  0.18428548,  0.00703939,\n",
              "       -0.05870565,  0.01818848, -0.04305013, -0.12534587, -0.02952067,\n",
              "        0.01620992, -0.05421956, -0.07462565, -0.02018229,  0.0750529 ,\n",
              "        0.21663411, -0.06709798,  0.06058248, -0.08305868, -0.00441488,\n",
              "        0.02815755,  0.16455078,  0.08613586,  0.12880452, -0.02167765,\n",
              "       -0.0880127 , -0.01413472, -0.12683105, -0.04734294, -0.10306803,\n",
              "        0.11791102, -0.10984294, -0.03361003,  0.16658529, -0.00880941,\n",
              "        0.02244059, -0.19474284, -0.05470912, -0.02607218,  0.18603516,\n",
              "       -0.05745443,  0.08628337, -0.14701335, -0.11031087, -0.06183116,\n",
              "       -0.10599772, -0.01216698, -0.06973267,  0.01774089,  0.07600911])"
            ]
          },
          "metadata": {
            "tags": []
          },
          "execution_count": 7
        }
      ]
    },
    {
      "cell_type": "markdown",
      "metadata": {
        "id": "6qh97exs5a4g",
        "colab_type": "text"
      },
      "source": [
        "### Оценка близости текстов\n",
        "\n",
        "Представим, что мы используем идеальные векторные представления слов. Тогда косинусное расстояние между дублирующими предложениями должно быть меньше, чем между случайно взятыми предложениями. \n",
        "\n",
        "Сгенерируем для каждого из $N$ вопросов $R$ случайных отрицательных примеров и примешаем к ним также настоящие дубликаты. Для каждого вопроса будем ранжировать с помощью нашей модели $R + 1$ примеров и смотреть на позицию дубликата. Мы хотим, чтобы дубликат был первым в ранжированном списке.\n",
        "\n",
        "#### Hits@K\n",
        "Первой простой метрикой будет количество корректных попаданий для какого-то $K$:\n",
        "$$ \\text{Hits@K} = \\frac{1}{N}\\sum_{i=1}^N \\, [rank\\_q_i^{'} \\le K],$$\n",
        "* $q_i$ - $i$-ый вопрос\n",
        "* $q_i^{'}$ - его дубликат\n",
        "* $rank\\_q_i^{'}$ - позиция дубликата в ранжированном списке ближайших предложений для вопроса $q_i$.\n",
        "\n",
        "#### DCG@K\n",
        "Второй метрикой будет упрощенная DCG метрика, учитывающая порядок элементов в списке путем домножения релевантности элемента на вес равный обратному логарифму номера позиции::\n",
        "$$ \\text{DCG@K} = \\frac{1}{N} \\sum_{i=1}^N\\frac{1}{\\log_2(1+rank\\_q_i^{'})}\\cdot[rank\\_q_i^{'} \\le K],$$\n",
        "С такой метрикой модель штрафуется за низкую позицию корректного ответа"
      ]
    },
    {
      "cell_type": "markdown",
      "metadata": {
        "id": "9IhyVcWe5a4m",
        "colab_type": "text"
      },
      "source": [
        "<img src='https://hsto.org/files/1c5/edf/dee/1c5edfdeebce4b71a86bdf986d9f88f2.jpg' width=400, height=200>"
      ]
    },
    {
      "cell_type": "markdown",
      "metadata": {
        "id": "YFMvZ8BV5a4o",
        "colab_type": "text"
      },
      "source": [
        "#### Пример оценок\n",
        "\n",
        "Вычислим описанные выше метрики для игрушечного примера. \n",
        "Пусть\n",
        "* $N = 1$, $R = 3$\n",
        "* <font color='green'>\"Что такое python\"</font> - вопрос $q_1$\n",
        "* <font color='red'>\"Что такое язык python\"</font> - его дубликат $q_i^{'}$\n",
        "\n",
        "Пусть модель выдала следующий ранжированный список кандидатов:\n",
        "\n",
        "1. *\"Как узнать с++\"*\n",
        "2. <font color='red'>*\"Что такое язык python\"*</font>\n",
        "3. *\"Хочу учить Java\"*\n",
        "4. *\"Не понимаю Tensorflow\"*\n",
        "\n",
        "$\\Rightarrow rank\\_q_i^{'} = 2$\n",
        "\n",
        "Вычислим метрику *Hits@K* для *K = 1, 4*:\n",
        "\n",
        "- [K = 1] $\\text{Hits@1} =  [rank\\_q_i^{'} \\le 1] = 0$\n",
        "- [K = 4] $\\text{Hits@4} =  [rank\\_q_i^{'} \\le 4] = 1$\n",
        "\n",
        "Вычислим метрику *DCG@K* для *K = 1, 4*:\n",
        "- [K = 1] $\\text{DCG@1} = \\frac{1}{\\log_2(1+2)}\\cdot[2 \\le 1] = 0$\n",
        "- [K = 4] $\\text{DCG@4} = \\frac{1}{\\log_2(1+2)}\\cdot[2 \\le 4] = \\frac{1}{\\log_2{3}}$"
      ]
    },
    {
      "cell_type": "markdown",
      "metadata": {
        "id": "UVBlWQuZ5a4q",
        "colab_type": "text"
      },
      "source": [
        "### HITS\\_COUNT и DCG\\_SCORE"
      ]
    },
    {
      "cell_type": "markdown",
      "metadata": {
        "id": "0kk6LQ3-5a4r",
        "colab_type": "text"
      },
      "source": [
        "Каждая функция имеет два аргумента: $dup\\_ranks$ и $k$. $dup\\_ranks$ является списком, который содержит рейтинги дубликатов $rank\\_q_i^{'}$(их позиции в ранжированном списке). Например, $dup\\_ranks = [2]$ для примера, описанного выше."
      ]
    },
    {
      "cell_type": "code",
      "metadata": {
        "id": "SkM7vgXo5a4s",
        "colab_type": "code",
        "colab": {}
      },
      "source": [
        "def hits_count(dup_ranks, k):\n",
        "    \"\"\"\n",
        "        result: вернуть  Hits@k\n",
        "    \"\"\"\n",
        "    N = len(dup_ranks)\n",
        "    hits_value = np.sum(np.array(dup_ranks)<=k)/N\n",
        "    return hits_value    "
      ],
      "execution_count": 0,
      "outputs": []
    },
    {
      "cell_type": "code",
      "metadata": {
        "id": "-6ir49bE5a4u",
        "colab_type": "code",
        "colab": {}
      },
      "source": [
        "def dcg_score(dup_ranks, k):\n",
        "    \"\"\"\n",
        "        result: вернуть DCG@k\n",
        "    \"\"\"\n",
        "    new_dup_ranks = np.array(dup_ranks)\n",
        "    N = len(dup_ranks)\n",
        "    dcg_value = np.sum((np.array(dup_ranks)<=k)/np.log2(np.array(dup_ranks)+1))/N\n",
        "    #dcg_value = np.sum((1/np.log1p(np.array(dup_ranks)))*(np.array(dup_ranks))<=k)/N\n",
        "    return dcg_value"
      ],
      "execution_count": 0,
      "outputs": []
    },
    {
      "cell_type": "markdown",
      "metadata": {
        "id": "M0_G1Z3r5a41",
        "colab_type": "text"
      },
      "source": [
        "Протестируем функции. Пусть $N = 1$, то есть один эксперимент. Будем искать копию вопроса и оценивать метрики."
      ]
    },
    {
      "cell_type": "code",
      "metadata": {
        "id": "DLOIiB4i5a44",
        "colab_type": "code",
        "colab": {}
      },
      "source": [
        "import pandas as pd"
      ],
      "execution_count": 0,
      "outputs": []
    },
    {
      "cell_type": "code",
      "metadata": {
        "id": "aVmOdu6X5a48",
        "colab_type": "code",
        "outputId": "52b21db9-7e34-43d9-fecf-c349d9a2c11c",
        "colab": {
          "base_uri": "https://localhost:8080/",
          "height": 51
        }
      },
      "source": [
        "copy_answers = [\"How does the catch keyword determine the type of exception that was thrown\"]\n",
        "\n",
        "# наги кандидаты\n",
        "candidates_ranking = [[\"How Can I Make These Links Rotate in PHP\",\n",
        "                       \"How does the catch keyword determine the type of exception that was thrown\",\n",
        "                       \"NSLog array description not memory address\",\n",
        "                       \"PECL_HTTP not recognised php ubuntu\"]]\n",
        "# dup_ranks — позиции наших копий, так как эксперимент один, то этот массив длины 1\n",
        "dup_ranks = [candidates_ranking[0].index(copy_answers[i]) + 1 for i in range(len(copy_answers))]\n",
        "\n",
        "# вычисляем метрику для разных k\n",
        "print('Ваш ответ HIT:', [hits_count(dup_ranks, k) for k in range(1, 5)])\n",
        "print('Ваш ответ DCG:', [round(dcg_score(dup_ranks, k), 5) for k in range(1, 5)])"
      ],
      "execution_count": 0,
      "outputs": [
        {
          "output_type": "stream",
          "text": [
            "Ваш ответ HIT: [0.0, 1.0, 1.0, 1.0]\n",
            "Ваш ответ DCG: [0.0, 0.63093, 0.63093, 0.63093]\n"
          ],
          "name": "stdout"
        }
      ]
    },
    {
      "cell_type": "markdown",
      "metadata": {
        "id": "O9Fq2xzU5a4-",
        "colab_type": "text"
      },
      "source": [
        "У вас должно получиться"
      ]
    },
    {
      "cell_type": "code",
      "metadata": {
        "scrolled": true,
        "id": "fbIJ9ngd5a4_",
        "colab_type": "code",
        "outputId": "c686b4fc-3b1c-4af9-d6eb-0763eb6afd3f",
        "colab": {
          "base_uri": "https://localhost:8080/",
          "height": 111
        }
      },
      "source": [
        "# correct_answers - метрика для разных k\n",
        "correct_answers = pd.DataFrame([[0, 1, 1, 1], [0, 1 / (np.log2(3)), 1 / (np.log2(3)), 1 / (np.log2(3))]],\n",
        "                               index=['HITS', 'DCG'], columns=range(1,5))\n",
        "correct_answers"
      ],
      "execution_count": 0,
      "outputs": [
        {
          "output_type": "execute_result",
          "data": {
            "text/html": [
              "<div>\n",
              "<style scoped>\n",
              "    .dataframe tbody tr th:only-of-type {\n",
              "        vertical-align: middle;\n",
              "    }\n",
              "\n",
              "    .dataframe tbody tr th {\n",
              "        vertical-align: top;\n",
              "    }\n",
              "\n",
              "    .dataframe thead th {\n",
              "        text-align: right;\n",
              "    }\n",
              "</style>\n",
              "<table border=\"1\" class=\"dataframe\">\n",
              "  <thead>\n",
              "    <tr style=\"text-align: right;\">\n",
              "      <th></th>\n",
              "      <th>1</th>\n",
              "      <th>2</th>\n",
              "      <th>3</th>\n",
              "      <th>4</th>\n",
              "    </tr>\n",
              "  </thead>\n",
              "  <tbody>\n",
              "    <tr>\n",
              "      <th>HITS</th>\n",
              "      <td>0</td>\n",
              "      <td>1.00000</td>\n",
              "      <td>1.00000</td>\n",
              "      <td>1.00000</td>\n",
              "    </tr>\n",
              "    <tr>\n",
              "      <th>DCG</th>\n",
              "      <td>0</td>\n",
              "      <td>0.63093</td>\n",
              "      <td>0.63093</td>\n",
              "      <td>0.63093</td>\n",
              "    </tr>\n",
              "  </tbody>\n",
              "</table>\n",
              "</div>"
            ],
            "text/plain": [
              "      1        2        3        4\n",
              "HITS  0  1.00000  1.00000  1.00000\n",
              "DCG   0  0.63093  0.63093  0.63093"
            ]
          },
          "metadata": {
            "tags": []
          },
          "execution_count": 26
        }
      ]
    },
    {
      "cell_type": "markdown",
      "metadata": {
        "id": "lK7YcWpc5a5A",
        "colab_type": "text"
      },
      "source": [
        "### Ранжирование вопросов StackOverflow\n",
        "\n",
        "- *тестовая* выборка (test.tsv) содержит в каждой строке: *вопрос, похожий вопрос, отрицательный пример 1, отрицательный пример 2, ...*\n",
        "TEST!!!"
      ]
    },
    {
      "cell_type": "markdown",
      "metadata": {
        "id": "RqoQyKZ45a5B",
        "colab_type": "text"
      },
      "source": [
        "Считаем тестовую выборку для оценки качества текущего решения."
      ]
    },
    {
      "cell_type": "code",
      "metadata": {
        "id": "Lsx8De1B5a5C",
        "colab_type": "code",
        "colab": {}
      },
      "source": [
        "def read_corpus(filename):\n",
        "    data = []\n",
        "    for line in open(filename, encoding='utf-8'):\n",
        "        data.append(line.strip().split('\\t'))\n",
        "    return data"
      ],
      "execution_count": 0,
      "outputs": []
    },
    {
      "cell_type": "code",
      "metadata": {
        "id": "h2fwUZTe5a5E",
        "colab_type": "code",
        "colab": {}
      },
      "source": [
        "test = read_corpus('/content/drive/My Drive/test.tsv')"
      ],
      "execution_count": 0,
      "outputs": []
    },
    {
      "cell_type": "markdown",
      "metadata": {
        "id": "0i2z68xw5a5H",
        "colab_type": "text"
      },
      "source": [
        "Кол-во строк"
      ]
    },
    {
      "cell_type": "code",
      "metadata": {
        "scrolled": false,
        "id": "KcwQDs3Q5a5H",
        "colab_type": "code",
        "outputId": "d0de482a-72ea-4c75-aa35-4eb65042e49f",
        "colab": {
          "base_uri": "https://localhost:8080/",
          "height": 34
        }
      },
      "source": [
        "len(test)"
      ],
      "execution_count": 0,
      "outputs": [
        {
          "output_type": "execute_result",
          "data": {
            "text/plain": [
              "3760"
            ]
          },
          "metadata": {
            "tags": []
          },
          "execution_count": 12
        }
      ]
    },
    {
      "cell_type": "markdown",
      "metadata": {
        "id": "TmFOVQjO5a5J",
        "colab_type": "text"
      },
      "source": [
        "Размер нескольких первых строк"
      ]
    },
    {
      "cell_type": "code",
      "metadata": {
        "id": "XIEqlZMo5a5J",
        "colab_type": "code",
        "outputId": "14fedcac-6c88-441d-ea7c-96212c2eaaf3",
        "colab": {
          "base_uri": "https://localhost:8080/",
          "height": 102
        }
      },
      "source": [
        "for i in range(5):\n",
        "    print(i + 1, len(test[0]))"
      ],
      "execution_count": 0,
      "outputs": [
        {
          "output_type": "stream",
          "text": [
            "1 1001\n",
            "2 1001\n",
            "3 1001\n",
            "4 1001\n",
            "5 1001\n"
          ],
          "name": "stdout"
        }
      ]
    },
    {
      "cell_type": "markdown",
      "metadata": {
        "id": "AQt_L87C5a5L",
        "colab_type": "text"
      },
      "source": [
        "Реализуйте функцию ранжирования кандидатов на основе косинусного расстояния. Функция должна по списку кандидатов вернуть отсортированный список пар (позиция в исходном списке кандидатов, кандидат). При этом позиция кандидата в полученном списке является его рейтингом (первый - лучший). Например, если исходный список кандидатов был [a, b, c], и самый похожий на исходный вопрос среди них - c, затем a, и в конце b, то функция должна вернуть список *[(2, c), (0, a), (1, b)]*."
      ]
    },
    {
      "cell_type": "code",
      "metadata": {
        "id": "97oA-Fqu5a5M",
        "colab_type": "code",
        "colab": {}
      },
      "source": [
        "from sklearn.metrics.pairwise import cosine_similarity\n",
        "from copy import deepcopy"
      ],
      "execution_count": 0,
      "outputs": []
    },
    {
      "cell_type": "code",
      "metadata": {
        "id": "b3bjCEEQ5a5P",
        "colab_type": "code",
        "colab": {}
      },
      "source": [
        "def rank_candidates(question, candidates, embeddings, dim=300):\n",
        "    \"\"\"\n",
        "        question: строка\n",
        "        candidates: массив строк(кандидатов) [a, b, c]\n",
        "        result: пары (начальная позиция, кандидат) [(2, c), (0, a), (1, b)]\n",
        "    \"\"\"\n",
        "    vec_question = question_to_vec(question)\n",
        "    vec_candidates = np.array([question_to_vec(candidates[i])\n",
        "                      for i in range(len(candidates))])\n",
        "    rank_candidates = np.array([(i, candidates[i]) for i in range(len(candidates))])\n",
        "    # ранжирование\n",
        "    dist_s = cosine_similarity(vec_candidates, np.array([vec_question]))[:, 0]\n",
        "    return deepcopy(rank_candidates[dist_s.argsort()[::-1]])"
      ],
      "execution_count": 0,
      "outputs": []
    },
    {
      "cell_type": "markdown",
      "metadata": {
        "id": "UCFddzQ35a5R",
        "colab_type": "text"
      },
      "source": [
        "Протестируйте работу функции на примерах ниже. Пусть $N=2$, то есть два эксперимента"
      ]
    },
    {
      "cell_type": "code",
      "metadata": {
        "id": "uppLyNlj5a5R",
        "colab_type": "code",
        "colab": {}
      },
      "source": [
        "questions = ['converting string to list', 'Sending array via Ajax fails'] \n",
        "\n",
        "candidates = [['Convert Google results object (pure js) to Python object', # первый эксперимент\n",
        "               'C# create cookie from string and send it',\n",
        "               'How to use jQuery AJAX for an outside domain?'],\n",
        "              \n",
        "              ['Getting all list items of an unordered list in PHP',      # второй эксперимент\n",
        "               'WPF- How to update the changes in list item of a list',\n",
        "               'select2 not displaying search results']]"
      ],
      "execution_count": 0,
      "outputs": []
    },
    {
      "cell_type": "code",
      "metadata": {
        "id": "-tsmUYcz5a5T",
        "colab_type": "code",
        "outputId": "02c4567e-0032-498a-b42d-10dc728d7b6d",
        "colab": {
          "base_uri": "https://localhost:8080/",
          "height": 153
        }
      },
      "source": [
        "for question, q_candidates in zip(questions, candidates):\n",
        "        ranks = rank_candidates(question, q_candidates, wv_embeddings, 300)\n",
        "        print(ranks)\n",
        "        print()\n"
      ],
      "execution_count": 0,
      "outputs": [
        {
          "output_type": "stream",
          "text": [
            "[['1' 'C# create cookie from string and send it']\n",
            " ['0' 'Convert Google results object (pure js) to Python object']\n",
            " ['2' 'How to use jQuery AJAX for an outside domain?']]\n",
            "\n",
            "[['0' 'Getting all list items of an unordered list in PHP']\n",
            " ['2' 'select2 not displaying search results']\n",
            " ['1' 'WPF- How to update the changes in list item of a list']]\n",
            "\n"
          ],
          "name": "stdout"
        }
      ]
    },
    {
      "cell_type": "markdown",
      "metadata": {
        "id": "5cfIHuoC5a5V",
        "colab_type": "text"
      },
      "source": [
        "Для первого экперимента вы можете полностью сравнить ваши ответы и правильные ответы. Но для второго эксперимента два ответа на кандидаты будут <b>скрыты</b>(*)"
      ]
    },
    {
      "cell_type": "code",
      "metadata": {
        "id": "A4iUkm7_5a5V",
        "colab_type": "code",
        "outputId": "95bfb37d-5ac3-406c-dc13-adba43527d2c",
        "colab": {
          "base_uri": "https://localhost:8080/",
          "height": 54
        }
      },
      "source": [
        "# должно вывести\n",
        "results = [[(1, 'C# create cookie from string and send it'),\n",
        "            (0, 'Convert Google results object (pure js) to Python object'),\n",
        "            (2, 'How to use jQuery AJAX for an outside domain?')],\n",
        "           [(0, 'Getting all list items of an unordered list in PHP'),\n",
        "            ('surprise', 'select2 not displaying search results'), #скрыт\n",
        "            ('bitch', 'WPF- How to update the changes in list item of a list')]] #скрыт\n",
        "\n",
        "print(results)"
      ],
      "execution_count": 0,
      "outputs": [
        {
          "output_type": "stream",
          "text": [
            "[[(1, 'C# create cookie from string and send it'), (0, 'Convert Google results object (pure js) to Python object'), (2, 'How to use jQuery AJAX for an outside domain?')], [(0, 'Getting all list items of an unordered list in PHP'), ('surprise', 'select2 not displaying search results'), ('bitch', 'WPF- How to update the changes in list item of a list')]]\n"
          ],
          "name": "stdout"
        }
      ]
    },
    {
      "cell_type": "markdown",
      "metadata": {
        "id": "t_1lmt995a5X",
        "colab_type": "text"
      },
      "source": [
        "Последовательность начальных индексов вы должны получить `для экспереминта 1`  1, 0, 2. Для второго экперимента вы знаете один индекс уже."
      ]
    },
    {
      "cell_type": "markdown",
      "metadata": {
        "id": "OgFyYJl_5a5Y",
        "colab_type": "text"
      },
      "source": [
        "Теперь мы можем оценить качество нашего метода. Запустите следующие два блока кода для получения результата. Обратите внимание, что вычисление расстояния между векторами занимает некоторое время (примерно 10 минут)."
      ]
    },
    {
      "cell_type": "code",
      "metadata": {
        "id": "JSc5HXkQ5a5Z",
        "colab_type": "code",
        "colab": {}
      },
      "source": [
        "wv_ranking = []\n",
        "for line in test:\n",
        "    q, *ex = line\n",
        "    ranks = rank_candidates(q, ex, wv_embeddings)\n",
        "    wv_ranking.append([r[0] for r in ranks].index('0') + 1)"
      ],
      "execution_count": 0,
      "outputs": []
    },
    {
      "cell_type": "code",
      "metadata": {
        "scrolled": true,
        "id": "JzQ4Dqsk5a5b",
        "colab_type": "code",
        "outputId": "abaad067-a401-4d3e-e659-1c6f79889342",
        "colab": {
          "base_uri": "https://localhost:8080/",
          "height": 119
        }
      },
      "source": [
        "for k in [1, 5, 10, 100, 500, 1000]:\n",
        "    print(\"DCG@%4d: %.3f | Hits@%4d: %.3f\" % (k, dcg_score(wv_ranking, k), k, hits_count(wv_ranking, k)))"
      ],
      "execution_count": 0,
      "outputs": [
        {
          "output_type": "stream",
          "text": [
            "DCG@   1: 0.261 | Hits@   1: 0.261\n",
            "DCG@   5: 0.315 | Hits@   5: 0.364\n",
            "DCG@  10: 0.332 | Hits@  10: 0.418\n",
            "DCG@ 100: 0.374 | Hits@ 100: 0.626\n",
            "DCG@ 500: 0.401 | Hits@ 500: 0.839\n",
            "DCG@1000: 0.418 | Hits@1000: 1.000\n"
          ],
          "name": "stdout"
        }
      ]
    },
    {
      "cell_type": "markdown",
      "metadata": {
        "id": "Pox7gZ4e5a5d",
        "colab_type": "text"
      },
      "source": [
        "Если вы проделали все шаги правильно, то вы должны немного разочароваться полученными результатами. Давайте попробуем понять, почему качество модели такое низкое. Когда вы работаете с какими-либо данными, очень полезно первым делом посмотреть на них глазами. Выведим несколько вопросов из наших данных:"
      ]
    },
    {
      "cell_type": "code",
      "metadata": {
        "id": "WKGpEfGt5a5e",
        "colab_type": "code",
        "outputId": "b88d0d6d-5a2a-41f9-92d1-01a6985140df",
        "colab": {
          "base_uri": "https://localhost:8080/",
          "height": 139
        }
      },
      "source": [
        "for line in test[:3]:\n",
        "    q, *examples = line\n",
        "    print(q, *examples[:3])\n",
        "    print()"
      ],
      "execution_count": 0,
      "outputs": [
        {
          "output_type": "stream",
          "text": [
            "How to print a binary heap tree without recursion? How do you best convert a recursive function to an iterative one? How can i use ng-model with directive in angular js flash: drawing and erasing\n",
            "\n",
            "How to start PhoneStateListener programmatically? PhoneStateListener and service Java cast object[] to model WCF and What does this mean?\n",
            "\n",
            "jQuery: Show a div2 when mousenter over div1 is over when hover on div1 depenting on if it is on div2 or not it should act differently How to run selenium in google app engine/cloud? Python Comparing two lists of strings for similarities\n",
            "\n"
          ],
          "name": "stdout"
        }
      ]
    },
    {
      "cell_type": "markdown",
      "metadata": {
        "id": "FDOpGjae5a5g",
        "colab_type": "text"
      },
      "source": [
        "Как вы можете заметить, мы имеем дело с сырыми данными. Это означает, что там присутствует много опечаток, спецсимволов и заглавных букв. В нашем случае это все может привести к ситуации, когда для данных токенов нет предобученных векторов. Поэтому необходима предобработка.\n",
        "\n",
        "Реализуйем функцию предобработки текстов. Вам требуется:\n",
        "- Перевести символы в нижний регистр;\n",
        "- Заменить символы пунктуации на пробелы;\n",
        "- Удалить \"плохие\" символы;\n",
        "- Удалить стопслова."
      ]
    },
    {
      "cell_type": "code",
      "metadata": {
        "scrolled": true,
        "id": "ac0j8X3k5a5g",
        "colab_type": "code",
        "outputId": "81d854ad-0300-4717-8277-82ef1b770095",
        "colab": {
          "base_uri": "https://localhost:8080/",
          "height": 51
        }
      },
      "source": [
        "import re\n",
        "import nltk\n",
        "import string\n",
        "nltk.download('stopwords')\n",
        "from nltk.corpus import stopwords"
      ],
      "execution_count": 0,
      "outputs": [
        {
          "output_type": "stream",
          "text": [
            "[nltk_data] Downloading package stopwords to /root/nltk_data...\n",
            "[nltk_data]   Unzipping corpora/stopwords.zip.\n"
          ],
          "name": "stdout"
        }
      ]
    },
    {
      "cell_type": "markdown",
      "metadata": {
        "id": "_1zawtBF5a5j",
        "colab_type": "text"
      },
      "source": [
        "Кол-во стоп стопслов"
      ]
    },
    {
      "cell_type": "code",
      "metadata": {
        "id": "57d9zCBG5a5k",
        "colab_type": "code",
        "outputId": "40d6e290-a18e-4517-84f6-bf3c64a8276f",
        "colab": {
          "base_uri": "https://localhost:8080/",
          "height": 34
        }
      },
      "source": [
        "stopWords = set(stopwords.words('english'))\n",
        "len(stopWords)"
      ],
      "execution_count": 0,
      "outputs": [
        {
          "output_type": "execute_result",
          "data": {
            "text/plain": [
              "179"
            ]
          },
          "metadata": {
            "tags": []
          },
          "execution_count": 17
        }
      ]
    },
    {
      "cell_type": "code",
      "metadata": {
        "id": "IqraPyi85a5n",
        "colab_type": "code",
        "colab": {}
      },
      "source": [
        "def text_prepare(text):\n",
        "    \"\"\"\n",
        "        text: a string\n",
        "        \n",
        "        return: modified string\n",
        "    \"\"\"\n",
        "    # Перевести символы в нижний регистр\n",
        "    text = text.lower()\n",
        "    \n",
        "    # Заменить символы пунктуации на пробелы\n",
        "    text = re.sub(r'[{}]'.format(string.punctuation), ' ', text)\n",
        "    \n",
        "    # Удалить \"плохие\" символы\n",
        "    text = re.sub('[^A-Za-z0-9 ]', '', text)\n",
        "    \n",
        "    # Удалить стопслова.\n",
        "    stopWords = set(stopwords.words('english'))\n",
        "    #for stopWord in stopWords:\n",
        "    text = ' '.join([i for i in text.split(' ') if i not in stopWords])\n",
        "    return text"
      ],
      "execution_count": 0,
      "outputs": []
    },
    {
      "cell_type": "markdown",
      "metadata": {
        "id": "ZBj7eHjL5a5o",
        "colab_type": "text"
      },
      "source": [
        "Теперь преобразуйте все вопросы из тестовой выборки. Оцените, как изменилось качество. Сделайте выводы. Для изменения текста понадобиться около 30 минут."
      ]
    },
    {
      "cell_type": "code",
      "metadata": {
        "id": "KLWHQx0N5a5p",
        "colab_type": "code",
        "colab": {}
      },
      "source": [
        "from tqdm import tqdm_notebook\n",
        "from copy import deepcopy\n",
        "new_test = deepcopy(test)\n",
        "for i in range(len(test)):\n",
        "    for j in range(len(test[i])):\n",
        "        new_test[i][j] = text_prepare(test[i][j])"
      ],
      "execution_count": 0,
      "outputs": []
    },
    {
      "cell_type": "code",
      "metadata": {
        "id": "ZL9Tk5sD3TpL",
        "colab_type": "code",
        "colab": {}
      },
      "source": [
        "wv_ranking = []\n",
        "for line in new_test:\n",
        "    q, *ex = line\n",
        "    ranks = rank_candidates(q, ex, wv_embeddings)\n",
        "    wv_ranking.append([r[0] for r in ranks].index('0') + 1)"
      ],
      "execution_count": 0,
      "outputs": []
    },
    {
      "cell_type": "code",
      "metadata": {
        "scrolled": true,
        "id": "fX1_3me75a5s",
        "colab_type": "code",
        "outputId": "0b5eaca1-47a3-401e-f5f9-9f5fa525f404",
        "colab": {
          "base_uri": "https://localhost:8080/",
          "height": 119
        }
      },
      "source": [
        "for k in [1, 5, 10, 100, 500, 1000]:\n",
        "    print(\"DCG@%4d: %.3f | Hits@%4d: %.3f\" % (k, dcg_score(wv_ranking, k), k, hits_count(wv_ranking, k)))"
      ],
      "execution_count": 0,
      "outputs": [
        {
          "output_type": "stream",
          "text": [
            "DCG@   1: 0.340 | Hits@   1: 0.340\n",
            "DCG@   5: 0.412 | Hits@   5: 0.477\n",
            "DCG@  10: 0.427 | Hits@  10: 0.523\n",
            "DCG@ 100: 0.463 | Hits@ 100: 0.702\n",
            "DCG@ 500: 0.482 | Hits@ 500: 0.855\n",
            "DCG@1000: 0.498 | Hits@1000: 1.000\n"
          ],
          "name": "stdout"
        }
      ]
    },
    {
      "cell_type": "markdown",
      "metadata": {
        "id": "Il-kkuKf5a5u",
        "colab_type": "text"
      },
      "source": [
        "# Finally!.. Visualization! (Again..)"
      ]
    },
    {
      "cell_type": "markdown",
      "metadata": {
        "id": "23pmSM_a5a5v",
        "colab_type": "text"
      },
      "source": [
        "Раз уж мы научились получать эмбеддинги предложений, а не только слов, давайте попробуем визуализировать эмбеддинги предложений!\n",
        "\n",
        "Функция получения эмбеддинга по предложению у нас уже есть (question_to_vec в начале ноутбука). Нам осталось выбрать, какой датасет мы будем использовать (quora.txt с семинара или stackoverflow из этого дз), и далее:\n",
        "\n",
        "1. Проделать предобработку вопросов (text_prepare, как выше)\n",
        "2. Для всех вопросов получить эмбединнги (question_to_vec)\n",
        "3. Применить к массиву эмбеддингов TSNE (как на семинаре)\n",
        "4. Не забыть нормализовать векторы, полученные из TSNE\n",
        "5. Запустить функцию draw из семинара!"
      ]
    },
    {
      "cell_type": "code",
      "metadata": {
        "id": "1tVmEfuO6G8_",
        "colab_type": "code",
        "colab": {}
      },
      "source": [
        "new_test = [new_test[i][0] for i in range(len(new_test))]"
      ],
      "execution_count": 0,
      "outputs": []
    },
    {
      "cell_type": "code",
      "metadata": {
        "id": "Tv_PfQg15a5w",
        "colab_type": "code",
        "outputId": "a688eb2e-c8fb-4aae-9818-2c044a0dab25",
        "colab": {
          "base_uri": "https://localhost:8080/",
          "height": 34
        }
      },
      "source": [
        "len(new_test)"
      ],
      "execution_count": 0,
      "outputs": [
        {
          "output_type": "execute_result",
          "data": {
            "text/plain": [
              "3760"
            ]
          },
          "metadata": {
            "tags": []
          },
          "execution_count": 23
        }
      ]
    },
    {
      "cell_type": "code",
      "metadata": {
        "id": "89pPaSny2qZk",
        "colab_type": "code",
        "colab": {}
      },
      "source": [
        "word_vectors = np.array([question_to_vec(question) for question in new_test])"
      ],
      "execution_count": 0,
      "outputs": []
    },
    {
      "cell_type": "code",
      "metadata": {
        "id": "K0jgQhCIjKJn",
        "colab_type": "code",
        "colab": {}
      },
      "source": [
        "# download and unpack tsnecuda from anaconda.org\n",
        "\n",
        "!wget https://anaconda.org/CannyLab/tsnecuda/2.1.0/download/linux-64/tsnecuda-2.1.0-cuda100.tar.bz2\n",
        "!tar xvjf tsnecuda-2.1.0-cuda100.tar.bz2\n",
        "!cp -r site-packages/* /usr/local/lib/python3.6/dist-packages/\n",
        "\n",
        "# create a symbolic link between the downloaded libfaiss.so file and the location python's looking at\n",
        "\n",
        "!echo $LD_LIBRARY_PATH \n",
        "# this is probably /usr/lib64-nvidia\n",
        "\n",
        "import tsnecuda\n",
        "tsnecuda.test()"
      ],
      "execution_count": 0,
      "outputs": []
    },
    {
      "cell_type": "code",
      "metadata": {
        "id": "38r5FPKA_8Ap",
        "colab_type": "code",
        "colab": {}
      },
      "source": [
        "from tsnecuda import TSNE\n",
        "ts= TSNE(n_components=2)\n",
        "word_vectors_tsne = ts.fit_transform(word_vectors)"
      ],
      "execution_count": 0,
      "outputs": []
    },
    {
      "cell_type": "code",
      "metadata": {
        "id": "0pXh-U5yqtCA",
        "colab_type": "code",
        "colab": {}
      },
      "source": [
        "from sklearn.preprocessing import StandardScaler\n",
        "ss = StandardScaler().fit(word_vectors_tsne)\n",
        "word_vectors_tsne = ss.transform(word_vectors_tsne)"
      ],
      "execution_count": 0,
      "outputs": []
    },
    {
      "cell_type": "code",
      "metadata": {
        "id": "U-6TVH9jOLYp",
        "colab_type": "code",
        "outputId": "082d0f6d-ea5e-49ce-810d-4e9ba18d0ad5",
        "colab": {
          "base_uri": "https://localhost:8080/",
          "height": 136
        }
      },
      "source": [
        "word_vectors_tsne"
      ],
      "execution_count": 0,
      "outputs": [
        {
          "output_type": "execute_result",
          "data": {
            "text/plain": [
              "array([[-0.49063537, -0.00638459],\n",
              "       [ 0.0782799 , -0.61714876],\n",
              "       [ 1.5110188 ,  0.4799856 ],\n",
              "       ...,\n",
              "       [-2.0388017 , -1.2646819 ],\n",
              "       [-1.430565  ,  0.11295325],\n",
              "       [ 0.44136897,  2.0640352 ]], dtype=float32)"
            ]
          },
          "metadata": {
            "tags": []
          },
          "execution_count": 32
        }
      ]
    },
    {
      "cell_type": "code",
      "metadata": {
        "id": "GF1bcbUoj3L-",
        "colab_type": "code",
        "outputId": "ad391a5b-6613-493f-ab86-f8f18d9b9976",
        "colab": {
          "base_uri": "https://localhost:8080/",
          "height": 438
        }
      },
      "source": [
        "import bokeh.models as bm, bokeh.plotting as pl\n",
        "from bokeh.io import output_notebook\n",
        "\n",
        "\n",
        "def draw_vectors(x, y, radius=10, alpha=0.25, color='blue',\n",
        "                 width=600, height=400, show=True, **kwargs):\n",
        "    if isinstance(color, str): color = [color] * len(x)\n",
        "    data_source = bm.ColumnDataSource({ 'x' : x, 'y' : y, 'color': color, **kwargs })\n",
        "\n",
        "    fig = pl.figure(active_scroll='wheel_zoom', width=width, height=height)\n",
        "    fig.scatter('x', 'y', size=radius, color='color', alpha=alpha, source=data_source)\n",
        "\n",
        "    fig.add_tools(bm.HoverTool(tooltips=[(key, \"@\" + key) for key in kwargs.keys()]))\n",
        "    if show: pl.show(fig)\n",
        "    return fig\n",
        "\n",
        "output_notebook()\n",
        "draw_vectors(word_vectors_tsne[:, 0], word_vectors_tsne[:, 1], token=new_test)"
      ],
      "execution_count": 0,
      "outputs": [
        {
          "output_type": "display_data",
          "data": {
            "application/javascript": [
              "\n",
              "(function(root) {\n",
              "  function now() {\n",
              "    return new Date();\n",
              "  }\n",
              "\n",
              "  var force = true;\n",
              "\n",
              "  if (typeof root._bokeh_onload_callbacks === \"undefined\" || force === true) {\n",
              "    root._bokeh_onload_callbacks = [];\n",
              "    root._bokeh_is_loading = undefined;\n",
              "  }\n",
              "\n",
              "  var JS_MIME_TYPE = 'application/javascript';\n",
              "  var HTML_MIME_TYPE = 'text/html';\n",
              "  var EXEC_MIME_TYPE = 'application/vnd.bokehjs_exec.v0+json';\n",
              "  var CLASS_NAME = 'output_bokeh rendered_html';\n",
              "\n",
              "  /**\n",
              "   * Render data to the DOM node\n",
              "   */\n",
              "  function render(props, node) {\n",
              "    var script = document.createElement(\"script\");\n",
              "    node.appendChild(script);\n",
              "  }\n",
              "\n",
              "  /**\n",
              "   * Handle when an output is cleared or removed\n",
              "   */\n",
              "  function handleClearOutput(event, handle) {\n",
              "    var cell = handle.cell;\n",
              "\n",
              "    var id = cell.output_area._bokeh_element_id;\n",
              "    var server_id = cell.output_area._bokeh_server_id;\n",
              "    // Clean up Bokeh references\n",
              "    if (id != null && id in Bokeh.index) {\n",
              "      Bokeh.index[id].model.document.clear();\n",
              "      delete Bokeh.index[id];\n",
              "    }\n",
              "\n",
              "    if (server_id !== undefined) {\n",
              "      // Clean up Bokeh references\n",
              "      var cmd = \"from bokeh.io.state import curstate; print(curstate().uuid_to_server['\" + server_id + \"'].get_sessions()[0].document.roots[0]._id)\";\n",
              "      cell.notebook.kernel.execute(cmd, {\n",
              "        iopub: {\n",
              "          output: function(msg) {\n",
              "            var id = msg.content.text.trim();\n",
              "            if (id in Bokeh.index) {\n",
              "              Bokeh.index[id].model.document.clear();\n",
              "              delete Bokeh.index[id];\n",
              "            }\n",
              "          }\n",
              "        }\n",
              "      });\n",
              "      // Destroy server and session\n",
              "      var cmd = \"import bokeh.io.notebook as ion; ion.destroy_server('\" + server_id + \"')\";\n",
              "      cell.notebook.kernel.execute(cmd);\n",
              "    }\n",
              "  }\n",
              "\n",
              "  /**\n",
              "   * Handle when a new output is added\n",
              "   */\n",
              "  function handleAddOutput(event, handle) {\n",
              "    var output_area = handle.output_area;\n",
              "    var output = handle.output;\n",
              "\n",
              "    // limit handleAddOutput to display_data with EXEC_MIME_TYPE content only\n",
              "    if ((output.output_type != \"display_data\") || (!output.data.hasOwnProperty(EXEC_MIME_TYPE))) {\n",
              "      return\n",
              "    }\n",
              "\n",
              "    var toinsert = output_area.element.find(\".\" + CLASS_NAME.split(' ')[0]);\n",
              "\n",
              "    if (output.metadata[EXEC_MIME_TYPE][\"id\"] !== undefined) {\n",
              "      toinsert[toinsert.length - 1].firstChild.textContent = output.data[JS_MIME_TYPE];\n",
              "      // store reference to embed id on output_area\n",
              "      output_area._bokeh_element_id = output.metadata[EXEC_MIME_TYPE][\"id\"];\n",
              "    }\n",
              "    if (output.metadata[EXEC_MIME_TYPE][\"server_id\"] !== undefined) {\n",
              "      var bk_div = document.createElement(\"div\");\n",
              "      bk_div.innerHTML = output.data[HTML_MIME_TYPE];\n",
              "      var script_attrs = bk_div.children[0].attributes;\n",
              "      for (var i = 0; i < script_attrs.length; i++) {\n",
              "        toinsert[toinsert.length - 1].firstChild.setAttribute(script_attrs[i].name, script_attrs[i].value);\n",
              "      }\n",
              "      // store reference to server id on output_area\n",
              "      output_area._bokeh_server_id = output.metadata[EXEC_MIME_TYPE][\"server_id\"];\n",
              "    }\n",
              "  }\n",
              "\n",
              "  function register_renderer(events, OutputArea) {\n",
              "\n",
              "    function append_mime(data, metadata, element) {\n",
              "      // create a DOM node to render to\n",
              "      var toinsert = this.create_output_subarea(\n",
              "        metadata,\n",
              "        CLASS_NAME,\n",
              "        EXEC_MIME_TYPE\n",
              "      );\n",
              "      this.keyboard_manager.register_events(toinsert);\n",
              "      // Render to node\n",
              "      var props = {data: data, metadata: metadata[EXEC_MIME_TYPE]};\n",
              "      render(props, toinsert[toinsert.length - 1]);\n",
              "      element.append(toinsert);\n",
              "      return toinsert\n",
              "    }\n",
              "\n",
              "    /* Handle when an output is cleared or removed */\n",
              "    events.on('clear_output.CodeCell', handleClearOutput);\n",
              "    events.on('delete.Cell', handleClearOutput);\n",
              "\n",
              "    /* Handle when a new output is added */\n",
              "    events.on('output_added.OutputArea', handleAddOutput);\n",
              "\n",
              "    /**\n",
              "     * Register the mime type and append_mime function with output_area\n",
              "     */\n",
              "    OutputArea.prototype.register_mime_type(EXEC_MIME_TYPE, append_mime, {\n",
              "      /* Is output safe? */\n",
              "      safe: true,\n",
              "      /* Index of renderer in `output_area.display_order` */\n",
              "      index: 0\n",
              "    });\n",
              "  }\n",
              "\n",
              "  // register the mime type if in Jupyter Notebook environment and previously unregistered\n",
              "  if (root.Jupyter !== undefined) {\n",
              "    var events = require('base/js/events');\n",
              "    var OutputArea = require('notebook/js/outputarea').OutputArea;\n",
              "\n",
              "    if (OutputArea.prototype.mime_types().indexOf(EXEC_MIME_TYPE) == -1) {\n",
              "      register_renderer(events, OutputArea);\n",
              "    }\n",
              "  }\n",
              "\n",
              "  \n",
              "  if (typeof (root._bokeh_timeout) === \"undefined\" || force === true) {\n",
              "    root._bokeh_timeout = Date.now() + 5000;\n",
              "    root._bokeh_failed_load = false;\n",
              "  }\n",
              "\n",
              "  var NB_LOAD_WARNING = {'data': {'text/html':\n",
              "     \"<div style='background-color: #fdd'>\\n\"+\n",
              "     \"<p>\\n\"+\n",
              "     \"BokehJS does not appear to have successfully loaded. If loading BokehJS from CDN, this \\n\"+\n",
              "     \"may be due to a slow or bad network connection. Possible fixes:\\n\"+\n",
              "     \"</p>\\n\"+\n",
              "     \"<ul>\\n\"+\n",
              "     \"<li>re-rerun `output_notebook()` to attempt to load from CDN again, or</li>\\n\"+\n",
              "     \"<li>use INLINE resources instead, as so:</li>\\n\"+\n",
              "     \"</ul>\\n\"+\n",
              "     \"<code>\\n\"+\n",
              "     \"from bokeh.resources import INLINE\\n\"+\n",
              "     \"output_notebook(resources=INLINE)\\n\"+\n",
              "     \"</code>\\n\"+\n",
              "     \"</div>\"}};\n",
              "\n",
              "  function display_loaded() {\n",
              "    var el = document.getElementById(null);\n",
              "    if (el != null) {\n",
              "      el.textContent = \"BokehJS is loading...\";\n",
              "    }\n",
              "    if (root.Bokeh !== undefined) {\n",
              "      if (el != null) {\n",
              "        el.textContent = \"BokehJS \" + root.Bokeh.version + \" successfully loaded.\";\n",
              "      }\n",
              "    } else if (Date.now() < root._bokeh_timeout) {\n",
              "      setTimeout(display_loaded, 100)\n",
              "    }\n",
              "  }\n",
              "\n",
              "\n",
              "  function run_callbacks() {\n",
              "    try {\n",
              "      root._bokeh_onload_callbacks.forEach(function(callback) {\n",
              "        if (callback != null)\n",
              "          callback();\n",
              "      });\n",
              "    } finally {\n",
              "      delete root._bokeh_onload_callbacks\n",
              "    }\n",
              "    console.debug(\"Bokeh: all callbacks have finished\");\n",
              "  }\n",
              "\n",
              "  function load_libs(css_urls, js_urls, callback) {\n",
              "    if (css_urls == null) css_urls = [];\n",
              "    if (js_urls == null) js_urls = [];\n",
              "\n",
              "    root._bokeh_onload_callbacks.push(callback);\n",
              "    if (root._bokeh_is_loading > 0) {\n",
              "      console.debug(\"Bokeh: BokehJS is being loaded, scheduling callback at\", now());\n",
              "      return null;\n",
              "    }\n",
              "    if (js_urls == null || js_urls.length === 0) {\n",
              "      run_callbacks();\n",
              "      return null;\n",
              "    }\n",
              "    console.debug(\"Bokeh: BokehJS not loaded, scheduling load and callback at\", now());\n",
              "    root._bokeh_is_loading = css_urls.length + js_urls.length;\n",
              "\n",
              "    function on_load() {\n",
              "      root._bokeh_is_loading--;\n",
              "      if (root._bokeh_is_loading === 0) {\n",
              "        console.debug(\"Bokeh: all BokehJS libraries/stylesheets loaded\");\n",
              "        run_callbacks()\n",
              "      }\n",
              "    }\n",
              "\n",
              "    function on_error() {\n",
              "      console.error(\"failed to load \" + url);\n",
              "    }\n",
              "\n",
              "    for (var i = 0; i < css_urls.length; i++) {\n",
              "      var url = css_urls[i];\n",
              "      const element = document.createElement(\"link\");\n",
              "      element.onload = on_load;\n",
              "      element.onerror = on_error;\n",
              "      element.rel = \"stylesheet\";\n",
              "      element.type = \"text/css\";\n",
              "      element.href = url;\n",
              "      console.debug(\"Bokeh: injecting link tag for BokehJS stylesheet: \", url);\n",
              "      document.body.appendChild(element);\n",
              "    }\n",
              "\n",
              "    for (var i = 0; i < js_urls.length; i++) {\n",
              "      var url = js_urls[i];\n",
              "      var element = document.createElement('script');\n",
              "      element.onload = on_load;\n",
              "      element.onerror = on_error;\n",
              "      element.async = false;\n",
              "      element.src = url;\n",
              "      console.debug(\"Bokeh: injecting script tag for BokehJS library: \", url);\n",
              "      document.head.appendChild(element);\n",
              "    }\n",
              "  };\n",
              "\n",
              "  function inject_raw_css(css) {\n",
              "    const element = document.createElement(\"style\");\n",
              "    element.appendChild(document.createTextNode(css));\n",
              "    document.body.appendChild(element);\n",
              "  }\n",
              "\n",
              "  \n",
              "  var js_urls = [\"https://cdn.pydata.org/bokeh/release/bokeh-1.4.0.min.js\", \"https://cdn.pydata.org/bokeh/release/bokeh-widgets-1.4.0.min.js\", \"https://cdn.pydata.org/bokeh/release/bokeh-tables-1.4.0.min.js\", \"https://cdn.pydata.org/bokeh/release/bokeh-gl-1.4.0.min.js\"];\n",
              "  var css_urls = [];\n",
              "  \n",
              "\n",
              "  var inline_js = [\n",
              "    function(Bokeh) {\n",
              "      Bokeh.set_log_level(\"info\");\n",
              "    },\n",
              "    function(Bokeh) {\n",
              "    \n",
              "    \n",
              "    }\n",
              "  ];\n",
              "\n",
              "  function run_inline_js() {\n",
              "    \n",
              "    if (root.Bokeh !== undefined || force === true) {\n",
              "      \n",
              "    for (var i = 0; i < inline_js.length; i++) {\n",
              "      inline_js[i].call(root, root.Bokeh);\n",
              "    }\n",
              "    } else if (Date.now() < root._bokeh_timeout) {\n",
              "      setTimeout(run_inline_js, 100);\n",
              "    } else if (!root._bokeh_failed_load) {\n",
              "      console.log(\"Bokeh: BokehJS failed to load within specified timeout.\");\n",
              "      root._bokeh_failed_load = true;\n",
              "    } else if (force !== true) {\n",
              "      var cell = $(document.getElementById(null)).parents('.cell').data().cell;\n",
              "      cell.output_area.append_execute_result(NB_LOAD_WARNING)\n",
              "    }\n",
              "\n",
              "  }\n",
              "\n",
              "  if (root._bokeh_is_loading === 0) {\n",
              "    console.debug(\"Bokeh: BokehJS loaded, going straight to plotting\");\n",
              "    run_inline_js();\n",
              "  } else {\n",
              "    load_libs(css_urls, js_urls, function() {\n",
              "      console.debug(\"Bokeh: BokehJS plotting callback run at\", now());\n",
              "      run_inline_js();\n",
              "    });\n",
              "  }\n",
              "}(window));"
            ],
            "application/vnd.bokehjs_load.v0+json": "\n(function(root) {\n  function now() {\n    return new Date();\n  }\n\n  var force = true;\n\n  if (typeof root._bokeh_onload_callbacks === \"undefined\" || force === true) {\n    root._bokeh_onload_callbacks = [];\n    root._bokeh_is_loading = undefined;\n  }\n\n  \n\n  \n  if (typeof (root._bokeh_timeout) === \"undefined\" || force === true) {\n    root._bokeh_timeout = Date.now() + 5000;\n    root._bokeh_failed_load = false;\n  }\n\n  var NB_LOAD_WARNING = {'data': {'text/html':\n     \"<div style='background-color: #fdd'>\\n\"+\n     \"<p>\\n\"+\n     \"BokehJS does not appear to have successfully loaded. If loading BokehJS from CDN, this \\n\"+\n     \"may be due to a slow or bad network connection. Possible fixes:\\n\"+\n     \"</p>\\n\"+\n     \"<ul>\\n\"+\n     \"<li>re-rerun `output_notebook()` to attempt to load from CDN again, or</li>\\n\"+\n     \"<li>use INLINE resources instead, as so:</li>\\n\"+\n     \"</ul>\\n\"+\n     \"<code>\\n\"+\n     \"from bokeh.resources import INLINE\\n\"+\n     \"output_notebook(resources=INLINE)\\n\"+\n     \"</code>\\n\"+\n     \"</div>\"}};\n\n  function display_loaded() {\n    var el = document.getElementById(null);\n    if (el != null) {\n      el.textContent = \"BokehJS is loading...\";\n    }\n    if (root.Bokeh !== undefined) {\n      if (el != null) {\n        el.textContent = \"BokehJS \" + root.Bokeh.version + \" successfully loaded.\";\n      }\n    } else if (Date.now() < root._bokeh_timeout) {\n      setTimeout(display_loaded, 100)\n    }\n  }\n\n\n  function run_callbacks() {\n    try {\n      root._bokeh_onload_callbacks.forEach(function(callback) {\n        if (callback != null)\n          callback();\n      });\n    } finally {\n      delete root._bokeh_onload_callbacks\n    }\n    console.debug(\"Bokeh: all callbacks have finished\");\n  }\n\n  function load_libs(css_urls, js_urls, callback) {\n    if (css_urls == null) css_urls = [];\n    if (js_urls == null) js_urls = [];\n\n    root._bokeh_onload_callbacks.push(callback);\n    if (root._bokeh_is_loading > 0) {\n      console.debug(\"Bokeh: BokehJS is being loaded, scheduling callback at\", now());\n      return null;\n    }\n    if (js_urls == null || js_urls.length === 0) {\n      run_callbacks();\n      return null;\n    }\n    console.debug(\"Bokeh: BokehJS not loaded, scheduling load and callback at\", now());\n    root._bokeh_is_loading = css_urls.length + js_urls.length;\n\n    function on_load() {\n      root._bokeh_is_loading--;\n      if (root._bokeh_is_loading === 0) {\n        console.debug(\"Bokeh: all BokehJS libraries/stylesheets loaded\");\n        run_callbacks()\n      }\n    }\n\n    function on_error() {\n      console.error(\"failed to load \" + url);\n    }\n\n    for (var i = 0; i < css_urls.length; i++) {\n      var url = css_urls[i];\n      const element = document.createElement(\"link\");\n      element.onload = on_load;\n      element.onerror = on_error;\n      element.rel = \"stylesheet\";\n      element.type = \"text/css\";\n      element.href = url;\n      console.debug(\"Bokeh: injecting link tag for BokehJS stylesheet: \", url);\n      document.body.appendChild(element);\n    }\n\n    for (var i = 0; i < js_urls.length; i++) {\n      var url = js_urls[i];\n      var element = document.createElement('script');\n      element.onload = on_load;\n      element.onerror = on_error;\n      element.async = false;\n      element.src = url;\n      console.debug(\"Bokeh: injecting script tag for BokehJS library: \", url);\n      document.head.appendChild(element);\n    }\n  };\n\n  function inject_raw_css(css) {\n    const element = document.createElement(\"style\");\n    element.appendChild(document.createTextNode(css));\n    document.body.appendChild(element);\n  }\n\n  \n  var js_urls = [\"https://cdn.pydata.org/bokeh/release/bokeh-1.4.0.min.js\", \"https://cdn.pydata.org/bokeh/release/bokeh-widgets-1.4.0.min.js\", \"https://cdn.pydata.org/bokeh/release/bokeh-tables-1.4.0.min.js\", \"https://cdn.pydata.org/bokeh/release/bokeh-gl-1.4.0.min.js\"];\n  var css_urls = [];\n  \n\n  var inline_js = [\n    function(Bokeh) {\n      Bokeh.set_log_level(\"info\");\n    },\n    function(Bokeh) {\n    \n    \n    }\n  ];\n\n  function run_inline_js() {\n    \n    if (root.Bokeh !== undefined || force === true) {\n      \n    for (var i = 0; i < inline_js.length; i++) {\n      inline_js[i].call(root, root.Bokeh);\n    }\n    } else if (Date.now() < root._bokeh_timeout) {\n      setTimeout(run_inline_js, 100);\n    } else if (!root._bokeh_failed_load) {\n      console.log(\"Bokeh: BokehJS failed to load within specified timeout.\");\n      root._bokeh_failed_load = true;\n    } else if (force !== true) {\n      var cell = $(document.getElementById(null)).parents('.cell').data().cell;\n      cell.output_area.append_execute_result(NB_LOAD_WARNING)\n    }\n\n  }\n\n  if (root._bokeh_is_loading === 0) {\n    console.debug(\"Bokeh: BokehJS loaded, going straight to plotting\");\n    run_inline_js();\n  } else {\n    load_libs(css_urls, js_urls, function() {\n      console.debug(\"Bokeh: BokehJS plotting callback run at\", now());\n      run_inline_js();\n    });\n  }\n}(window));"
          },
          "metadata": {
            "tags": []
          }
        },
        {
          "output_type": "display_data",
          "data": {
            "text/html": [
              "\n",
              "\n",
              "\n",
              "\n",
              "\n",
              "\n",
              "  <div class=\"bk-root\" id=\"68e81a7e-040e-475e-9bd0-e02c5f8ee5f3\" data-root-id=\"1109\"></div>\n"
            ]
          },
          "metadata": {
            "tags": []
          }
        },
        {
          "output_type": "display_data",
          "data": {
            "application/javascript": [
              "(function(root) {\n",
              "  function embed_document(root) {\n",
              "    \n",
              "  var docs_json = {\"3b6b3cd4-45b7-4dda-a2fc-af58a9e538e0\":{\"roots\":{\"references\":[{\"attributes\":{\"below\":[{\"id\":\"1118\",\"type\":\"LinearAxis\"}],\"center\":[{\"id\":\"1122\",\"type\":\"Grid\"},{\"id\":\"1127\",\"type\":\"Grid\"}],\"left\":[{\"id\":\"1123\",\"type\":\"LinearAxis\"}],\"plot_height\":400,\"renderers\":[{\"id\":\"1144\",\"type\":\"GlyphRenderer\"}],\"title\":{\"id\":\"1158\",\"type\":\"Title\"},\"toolbar\":{\"id\":\"1134\",\"type\":\"Toolbar\"},\"x_range\":{\"id\":\"1110\",\"type\":\"DataRange1d\"},\"x_scale\":{\"id\":\"1114\",\"type\":\"LinearScale\"},\"y_range\":{\"id\":\"1112\",\"type\":\"DataRange1d\"},\"y_scale\":{\"id\":\"1116\",\"type\":\"LinearScale\"}},\"id\":\"1109\",\"subtype\":\"Figure\",\"type\":\"Plot\"},{\"attributes\":{},\"id\":\"1161\",\"type\":\"BasicTickFormatter\"},{\"attributes\":{\"dimension\":1,\"ticker\":{\"id\":\"1124\",\"type\":\"BasicTicker\"}},\"id\":\"1127\",\"type\":\"Grid\"},{\"attributes\":{},\"id\":\"1163\",\"type\":\"Selection\"},{\"attributes\":{\"fill_alpha\":{\"value\":0.25},\"fill_color\":{\"field\":\"color\"},\"line_alpha\":{\"value\":0.25},\"line_color\":{\"field\":\"color\"},\"size\":{\"units\":\"screen\",\"value\":10},\"x\":{\"field\":\"x\"},\"y\":{\"field\":\"y\"}},\"id\":\"1142\",\"type\":\"Scatter\"},{\"attributes\":{},\"id\":\"1164\",\"type\":\"UnionRenderers\"},{\"attributes\":{\"bottom_units\":\"screen\",\"fill_alpha\":{\"value\":0.5},\"fill_color\":{\"value\":\"lightgrey\"},\"left_units\":\"screen\",\"level\":\"overlay\",\"line_alpha\":{\"value\":1.0},\"line_color\":{\"value\":\"black\"},\"line_dash\":[4,4],\"line_width\":{\"value\":2},\"render_mode\":\"css\",\"right_units\":\"screen\",\"top_units\":\"screen\"},\"id\":\"1165\",\"type\":\"BoxAnnotation\"},{\"attributes\":{\"active_drag\":\"auto\",\"active_inspect\":\"auto\",\"active_multi\":null,\"active_scroll\":{\"id\":\"1129\",\"type\":\"WheelZoomTool\"},\"active_tap\":\"auto\",\"tools\":[{\"id\":\"1128\",\"type\":\"PanTool\"},{\"id\":\"1129\",\"type\":\"WheelZoomTool\"},{\"id\":\"1130\",\"type\":\"BoxZoomTool\"},{\"id\":\"1131\",\"type\":\"SaveTool\"},{\"id\":\"1132\",\"type\":\"ResetTool\"},{\"id\":\"1133\",\"type\":\"HelpTool\"},{\"id\":\"1146\",\"type\":\"HoverTool\"}]},\"id\":\"1134\",\"type\":\"Toolbar\"},{\"attributes\":{},\"id\":\"1128\",\"type\":\"PanTool\"},{\"attributes\":{},\"id\":\"1129\",\"type\":\"WheelZoomTool\"},{\"attributes\":{\"callback\":null,\"data\":{\"color\":[\"blue\",\"blue\",\"blue\",\"blue\",\"blue\",\"blue\",\"blue\",\"blue\",\"blue\",\"blue\",\"blue\",\"blue\",\"blue\",\"blue\",\"blue\",\"blue\",\"blue\",\"blue\",\"blue\",\"blue\",\"blue\",\"blue\",\"blue\",\"blue\",\"blue\",\"blue\",\"blue\",\"blue\",\"blue\",\"blue\",\"blue\",\"blue\",\"blue\",\"blue\",\"blue\",\"blue\",\"blue\",\"blue\",\"blue\",\"blue\",\"blue\",\"blue\",\"blue\",\"blue\",\"blue\",\"blue\",\"blue\",\"blue\",\"blue\",\"blue\",\"blue\",\"blue\",\"blue\",\"blue\",\"blue\",\"blue\",\"blue\",\"blue\",\"blue\",\"blue\",\"blue\",\"blue\",\"blue\",\"blue\",\"blue\",\"blue\",\"blue\",\"blue\",\"blue\",\"blue\",\"blue\",\"blue\",\"blue\",\"blue\",\"blue\",\"blue\",\"blue\",\"blue\",\"blue\",\"blue\",\"blue\",\"blue\",\"blue\",\"blue\",\"blue\",\"blue\",\"blue\",\"blue\",\"blue\",\"blue\",\"blue\",\"blue\",\"blue\",\"blue\",\"blue\",\"blue\",\"blue\",\"blue\",\"blue\",\"blue\",\"blue\",\"blue\",\"blue\",\"blue\",\"blue\",\"blue\",\"blue\",\"blue\",\"blue\",\"blue\",\"blue\",\"blue\",\"blue\",\"blue\",\"blue\",\"blue\",\"blue\",\"blue\",\"blue\",\"blue\",\"blue\",\"blue\",\"blue\",\"blue\",\"blue\",\"blue\",\"blue\",\"blue\",\"blue\",\"blue\",\"blue\",\"blue\",\"blue\",\"blue\",\"blue\",\"blue\",\"blue\",\"blue\",\"blue\",\"blue\",\"blue\",\"blue\",\"blue\",\"blue\",\"blue\",\"blue\",\"blue\",\"blue\",\"blue\",\"blue\",\"blue\",\"blue\",\"blue\",\"blue\",\"blue\",\"blue\",\"blue\",\"blue\",\"blue\",\"blue\",\"blue\",\"blue\",\"blue\",\"blue\",\"blue\",\"blue\",\"blue\",\"blue\",\"blue\",\"blue\",\"blue\",\"blue\",\"blue\",\"blue\",\"blue\",\"blue\",\"blue\",\"blue\",\"blue\",\"blue\",\"blue\",\"blue\",\"blue\",\"blue\",\"blue\",\"blue\",\"blue\",\"blue\",\"blue\",\"blue\",\"blue\",\"blue\",\"blue\",\"blue\",\"blue\",\"blue\",\"blue\",\"blue\",\"blue\",\"blue\",\"blue\",\"blue\",\"blue\",\"blue\",\"blue\",\"blue\",\"blue\",\"blue\",\"blue\",\"blue\",\"blue\",\"blue\",\"blue\",\"blue\",\"blue\",\"blue\",\"blue\",\"blue\",\"blue\",\"blue\",\"blue\",\"blue\",\"blue\",\"blue\",\"blue\",\"blue\",\"blue\",\"blue\",\"blue\",\"blue\",\"blue\",\"blue\",\"blue\",\"blue\",\"blue\",\"blue\",\"blue\",\"blue\",\"blue\",\"blue\",\"blue\",\"blue\",\"blue\",\"blue\",\"blue\",\"blue\",\"blue\",\"blue\",\"blue\",\"blue\",\"blue\",\"blue\",\"blue\",\"blue\",\"blue\",\"blue\",\"blue\",\"blue\",\"blue\",\"blue\",\"blue\",\"blue\",\"blue\",\"blue\",\"blue\",\"blue\",\"blue\",\"blue\",\"blue\",\"blue\",\"blue\",\"blue\",\"blue\",\"blue\",\"blue\",\"blue\",\"blue\",\"blue\",\"blue\",\"blue\",\"blue\",\"blue\",\"blue\",\"blue\",\"blue\",\"blue\",\"blue\",\"blue\",\"blue\",\"blue\",\"blue\",\"blue\",\"blue\",\"blue\",\"blue\",\"blue\",\"blue\",\"blue\",\"blue\",\"blue\",\"blue\",\"blue\",\"blue\",\"blue\",\"blue\",\"blue\",\"blue\",\"blue\",\"blue\",\"blue\",\"blue\",\"blue\",\"blue\",\"blue\",\"blue\",\"blue\",\"blue\",\"blue\",\"blue\",\"blue\",\"blue\",\"blue\",\"blue\",\"blue\",\"blue\",\"blue\",\"blue\",\"blue\",\"blue\",\"blue\",\"blue\",\"blue\",\"blue\",\"blue\",\"blue\",\"blue\",\"blue\",\"blue\",\"blue\",\"blue\",\"blue\",\"blue\",\"blue\",\"blue\",\"blue\",\"blue\",\"blue\",\"blue\",\"blue\",\"blue\",\"blue\",\"blue\",\"blue\",\"blue\",\"blue\",\"blue\",\"blue\",\"blue\",\"blue\",\"blue\",\"blue\",\"blue\",\"blue\",\"blue\",\"blue\",\"blue\",\"blue\",\"blue\",\"blue\",\"blue\",\"blue\",\"blue\",\"blue\",\"blue\",\"blue\",\"blue\",\"blue\",\"blue\",\"blue\",\"blue\",\"blue\",\"blue\",\"blue\",\"blue\",\"blue\",\"blue\",\"blue\",\"blue\",\"blue\",\"blue\",\"blue\",\"blue\",\"blue\",\"blue\",\"blue\",\"blue\",\"blue\",\"blue\",\"blue\",\"blue\",\"blue\",\"blue\",\"blue\",\"blue\",\"blue\",\"blue\",\"blue\",\"blue\",\"blue\",\"blue\",\"blue\",\"blue\",\"blue\",\"blue\",\"blue\",\"blue\",\"blue\",\"blue\",\"blue\",\"blue\",\"blue\",\"blue\",\"blue\",\"blue\",\"blue\",\"blue\",\"blue\",\"blue\",\"blue\",\"blue\",\"blue\",\"blue\",\"blue\",\"blue\",\"blue\",\"blue\",\"blue\",\"blue\",\"blue\",\"blue\",\"blue\",\"blue\",\"blue\",\"blue\",\"blue\",\"blue\",\"blue\",\"blue\",\"blue\",\"blue\",\"blue\",\"blue\",\"blue\",\"blue\",\"blue\",\"blue\",\"blue\",\"blue\",\"blue\",\"blue\",\"blue\",\"blue\",\"blue\",\"blue\",\"blue\",\"blue\",\"blue\",\"blue\",\"blue\",\"blue\",\"blue\",\"blue\",\"blue\",\"blue\",\"blue\",\"blue\",\"blue\",\"blue\",\"blue\",\"blue\",\"blue\",\"blue\",\"blue\",\"blue\",\"blue\",\"blue\",\"blue\",\"blue\",\"blue\",\"blue\",\"blue\",\"blue\",\"blue\",\"blue\",\"blue\",\"blue\",\"blue\",\"blue\",\"blue\",\"blue\",\"blue\",\"blue\",\"blue\",\"blue\",\"blue\",\"blue\",\"blue\",\"blue\",\"blue\",\"blue\",\"blue\",\"blue\",\"blue\",\"blue\",\"blue\",\"blue\",\"blue\",\"blue\",\"blue\",\"blue\",\"blue\",\"blue\",\"blue\",\"blue\",\"blue\",\"blue\",\"blue\",\"blue\",\"blue\",\"blue\",\"blue\",\"blue\",\"blue\",\"blue\",\"blue\",\"blue\",\"blue\",\"blue\",\"blue\",\"blue\",\"blue\",\"blue\",\"blue\",\"blue\",\"blue\",\"blue\",\"blue\",\"blue\",\"blue\",\"blue\",\"blue\",\"blue\",\"blue\",\"blue\",\"blue\",\"blue\",\"blue\",\"blue\",\"blue\",\"blue\",\"blue\",\"blue\",\"blue\",\"blue\",\"blue\",\"blue\",\"blue\",\"blue\",\"blue\",\"blue\",\"blue\",\"blue\",\"blue\",\"blue\",\"blue\",\"blue\",\"blue\",\"blue\",\"blue\",\"blue\",\"blue\",\"blue\",\"blue\",\"blue\",\"blue\",\"blue\",\"blue\",\"blue\",\"blue\",\"blue\",\"blue\",\"blue\",\"blue\",\"blue\",\"blue\",\"blue\",\"blue\",\"blue\",\"blue\",\"blue\",\"blue\",\"blue\",\"blue\",\"blue\",\"blue\",\"blue\",\"blue\",\"blue\",\"blue\",\"blue\",\"blue\",\"blue\",\"blue\",\"blue\",\"blue\",\"blue\",\"blue\",\"blue\",\"blue\",\"blue\",\"blue\",\"blue\",\"blue\",\"blue\",\"blue\",\"blue\",\"blue\",\"blue\",\"blue\",\"blue\",\"blue\",\"blue\",\"blue\",\"blue\",\"blue\",\"blue\",\"blue\",\"blue\",\"blue\",\"blue\",\"blue\",\"blue\",\"blue\",\"blue\",\"blue\",\"blue\",\"blue\",\"blue\",\"blue\",\"blue\",\"blue\",\"blue\",\"blue\",\"blue\",\"blue\",\"blue\",\"blue\",\"blue\",\"blue\",\"blue\",\"blue\",\"blue\",\"blue\",\"blue\",\"blue\",\"blue\",\"blue\",\"blue\",\"blue\",\"blue\",\"blue\",\"blue\",\"blue\",\"blue\",\"blue\",\"blue\",\"blue\",\"blue\",\"blue\",\"blue\",\"blue\",\"blue\",\"blue\",\"blue\",\"blue\",\"blue\",\"blue\",\"blue\",\"blue\",\"blue\",\"blue\",\"blue\",\"blue\",\"blue\",\"blue\",\"blue\",\"blue\",\"blue\",\"blue\",\"blue\",\"blue\",\"blue\",\"blue\",\"blue\",\"blue\",\"blue\",\"blue\",\"blue\",\"blue\",\"blue\",\"blue\",\"blue\",\"blue\",\"blue\",\"blue\",\"blue\",\"blue\",\"blue\",\"blue\",\"blue\",\"blue\",\"blue\",\"blue\",\"blue\",\"blue\",\"blue\",\"blue\",\"blue\",\"blue\",\"blue\",\"blue\",\"blue\",\"blue\",\"blue\",\"blue\",\"blue\",\"blue\",\"blue\",\"blue\",\"blue\",\"blue\",\"blue\",\"blue\",\"blue\",\"blue\",\"blue\",\"blue\",\"blue\",\"blue\",\"blue\",\"blue\",\"blue\",\"blue\",\"blue\",\"blue\",\"blue\",\"blue\",\"blue\",\"blue\",\"blue\",\"blue\",\"blue\",\"blue\",\"blue\",\"blue\",\"blue\",\"blue\",\"blue\",\"blue\",\"blue\",\"blue\",\"blue\",\"blue\",\"blue\",\"blue\",\"blue\",\"blue\",\"blue\",\"blue\",\"blue\",\"blue\",\"blue\",\"blue\",\"blue\",\"blue\",\"blue\",\"blue\",\"blue\",\"blue\",\"blue\",\"blue\",\"blue\",\"blue\",\"blue\",\"blue\",\"blue\",\"blue\",\"blue\",\"blue\",\"blue\",\"blue\",\"blue\",\"blue\",\"blue\",\"blue\",\"blue\",\"blue\",\"blue\",\"blue\",\"blue\",\"blue\",\"blue\",\"blue\",\"blue\",\"blue\",\"blue\",\"blue\",\"blue\",\"blue\",\"blue\",\"blue\",\"blue\",\"blue\",\"blue\",\"blue\",\"blue\",\"blue\",\"blue\",\"blue\",\"blue\",\"blue\",\"blue\",\"blue\",\"blue\",\"blue\",\"blue\",\"blue\",\"blue\",\"blue\",\"blue\",\"blue\",\"blue\",\"blue\",\"blue\",\"blue\",\"blue\",\"blue\",\"blue\",\"blue\",\"blue\",\"blue\",\"blue\",\"blue\",\"blue\",\"blue\",\"blue\",\"blue\",\"blue\",\"blue\",\"blue\",\"blue\",\"blue\",\"blue\",\"blue\",\"blue\",\"blue\",\"blue\",\"blue\",\"blue\",\"blue\",\"blue\",\"blue\",\"blue\",\"blue\",\"blue\",\"blue\",\"blue\",\"blue\",\"blue\",\"blue\",\"blue\",\"blue\",\"blue\",\"blue\",\"blue\",\"blue\",\"blue\",\"blue\",\"blue\",\"blue\",\"blue\",\"blue\",\"blue\",\"blue\",\"blue\",\"blue\",\"blue\",\"blue\",\"blue\",\"blue\",\"blue\",\"blue\",\"blue\",\"blue\",\"blue\",\"blue\",\"blue\",\"blue\",\"blue\",\"blue\",\"blue\",\"blue\",\"blue\",\"blue\",\"blue\",\"blue\",\"blue\",\"blue\",\"blue\",\"blue\",\"blue\",\"blue\",\"blue\",\"blue\",\"blue\",\"blue\",\"blue\",\"blue\",\"blue\",\"blue\",\"blue\",\"blue\",\"blue\",\"blue\",\"blue\",\"blue\",\"blue\",\"blue\",\"blue\",\"blue\",\"blue\",\"blue\",\"blue\",\"blue\",\"blue\",\"blue\",\"blue\",\"blue\",\"blue\",\"blue\",\"blue\",\"blue\",\"blue\",\"blue\",\"blue\",\"blue\",\"blue\",\"blue\",\"blue\",\"blue\",\"blue\",\"blue\",\"blue\",\"blue\",\"blue\",\"blue\",\"blue\",\"blue\",\"blue\",\"blue\",\"blue\",\"blue\",\"blue\",\"blue\",\"blue\",\"blue\",\"blue\",\"blue\",\"blue\",\"blue\",\"blue\",\"blue\",\"blue\",\"blue\",\"blue\",\"blue\",\"blue\",\"blue\",\"blue\",\"blue\",\"blue\",\"blue\",\"blue\",\"blue\",\"blue\",\"blue\",\"blue\",\"blue\",\"blue\",\"blue\",\"blue\",\"blue\",\"blue\",\"blue\",\"blue\",\"blue\",\"blue\",\"blue\",\"blue\",\"blue\",\"blue\",\"blue\",\"blue\",\"blue\",\"blue\",\"blue\",\"blue\",\"blue\",\"blue\",\"blue\",\"blue\",\"blue\",\"blue\",\"blue\",\"blue\",\"blue\",\"blue\",\"blue\",\"blue\",\"blue\",\"blue\",\"blue\",\"blue\",\"blue\",\"blue\",\"blue\",\"blue\",\"blue\",\"blue\",\"blue\",\"blue\",\"blue\",\"blue\",\"blue\",\"blue\",\"blue\",\"blue\",\"blue\",\"blue\",\"blue\",\"blue\",\"blue\",\"blue\",\"blue\",\"blue\",\"blue\",\"blue\",\"blue\",\"blue\",\"blue\",\"blue\",\"blue\",\"blue\",\"blue\",\"blue\",\"blue\",\"blue\",\"blue\",\"blue\",\"blue\",\"blue\",\"blue\",\"blue\",\"blue\",\"blue\",\"blue\",\"blue\",\"blue\",\"blue\",\"blue\",\"blue\",\"blue\",\"blue\",\"blue\",\"blue\",\"blue\",\"blue\",\"blue\",\"blue\",\"blue\",\"blue\",\"blue\",\"blue\",\"blue\",\"blue\",\"blue\",\"blue\",\"blue\",\"blue\",\"blue\",\"blue\",\"blue\",\"blue\",\"blue\",\"blue\",\"blue\",\"blue\",\"blue\",\"blue\",\"blue\",\"blue\",\"blue\",\"blue\",\"blue\",\"blue\",\"blue\",\"blue\",\"blue\",\"blue\",\"blue\",\"blue\",\"blue\",\"blue\",\"blue\",\"blue\",\"blue\",\"blue\",\"blue\",\"blue\",\"blue\",\"blue\",\"blue\",\"blue\",\"blue\",\"blue\",\"blue\",\"blue\",\"blue\",\"blue\",\"blue\",\"blue\",\"blue\",\"blue\",\"blue\",\"blue\",\"blue\",\"blue\",\"blue\",\"blue\",\"blue\",\"blue\",\"blue\",\"blue\",\"blue\",\"blue\",\"blue\",\"blue\",\"blue\",\"blue\",\"blue\",\"blue\",\"blue\",\"blue\",\"blue\",\"blue\",\"blue\",\"blue\",\"blue\",\"blue\",\"blue\",\"blue\",\"blue\",\"blue\",\"blue\",\"blue\",\"blue\",\"blue\",\"blue\",\"blue\",\"blue\",\"blue\",\"blue\",\"blue\",\"blue\",\"blue\",\"blue\",\"blue\",\"blue\",\"blue\",\"blue\",\"blue\",\"blue\",\"blue\",\"blue\",\"blue\",\"blue\",\"blue\",\"blue\",\"blue\",\"blue\",\"blue\",\"blue\",\"blue\",\"blue\",\"blue\",\"blue\",\"blue\",\"blue\",\"blue\",\"blue\",\"blue\",\"blue\",\"blue\",\"blue\",\"blue\",\"blue\",\"blue\",\"blue\",\"blue\",\"blue\",\"blue\",\"blue\",\"blue\",\"blue\",\"blue\",\"blue\",\"blue\",\"blue\",\"blue\",\"blue\",\"blue\",\"blue\",\"blue\",\"blue\",\"blue\",\"blue\",\"blue\",\"blue\",\"blue\",\"blue\",\"blue\",\"blue\",\"blue\",\"blue\",\"blue\",\"blue\",\"blue\",\"blue\",\"blue\",\"blue\",\"blue\",\"blue\",\"blue\",\"blue\",\"blue\",\"blue\",\"blue\",\"blue\",\"blue\",\"blue\",\"blue\",\"blue\",\"blue\",\"blue\",\"blue\",\"blue\",\"blue\",\"blue\",\"blue\",\"blue\",\"blue\",\"blue\",\"blue\",\"blue\",\"blue\",\"blue\",\"blue\",\"blue\",\"blue\",\"blue\",\"blue\",\"blue\",\"blue\",\"blue\",\"blue\",\"blue\",\"blue\",\"blue\",\"blue\",\"blue\",\"blue\",\"blue\",\"blue\",\"blue\",\"blue\",\"blue\",\"blue\",\"blue\",\"blue\",\"blue\",\"blue\",\"blue\",\"blue\",\"blue\",\"blue\",\"blue\",\"blue\",\"blue\",\"blue\",\"blue\",\"blue\",\"blue\",\"blue\",\"blue\",\"blue\",\"blue\",\"blue\",\"blue\",\"blue\",\"blue\",\"blue\",\"blue\",\"blue\",\"blue\",\"blue\",\"blue\",\"blue\",\"blue\",\"blue\",\"blue\",\"blue\",\"blue\",\"blue\",\"blue\",\"blue\",\"blue\",\"blue\",\"blue\",\"blue\",\"blue\",\"blue\",\"blue\",\"blue\",\"blue\",\"blue\",\"blue\",\"blue\",\"blue\",\"blue\",\"blue\",\"blue\",\"blue\",\"blue\",\"blue\",\"blue\",\"blue\",\"blue\",\"blue\",\"blue\",\"blue\",\"blue\",\"blue\",\"blue\",\"blue\",\"blue\",\"blue\",\"blue\",\"blue\",\"blue\",\"blue\",\"blue\",\"blue\",\"blue\",\"blue\",\"blue\",\"blue\",\"blue\",\"blue\",\"blue\",\"blue\",\"blue\",\"blue\",\"blue\",\"blue\",\"blue\",\"blue\",\"blue\",\"blue\",\"blue\",\"blue\",\"blue\",\"blue\",\"blue\",\"blue\",\"blue\",\"blue\",\"blue\",\"blue\",\"blue\",\"blue\",\"blue\",\"blue\",\"blue\",\"blue\",\"blue\",\"blue\",\"blue\",\"blue\",\"blue\",\"blue\",\"blue\",\"blue\",\"blue\",\"blue\",\"blue\",\"blue\",\"blue\",\"blue\",\"blue\",\"blue\",\"blue\",\"blue\",\"blue\",\"blue\",\"blue\",\"blue\",\"blue\",\"blue\",\"blue\",\"blue\",\"blue\",\"blue\",\"blue\",\"blue\",\"blue\",\"blue\",\"blue\",\"blue\",\"blue\",\"blue\",\"blue\",\"blue\",\"blue\",\"blue\",\"blue\",\"blue\",\"blue\",\"blue\",\"blue\",\"blue\",\"blue\",\"blue\",\"blue\",\"blue\",\"blue\",\"blue\",\"blue\",\"blue\",\"blue\",\"blue\",\"blue\",\"blue\",\"blue\",\"blue\",\"blue\",\"blue\",\"blue\",\"blue\",\"blue\",\"blue\",\"blue\",\"blue\",\"blue\",\"blue\",\"blue\",\"blue\",\"blue\",\"blue\",\"blue\",\"blue\",\"blue\",\"blue\",\"blue\",\"blue\",\"blue\",\"blue\",\"blue\",\"blue\",\"blue\",\"blue\",\"blue\",\"blue\",\"blue\",\"blue\",\"blue\",\"blue\",\"blue\",\"blue\",\"blue\",\"blue\",\"blue\",\"blue\",\"blue\",\"blue\",\"blue\",\"blue\",\"blue\",\"blue\",\"blue\",\"blue\",\"blue\",\"blue\",\"blue\",\"blue\",\"blue\",\"blue\",\"blue\",\"blue\",\"blue\",\"blue\",\"blue\",\"blue\",\"blue\",\"blue\",\"blue\",\"blue\",\"blue\",\"blue\",\"blue\",\"blue\",\"blue\",\"blue\",\"blue\",\"blue\",\"blue\",\"blue\",\"blue\",\"blue\",\"blue\",\"blue\",\"blue\",\"blue\",\"blue\",\"blue\",\"blue\",\"blue\",\"blue\",\"blue\",\"blue\",\"blue\",\"blue\",\"blue\",\"blue\",\"blue\",\"blue\",\"blue\",\"blue\",\"blue\",\"blue\",\"blue\",\"blue\",\"blue\",\"blue\",\"blue\",\"blue\",\"blue\",\"blue\",\"blue\",\"blue\",\"blue\",\"blue\",\"blue\",\"blue\",\"blue\",\"blue\",\"blue\",\"blue\",\"blue\",\"blue\",\"blue\",\"blue\",\"blue\",\"blue\",\"blue\",\"blue\",\"blue\",\"blue\",\"blue\",\"blue\",\"blue\",\"blue\",\"blue\",\"blue\",\"blue\",\"blue\",\"blue\",\"blue\",\"blue\",\"blue\",\"blue\",\"blue\",\"blue\",\"blue\",\"blue\",\"blue\",\"blue\",\"blue\",\"blue\",\"blue\",\"blue\",\"blue\",\"blue\",\"blue\",\"blue\",\"blue\",\"blue\",\"blue\",\"blue\",\"blue\",\"blue\",\"blue\",\"blue\",\"blue\",\"blue\",\"blue\",\"blue\",\"blue\",\"blue\",\"blue\",\"blue\",\"blue\",\"blue\",\"blue\",\"blue\",\"blue\",\"blue\",\"blue\",\"blue\",\"blue\",\"blue\",\"blue\",\"blue\",\"blue\",\"blue\",\"blue\",\"blue\",\"blue\",\"blue\",\"blue\",\"blue\",\"blue\",\"blue\",\"blue\",\"blue\",\"blue\",\"blue\",\"blue\",\"blue\",\"blue\",\"blue\",\"blue\",\"blue\",\"blue\",\"blue\",\"blue\",\"blue\",\"blue\",\"blue\",\"blue\",\"blue\",\"blue\",\"blue\",\"blue\",\"blue\",\"blue\",\"blue\",\"blue\",\"blue\",\"blue\",\"blue\",\"blue\",\"blue\",\"blue\",\"blue\",\"blue\",\"blue\",\"blue\",\"blue\",\"blue\",\"blue\",\"blue\",\"blue\",\"blue\",\"blue\",\"blue\",\"blue\",\"blue\",\"blue\",\"blue\",\"blue\",\"blue\",\"blue\",\"blue\",\"blue\",\"blue\",\"blue\",\"blue\",\"blue\",\"blue\",\"blue\",\"blue\",\"blue\",\"blue\",\"blue\",\"blue\",\"blue\",\"blue\",\"blue\",\"blue\",\"blue\",\"blue\",\"blue\",\"blue\",\"blue\",\"blue\",\"blue\",\"blue\",\"blue\",\"blue\",\"blue\",\"blue\",\"blue\",\"blue\",\"blue\",\"blue\",\"blue\",\"blue\",\"blue\",\"blue\",\"blue\",\"blue\",\"blue\",\"blue\",\"blue\",\"blue\",\"blue\",\"blue\",\"blue\",\"blue\",\"blue\",\"blue\",\"blue\",\"blue\",\"blue\",\"blue\",\"blue\",\"blue\",\"blue\",\"blue\",\"blue\",\"blue\",\"blue\",\"blue\",\"blue\",\"blue\",\"blue\",\"blue\",\"blue\",\"blue\",\"blue\",\"blue\",\"blue\",\"blue\",\"blue\",\"blue\",\"blue\",\"blue\",\"blue\",\"blue\",\"blue\",\"blue\",\"blue\",\"blue\",\"blue\",\"blue\",\"blue\",\"blue\",\"blue\",\"blue\",\"blue\",\"blue\",\"blue\",\"blue\",\"blue\",\"blue\",\"blue\",\"blue\",\"blue\",\"blue\",\"blue\",\"blue\",\"blue\",\"blue\",\"blue\",\"blue\",\"blue\",\"blue\",\"blue\",\"blue\",\"blue\",\"blue\",\"blue\",\"blue\",\"blue\",\"blue\",\"blue\",\"blue\",\"blue\",\"blue\",\"blue\",\"blue\",\"blue\",\"blue\",\"blue\",\"blue\",\"blue\",\"blue\",\"blue\",\"blue\",\"blue\",\"blue\",\"blue\",\"blue\",\"blue\",\"blue\",\"blue\",\"blue\",\"blue\",\"blue\",\"blue\",\"blue\",\"blue\",\"blue\",\"blue\",\"blue\",\"blue\",\"blue\",\"blue\",\"blue\",\"blue\",\"blue\",\"blue\",\"blue\",\"blue\",\"blue\",\"blue\",\"blue\",\"blue\",\"blue\",\"blue\",\"blue\",\"blue\",\"blue\",\"blue\",\"blue\",\"blue\",\"blue\",\"blue\",\"blue\",\"blue\",\"blue\",\"blue\",\"blue\",\"blue\",\"blue\",\"blue\",\"blue\",\"blue\",\"blue\",\"blue\",\"blue\",\"blue\",\"blue\",\"blue\",\"blue\",\"blue\",\"blue\",\"blue\",\"blue\",\"blue\",\"blue\",\"blue\",\"blue\",\"blue\",\"blue\",\"blue\",\"blue\",\"blue\",\"blue\",\"blue\",\"blue\",\"blue\",\"blue\",\"blue\",\"blue\",\"blue\",\"blue\",\"blue\",\"blue\",\"blue\",\"blue\",\"blue\",\"blue\",\"blue\",\"blue\",\"blue\",\"blue\",\"blue\",\"blue\",\"blue\",\"blue\",\"blue\",\"blue\",\"blue\",\"blue\",\"blue\",\"blue\",\"blue\",\"blue\",\"blue\",\"blue\",\"blue\",\"blue\",\"blue\",\"blue\",\"blue\",\"blue\",\"blue\",\"blue\",\"blue\",\"blue\",\"blue\",\"blue\",\"blue\",\"blue\",\"blue\",\"blue\",\"blue\",\"blue\",\"blue\",\"blue\",\"blue\",\"blue\",\"blue\",\"blue\",\"blue\",\"blue\",\"blue\",\"blue\",\"blue\",\"blue\",\"blue\",\"blue\",\"blue\",\"blue\",\"blue\",\"blue\",\"blue\",\"blue\",\"blue\",\"blue\",\"blue\",\"blue\",\"blue\",\"blue\",\"blue\",\"blue\",\"blue\",\"blue\",\"blue\",\"blue\",\"blue\",\"blue\",\"blue\",\"blue\",\"blue\",\"blue\",\"blue\",\"blue\",\"blue\",\"blue\",\"blue\",\"blue\",\"blue\",\"blue\",\"blue\",\"blue\",\"blue\",\"blue\",\"blue\",\"blue\",\"blue\",\"blue\",\"blue\",\"blue\",\"blue\",\"blue\",\"blue\",\"blue\",\"blue\",\"blue\",\"blue\",\"blue\",\"blue\",\"blue\",\"blue\",\"blue\",\"blue\",\"blue\",\"blue\",\"blue\",\"blue\",\"blue\",\"blue\",\"blue\",\"blue\",\"blue\",\"blue\",\"blue\",\"blue\",\"blue\",\"blue\",\"blue\",\"blue\",\"blue\",\"blue\",\"blue\",\"blue\",\"blue\",\"blue\",\"blue\",\"blue\",\"blue\",\"blue\",\"blue\",\"blue\",\"blue\",\"blue\",\"blue\",\"blue\",\"blue\",\"blue\",\"blue\",\"blue\",\"blue\",\"blue\",\"blue\",\"blue\",\"blue\",\"blue\",\"blue\",\"blue\",\"blue\",\"blue\",\"blue\",\"blue\",\"blue\",\"blue\",\"blue\",\"blue\",\"blue\",\"blue\",\"blue\",\"blue\",\"blue\",\"blue\",\"blue\",\"blue\",\"blue\",\"blue\",\"blue\",\"blue\",\"blue\",\"blue\",\"blue\",\"blue\",\"blue\",\"blue\",\"blue\",\"blue\",\"blue\",\"blue\",\"blue\",\"blue\",\"blue\",\"blue\",\"blue\",\"blue\",\"blue\",\"blue\",\"blue\",\"blue\",\"blue\",\"blue\",\"blue\",\"blue\",\"blue\",\"blue\",\"blue\",\"blue\",\"blue\",\"blue\",\"blue\",\"blue\",\"blue\",\"blue\",\"blue\",\"blue\",\"blue\",\"blue\",\"blue\",\"blue\",\"blue\",\"blue\",\"blue\",\"blue\",\"blue\",\"blue\",\"blue\",\"blue\",\"blue\",\"blue\",\"blue\",\"blue\",\"blue\",\"blue\",\"blue\",\"blue\",\"blue\",\"blue\",\"blue\",\"blue\",\"blue\",\"blue\",\"blue\",\"blue\",\"blue\",\"blue\",\"blue\",\"blue\",\"blue\",\"blue\",\"blue\",\"blue\",\"blue\",\"blue\",\"blue\",\"blue\",\"blue\",\"blue\",\"blue\",\"blue\",\"blue\",\"blue\",\"blue\",\"blue\",\"blue\",\"blue\",\"blue\",\"blue\",\"blue\",\"blue\",\"blue\",\"blue\",\"blue\",\"blue\",\"blue\",\"blue\",\"blue\",\"blue\",\"blue\",\"blue\",\"blue\",\"blue\",\"blue\",\"blue\",\"blue\",\"blue\",\"blue\",\"blue\",\"blue\",\"blue\",\"blue\",\"blue\",\"blue\",\"blue\",\"blue\",\"blue\",\"blue\",\"blue\",\"blue\",\"blue\",\"blue\",\"blue\",\"blue\",\"blue\",\"blue\",\"blue\",\"blue\",\"blue\",\"blue\",\"blue\",\"blue\",\"blue\",\"blue\",\"blue\",\"blue\",\"blue\",\"blue\",\"blue\",\"blue\",\"blue\",\"blue\",\"blue\",\"blue\",\"blue\",\"blue\",\"blue\",\"blue\",\"blue\",\"blue\",\"blue\",\"blue\",\"blue\",\"blue\",\"blue\",\"blue\",\"blue\",\"blue\",\"blue\",\"blue\",\"blue\",\"blue\",\"blue\",\"blue\",\"blue\",\"blue\",\"blue\",\"blue\",\"blue\",\"blue\",\"blue\",\"blue\",\"blue\",\"blue\",\"blue\",\"blue\",\"blue\",\"blue\",\"blue\",\"blue\",\"blue\",\"blue\",\"blue\",\"blue\",\"blue\",\"blue\",\"blue\",\"blue\",\"blue\",\"blue\",\"blue\",\"blue\",\"blue\",\"blue\",\"blue\",\"blue\",\"blue\",\"blue\",\"blue\",\"blue\",\"blue\",\"blue\",\"blue\",\"blue\",\"blue\",\"blue\",\"blue\",\"blue\",\"blue\",\"blue\",\"blue\",\"blue\",\"blue\",\"blue\",\"blue\",\"blue\",\"blue\",\"blue\",\"blue\",\"blue\",\"blue\",\"blue\",\"blue\",\"blue\",\"blue\",\"blue\",\"blue\",\"blue\",\"blue\",\"blue\",\"blue\",\"blue\",\"blue\",\"blue\",\"blue\",\"blue\",\"blue\",\"blue\",\"blue\",\"blue\",\"blue\",\"blue\",\"blue\",\"blue\",\"blue\",\"blue\",\"blue\",\"blue\",\"blue\",\"blue\",\"blue\",\"blue\",\"blue\",\"blue\",\"blue\",\"blue\",\"blue\",\"blue\",\"blue\",\"blue\",\"blue\",\"blue\",\"blue\",\"blue\",\"blue\",\"blue\",\"blue\",\"blue\",\"blue\",\"blue\",\"blue\",\"blue\",\"blue\",\"blue\",\"blue\",\"blue\",\"blue\",\"blue\",\"blue\",\"blue\",\"blue\",\"blue\",\"blue\",\"blue\",\"blue\",\"blue\",\"blue\",\"blue\",\"blue\",\"blue\",\"blue\",\"blue\",\"blue\",\"blue\",\"blue\",\"blue\",\"blue\",\"blue\",\"blue\",\"blue\",\"blue\",\"blue\",\"blue\",\"blue\",\"blue\",\"blue\",\"blue\",\"blue\",\"blue\",\"blue\",\"blue\",\"blue\",\"blue\",\"blue\",\"blue\",\"blue\",\"blue\",\"blue\",\"blue\",\"blue\",\"blue\",\"blue\",\"blue\",\"blue\",\"blue\",\"blue\",\"blue\",\"blue\",\"blue\",\"blue\",\"blue\",\"blue\",\"blue\",\"blue\",\"blue\",\"blue\",\"blue\",\"blue\",\"blue\",\"blue\",\"blue\",\"blue\",\"blue\",\"blue\",\"blue\",\"blue\",\"blue\",\"blue\",\"blue\",\"blue\",\"blue\",\"blue\",\"blue\",\"blue\",\"blue\",\"blue\",\"blue\",\"blue\",\"blue\",\"blue\",\"blue\",\"blue\",\"blue\",\"blue\",\"blue\",\"blue\",\"blue\",\"blue\",\"blue\",\"blue\",\"blue\",\"blue\",\"blue\",\"blue\",\"blue\",\"blue\",\"blue\",\"blue\",\"blue\",\"blue\",\"blue\",\"blue\",\"blue\",\"blue\",\"blue\",\"blue\",\"blue\",\"blue\",\"blue\",\"blue\",\"blue\",\"blue\",\"blue\",\"blue\",\"blue\",\"blue\",\"blue\",\"blue\",\"blue\",\"blue\",\"blue\",\"blue\",\"blue\",\"blue\",\"blue\",\"blue\",\"blue\",\"blue\",\"blue\",\"blue\",\"blue\",\"blue\",\"blue\",\"blue\",\"blue\",\"blue\",\"blue\",\"blue\",\"blue\",\"blue\",\"blue\",\"blue\",\"blue\",\"blue\",\"blue\",\"blue\",\"blue\",\"blue\",\"blue\",\"blue\",\"blue\",\"blue\",\"blue\",\"blue\",\"blue\",\"blue\",\"blue\",\"blue\",\"blue\",\"blue\",\"blue\",\"blue\",\"blue\",\"blue\",\"blue\",\"blue\",\"blue\",\"blue\",\"blue\",\"blue\",\"blue\",\"blue\",\"blue\",\"blue\",\"blue\",\"blue\",\"blue\",\"blue\",\"blue\",\"blue\",\"blue\",\"blue\",\"blue\",\"blue\",\"blue\",\"blue\",\"blue\",\"blue\",\"blue\",\"blue\",\"blue\",\"blue\",\"blue\",\"blue\",\"blue\",\"blue\",\"blue\",\"blue\",\"blue\",\"blue\",\"blue\",\"blue\",\"blue\",\"blue\",\"blue\",\"blue\",\"blue\",\"blue\",\"blue\",\"blue\",\"blue\",\"blue\",\"blue\",\"blue\",\"blue\",\"blue\",\"blue\",\"blue\",\"blue\",\"blue\",\"blue\",\"blue\",\"blue\",\"blue\",\"blue\",\"blue\",\"blue\",\"blue\",\"blue\",\"blue\",\"blue\",\"blue\",\"blue\",\"blue\",\"blue\",\"blue\",\"blue\",\"blue\",\"blue\",\"blue\",\"blue\",\"blue\",\"blue\",\"blue\",\"blue\",\"blue\",\"blue\",\"blue\",\"blue\",\"blue\",\"blue\",\"blue\",\"blue\",\"blue\",\"blue\",\"blue\",\"blue\",\"blue\",\"blue\",\"blue\",\"blue\",\"blue\",\"blue\",\"blue\",\"blue\",\"blue\",\"blue\",\"blue\",\"blue\",\"blue\",\"blue\",\"blue\",\"blue\",\"blue\",\"blue\",\"blue\",\"blue\",\"blue\",\"blue\",\"blue\",\"blue\",\"blue\",\"blue\",\"blue\",\"blue\",\"blue\",\"blue\",\"blue\",\"blue\",\"blue\",\"blue\",\"blue\",\"blue\",\"blue\",\"blue\",\"blue\",\"blue\",\"blue\",\"blue\",\"blue\",\"blue\",\"blue\",\"blue\",\"blue\",\"blue\",\"blue\",\"blue\",\"blue\",\"blue\",\"blue\",\"blue\",\"blue\",\"blue\",\"blue\",\"blue\",\"blue\",\"blue\",\"blue\",\"blue\",\"blue\",\"blue\",\"blue\",\"blue\",\"blue\",\"blue\",\"blue\",\"blue\",\"blue\",\"blue\",\"blue\",\"blue\",\"blue\",\"blue\",\"blue\",\"blue\",\"blue\",\"blue\",\"blue\",\"blue\",\"blue\",\"blue\",\"blue\",\"blue\",\"blue\",\"blue\",\"blue\",\"blue\",\"blue\",\"blue\",\"blue\",\"blue\",\"blue\",\"blue\",\"blue\",\"blue\",\"blue\",\"blue\",\"blue\",\"blue\",\"blue\",\"blue\",\"blue\",\"blue\",\"blue\",\"blue\",\"blue\",\"blue\",\"blue\",\"blue\",\"blue\",\"blue\",\"blue\",\"blue\",\"blue\",\"blue\",\"blue\",\"blue\",\"blue\",\"blue\",\"blue\",\"blue\",\"blue\",\"blue\",\"blue\",\"blue\",\"blue\",\"blue\",\"blue\",\"blue\",\"blue\",\"blue\",\"blue\",\"blue\",\"blue\",\"blue\",\"blue\",\"blue\",\"blue\",\"blue\",\"blue\",\"blue\",\"blue\",\"blue\",\"blue\",\"blue\",\"blue\",\"blue\",\"blue\",\"blue\",\"blue\",\"blue\",\"blue\",\"blue\",\"blue\",\"blue\",\"blue\",\"blue\",\"blue\",\"blue\",\"blue\",\"blue\",\"blue\",\"blue\",\"blue\",\"blue\",\"blue\",\"blue\",\"blue\",\"blue\",\"blue\",\"blue\",\"blue\",\"blue\",\"blue\",\"blue\",\"blue\",\"blue\",\"blue\",\"blue\",\"blue\",\"blue\",\"blue\",\"blue\",\"blue\",\"blue\",\"blue\",\"blue\",\"blue\",\"blue\",\"blue\",\"blue\",\"blue\",\"blue\",\"blue\",\"blue\",\"blue\",\"blue\",\"blue\",\"blue\",\"blue\",\"blue\",\"blue\",\"blue\",\"blue\",\"blue\",\"blue\",\"blue\",\"blue\",\"blue\",\"blue\",\"blue\",\"blue\",\"blue\",\"blue\",\"blue\",\"blue\",\"blue\",\"blue\",\"blue\",\"blue\",\"blue\",\"blue\",\"blue\",\"blue\",\"blue\",\"blue\",\"blue\",\"blue\",\"blue\",\"blue\",\"blue\",\"blue\",\"blue\",\"blue\",\"blue\",\"blue\",\"blue\",\"blue\",\"blue\",\"blue\",\"blue\",\"blue\",\"blue\",\"blue\",\"blue\",\"blue\",\"blue\",\"blue\",\"blue\",\"blue\",\"blue\",\"blue\",\"blue\",\"blue\",\"blue\",\"blue\",\"blue\",\"blue\",\"blue\",\"blue\",\"blue\",\"blue\",\"blue\",\"blue\",\"blue\",\"blue\",\"blue\",\"blue\",\"blue\",\"blue\",\"blue\",\"blue\",\"blue\",\"blue\",\"blue\",\"blue\",\"blue\",\"blue\",\"blue\",\"blue\",\"blue\",\"blue\",\"blue\",\"blue\",\"blue\",\"blue\",\"blue\",\"blue\",\"blue\",\"blue\",\"blue\",\"blue\",\"blue\",\"blue\",\"blue\",\"blue\",\"blue\",\"blue\",\"blue\",\"blue\",\"blue\",\"blue\",\"blue\",\"blue\",\"blue\",\"blue\",\"blue\",\"blue\",\"blue\",\"blue\",\"blue\",\"blue\",\"blue\",\"blue\",\"blue\",\"blue\",\"blue\",\"blue\",\"blue\",\"blue\",\"blue\",\"blue\",\"blue\",\"blue\",\"blue\",\"blue\",\"blue\",\"blue\",\"blue\",\"blue\",\"blue\",\"blue\",\"blue\",\"blue\",\"blue\",\"blue\",\"blue\",\"blue\",\"blue\",\"blue\",\"blue\",\"blue\",\"blue\",\"blue\",\"blue\",\"blue\",\"blue\",\"blue\",\"blue\",\"blue\",\"blue\",\"blue\",\"blue\",\"blue\",\"blue\",\"blue\",\"blue\",\"blue\",\"blue\",\"blue\",\"blue\",\"blue\",\"blue\",\"blue\",\"blue\",\"blue\",\"blue\",\"blue\",\"blue\",\"blue\",\"blue\",\"blue\",\"blue\",\"blue\",\"blue\",\"blue\",\"blue\",\"blue\",\"blue\",\"blue\",\"blue\",\"blue\",\"blue\",\"blue\",\"blue\",\"blue\",\"blue\",\"blue\",\"blue\",\"blue\",\"blue\",\"blue\",\"blue\",\"blue\",\"blue\",\"blue\",\"blue\",\"blue\",\"blue\",\"blue\",\"blue\",\"blue\",\"blue\",\"blue\",\"blue\",\"blue\",\"blue\",\"blue\",\"blue\",\"blue\",\"blue\",\"blue\",\"blue\",\"blue\",\"blue\",\"blue\",\"blue\",\"blue\",\"blue\",\"blue\",\"blue\",\"blue\",\"blue\",\"blue\",\"blue\",\"blue\",\"blue\",\"blue\",\"blue\",\"blue\",\"blue\",\"blue\",\"blue\",\"blue\",\"blue\",\"blue\",\"blue\",\"blue\",\"blue\",\"blue\",\"blue\",\"blue\",\"blue\",\"blue\",\"blue\",\"blue\",\"blue\",\"blue\",\"blue\",\"blue\",\"blue\",\"blue\",\"blue\",\"blue\",\"blue\",\"blue\",\"blue\",\"blue\",\"blue\",\"blue\",\"blue\",\"blue\",\"blue\",\"blue\",\"blue\",\"blue\",\"blue\",\"blue\",\"blue\",\"blue\",\"blue\",\"blue\",\"blue\",\"blue\",\"blue\",\"blue\",\"blue\",\"blue\",\"blue\",\"blue\",\"blue\",\"blue\",\"blue\",\"blue\",\"blue\",\"blue\",\"blue\",\"blue\",\"blue\",\"blue\",\"blue\",\"blue\",\"blue\",\"blue\",\"blue\",\"blue\",\"blue\",\"blue\",\"blue\",\"blue\",\"blue\",\"blue\",\"blue\",\"blue\",\"blue\",\"blue\",\"blue\",\"blue\",\"blue\",\"blue\",\"blue\",\"blue\",\"blue\",\"blue\",\"blue\",\"blue\",\"blue\",\"blue\",\"blue\",\"blue\",\"blue\",\"blue\",\"blue\",\"blue\",\"blue\",\"blue\",\"blue\",\"blue\",\"blue\",\"blue\",\"blue\",\"blue\",\"blue\",\"blue\",\"blue\",\"blue\",\"blue\",\"blue\",\"blue\",\"blue\",\"blue\",\"blue\",\"blue\",\"blue\",\"blue\",\"blue\",\"blue\",\"blue\",\"blue\",\"blue\",\"blue\",\"blue\",\"blue\",\"blue\",\"blue\",\"blue\",\"blue\",\"blue\",\"blue\",\"blue\",\"blue\",\"blue\",\"blue\",\"blue\",\"blue\",\"blue\",\"blue\",\"blue\",\"blue\",\"blue\",\"blue\",\"blue\",\"blue\",\"blue\",\"blue\",\"blue\",\"blue\",\"blue\",\"blue\",\"blue\",\"blue\",\"blue\",\"blue\",\"blue\",\"blue\",\"blue\",\"blue\",\"blue\",\"blue\",\"blue\",\"blue\",\"blue\",\"blue\",\"blue\",\"blue\",\"blue\",\"blue\",\"blue\",\"blue\",\"blue\",\"blue\",\"blue\",\"blue\",\"blue\",\"blue\",\"blue\",\"blue\",\"blue\",\"blue\",\"blue\",\"blue\",\"blue\",\"blue\",\"blue\",\"blue\",\"blue\",\"blue\",\"blue\",\"blue\",\"blue\",\"blue\",\"blue\",\"blue\",\"blue\",\"blue\",\"blue\",\"blue\",\"blue\",\"blue\",\"blue\",\"blue\",\"blue\",\"blue\",\"blue\",\"blue\",\"blue\",\"blue\",\"blue\",\"blue\",\"blue\",\"blue\",\"blue\",\"blue\",\"blue\",\"blue\",\"blue\",\"blue\",\"blue\",\"blue\",\"blue\",\"blue\",\"blue\",\"blue\",\"blue\",\"blue\",\"blue\",\"blue\",\"blue\",\"blue\",\"blue\",\"blue\",\"blue\",\"blue\",\"blue\",\"blue\",\"blue\",\"blue\",\"blue\",\"blue\",\"blue\",\"blue\",\"blue\",\"blue\",\"blue\",\"blue\",\"blue\",\"blue\",\"blue\",\"blue\",\"blue\",\"blue\",\"blue\",\"blue\",\"blue\",\"blue\",\"blue\",\"blue\",\"blue\",\"blue\",\"blue\",\"blue\",\"blue\",\"blue\",\"blue\",\"blue\",\"blue\",\"blue\",\"blue\",\"blue\",\"blue\",\"blue\",\"blue\",\"blue\",\"blue\",\"blue\",\"blue\",\"blue\",\"blue\",\"blue\",\"blue\",\"blue\",\"blue\",\"blue\",\"blue\",\"blue\",\"blue\",\"blue\",\"blue\",\"blue\",\"blue\",\"blue\",\"blue\",\"blue\",\"blue\",\"blue\",\"blue\",\"blue\",\"blue\",\"blue\",\"blue\",\"blue\",\"blue\",\"blue\",\"blue\",\"blue\",\"blue\",\"blue\",\"blue\",\"blue\",\"blue\",\"blue\",\"blue\",\"blue\",\"blue\",\"blue\",\"blue\",\"blue\",\"blue\",\"blue\",\"blue\",\"blue\",\"blue\",\"blue\",\"blue\",\"blue\",\"blue\",\"blue\",\"blue\",\"blue\",\"blue\",\"blue\",\"blue\",\"blue\",\"blue\",\"blue\",\"blue\",\"blue\",\"blue\",\"blue\",\"blue\",\"blue\",\"blue\",\"blue\",\"blue\",\"blue\",\"blue\",\"blue\",\"blue\",\"blue\",\"blue\",\"blue\",\"blue\",\"blue\",\"blue\",\"blue\",\"blue\",\"blue\",\"blue\",\"blue\",\"blue\",\"blue\",\"blue\",\"blue\",\"blue\",\"blue\",\"blue\",\"blue\",\"blue\",\"blue\",\"blue\",\"blue\",\"blue\",\"blue\",\"blue\",\"blue\",\"blue\",\"blue\",\"blue\",\"blue\",\"blue\",\"blue\",\"blue\",\"blue\",\"blue\",\"blue\",\"blue\",\"blue\",\"blue\",\"blue\",\"blue\",\"blue\",\"blue\",\"blue\",\"blue\",\"blue\",\"blue\",\"blue\",\"blue\",\"blue\",\"blue\",\"blue\",\"blue\",\"blue\",\"blue\",\"blue\",\"blue\",\"blue\",\"blue\",\"blue\",\"blue\",\"blue\",\"blue\",\"blue\",\"blue\",\"blue\",\"blue\",\"blue\",\"blue\",\"blue\",\"blue\",\"blue\",\"blue\",\"blue\",\"blue\",\"blue\",\"blue\",\"blue\",\"blue\",\"blue\",\"blue\",\"blue\",\"blue\",\"blue\",\"blue\",\"blue\",\"blue\",\"blue\",\"blue\",\"blue\",\"blue\",\"blue\",\"blue\",\"blue\",\"blue\",\"blue\",\"blue\",\"blue\",\"blue\",\"blue\",\"blue\",\"blue\",\"blue\",\"blue\",\"blue\",\"blue\",\"blue\",\"blue\",\"blue\",\"blue\",\"blue\",\"blue\",\"blue\",\"blue\",\"blue\",\"blue\",\"blue\",\"blue\",\"blue\",\"blue\",\"blue\",\"blue\",\"blue\",\"blue\",\"blue\",\"blue\",\"blue\",\"blue\",\"blue\",\"blue\",\"blue\",\"blue\",\"blue\",\"blue\",\"blue\",\"blue\",\"blue\",\"blue\",\"blue\",\"blue\",\"blue\",\"blue\",\"blue\",\"blue\",\"blue\",\"blue\",\"blue\",\"blue\",\"blue\",\"blue\",\"blue\",\"blue\",\"blue\",\"blue\",\"blue\",\"blue\",\"blue\",\"blue\",\"blue\",\"blue\",\"blue\",\"blue\",\"blue\",\"blue\",\"blue\",\"blue\",\"blue\",\"blue\",\"blue\",\"blue\",\"blue\",\"blue\",\"blue\",\"blue\",\"blue\",\"blue\",\"blue\",\"blue\",\"blue\",\"blue\",\"blue\",\"blue\",\"blue\",\"blue\",\"blue\",\"blue\",\"blue\",\"blue\",\"blue\",\"blue\",\"blue\",\"blue\",\"blue\",\"blue\",\"blue\",\"blue\",\"blue\",\"blue\",\"blue\",\"blue\",\"blue\",\"blue\",\"blue\",\"blue\",\"blue\",\"blue\",\"blue\",\"blue\",\"blue\",\"blue\",\"blue\",\"blue\",\"blue\",\"blue\",\"blue\",\"blue\",\"blue\",\"blue\",\"blue\",\"blue\",\"blue\",\"blue\",\"blue\",\"blue\",\"blue\",\"blue\",\"blue\",\"blue\",\"blue\",\"blue\",\"blue\",\"blue\",\"blue\",\"blue\",\"blue\",\"blue\",\"blue\",\"blue\",\"blue\",\"blue\",\"blue\",\"blue\",\"blue\",\"blue\",\"blue\",\"blue\",\"blue\",\"blue\",\"blue\",\"blue\",\"blue\",\"blue\",\"blue\",\"blue\",\"blue\",\"blue\",\"blue\",\"blue\",\"blue\",\"blue\",\"blue\",\"blue\",\"blue\",\"blue\",\"blue\",\"blue\",\"blue\",\"blue\",\"blue\",\"blue\",\"blue\",\"blue\",\"blue\",\"blue\",\"blue\",\"blue\",\"blue\",\"blue\",\"blue\",\"blue\",\"blue\",\"blue\",\"blue\",\"blue\",\"blue\",\"blue\",\"blue\",\"blue\",\"blue\",\"blue\",\"blue\",\"blue\",\"blue\",\"blue\",\"blue\",\"blue\",\"blue\",\"blue\",\"blue\",\"blue\",\"blue\",\"blue\",\"blue\",\"blue\",\"blue\",\"blue\",\"blue\",\"blue\",\"blue\",\"blue\",\"blue\",\"blue\",\"blue\",\"blue\",\"blue\",\"blue\",\"blue\",\"blue\",\"blue\",\"blue\",\"blue\",\"blue\",\"blue\",\"blue\",\"blue\",\"blue\",\"blue\",\"blue\",\"blue\",\"blue\",\"blue\",\"blue\",\"blue\",\"blue\",\"blue\",\"blue\",\"blue\",\"blue\",\"blue\",\"blue\",\"blue\",\"blue\",\"blue\",\"blue\",\"blue\",\"blue\",\"blue\",\"blue\",\"blue\",\"blue\",\"blue\",\"blue\",\"blue\",\"blue\",\"blue\",\"blue\",\"blue\",\"blue\",\"blue\",\"blue\"],\"token\":[\"print binary heap tree without recursion \",\"start phonestatelistener programmatically \",\"jquery  show div2 mousenter div1\",\"performing async method loop node js waiting result\",\"ue4  output game frames file\",\"flex collision testing hittestobject\",\"need hibernate legacy world\",\"http testing tool  easily send post get put japanese character support  utf 8 \",\"copy   paste custom tags ckeditor 4 0\",\"send periodic ephemeral   hidden   messages slack bot\",\"make page redirect rails\",\"htaccess redirect http    http   www https    plays nice subdomains\",\"hierarchy parent child relationship datagrid c  window application\",\"svg stroke dashoffset animation working safari firefox\",\"select   individual columns\",\"possible programmatically assign elastic ip \",\"get form parameter servlet  request getattribute work\",\"grep urls blog \",\"monadbasecontrol io     statet implementation\",\"cakephp broken index method\",\"possible chrome extension get user full browsing history \",\"network diagram  flow diagram jquery\",\"multiline regex using vb script\",\"name  x509certificate2ui  exist current context\",\"generate random data oracle based ranks\",\"define state machine concern \",\"adding  int  int  tuple set scala\",\"removing tags using jsoup library\",\"run pygame script plays ogg file compiled cx freeze\",\"appointment bind   mailbox\",\"best way support multi login appengine\",\"fragmenttabhost activity intents crashing\",\"  sign asp net programming \",\"get similar objects based tags using doctrine\",\"database updating new row\",\"creating redundancy subversion repository \",\"mysql group   slow query\",\"elixir phoenix error starting server\",\"finding set n equally distant points\",\"get rid xmlns using xml serialization\",\"turn predictive text option keyboard programmatically\",\"remove file\",\"mobilefirst failed synchronizing application administration service\",\"asp web api patch implementation\",\"information store exception object  providing strings exception\",\"way execute one query per string mysql python \",\"excel sparklines printing issue\",\"seaborn pairplot pearsons p statistic\",\"run play framework port 9001 windows cmd play console \",\"qt signal slot connection   qnetworkaccessmanager\",\"client side validation custom validationattribute attributetargets class\",\"draw hollow circle divided equal parts\",\"http request return string\",\"ireport jasperreport fonts pdf report\",\"disposing swt widget dynamically resize parent composite\",\"disposing swt widget dynamically resize parent composite\",\"code one keep data change \",\"updating using subquery returns multiple rows\",\"file upload working webview\",\"choosing cloud storage service web api ftp third party server\",\"exclude data sets r package build\",\"set c c   console text bold italic windows \",\"tfs   visual studio team services iterations overlapping dates\",\"format xml string ruby\",\"continue pl sql excution beyond exceptions \",\"android webview uses webkit \",\"extract text image using asprise ocr\",\"add zooming facility like native video capturing app window phone 8\",\"call function name f  \",\"boost python pyqt\",\"learning entity framework 6 command tree interceptors\",\"override alphabetical default order union 2  tables \",\"cancel background worker  update db mail\",\"custom prolog epilog functions profiling\",\"trim types whitespace  including tabs\",\"property used change font element \",\"recursing dictionary lists dictionaries  etc et al  python \",\"properly set textscan returns empty cell array\",\"safely rename mac hardrive  macintosh hd  \",\"permission error starting wakanda server\",\" htaccess config symbolic links index files working expected\",\"extended backusnaur form order operations\",\"knockout   issue freezing header columns\",\"updare sqlite3 schema data migration\",\"disable ie pop blocker options class desiredcapabilities\",\"limit google autocomplete results respective mentioned  city \",\"cassandra load balancing tokenawarepolicy shufflereplicas\",\"xslt  schematron  validate xml file  \",\"make request get post parameters php curl \",\"linked list  doesnt work passing head list argument function\",\"setting div bottom outer div\",\"hibernate exception query properly ended\",\"collision events famo us  get bodies involved \",\"horizontally repositioning uibarbuttonitem\",\"nest text inside svg path\",\"must callbacks jquery anonomous \",\"support different screen size landscape mode\",\"toggle inside fragment\",\"perl   array integers using way much memory \",\"ruby  using regex find something two strings\",\"compare two arrays return index first appearence\",\"modal windows plugin rails\",\"populating collection wrapped  wrapped b  classes b implements\",\"better html builder java\",\"terminal command running sublime text 3 ubuntu\",\"draw vertices vertex buffer another color\",\"local global variables swift\",\"wrap two adjacent td\",\"offset specific listed partition\",\"prevent firefox scrolling bottom page large popup opened\",\"jqtouch   links li working scrolling\",\"svg click events firing bubbling using  use  element\",\"using jquery perform smooth scroll page using named anchors \",\"laravel query builder sum returns multiplied values\",\"heroku push rejected  railties dependency conflict  ruby rails tutorial section 1 4 2\",\"heroku push rejected  railties dependency conflict  ruby rails tutorial section 1 4 2\",\"ember   within action  result defined  returnvalue action logged parent action undefined  \",\"get unix timestamp start today javascript \",\"android google map view problem\",\"best approach use pdfstamper loop\",\"specify network interface ruby faraday \",\"orderincategory actionbar menu item   use   \",\"check mock calls wildcards \",\"finding previous non zero value date ordered list\",\"using linq query filter selecting particular key numerous times\",\"way java find many cpus  cores  installed \",\"issues trying integrate activemq v5 4 3 jboss v 4 0 5\",\"modify jaxb marshalling output stream include arbitrary inline xml \",\"regain access clipboard\",\"css  make border pure css arrow\",\"creating cmake executables using multiple libraries\",\"windows batch   random line text file\",\"gradle android  aars  conditional dependencies\",\"get string 2 strings\",\"python function composition\",\"onmouseover event tr tag\",\"force python ignore pyc files dynamically loading modules filepaths\",\"options convert  imagemagick graphicsmagick  produce smallest  filesize  png \",\"get name shell running using script \",\"send contact form angularjs app digitalocean \",\"codeigniter gives 404 uploading server\",\"download file zend http client library\",\"displaying text link clicked\",\"type  module1 myentity  type  module2 myentity  simple name  myentity  cannot used model\",\"apache forbidden error wamp\",\"tornado equivalent simplehttpserver \",\"lnk2005    already defined error\",\"upload photos image hosting server programmatically \",\"date format wrong datatable\",\"angular 2 highcharts cannot read property  info  undefined\",\" entry point found  error attempting expand results view\",\"mysql  split varchar value insert parts\",\"releasing updates weekly fixed number updates mysql database\",\"count number processes created using fork loop\",\"ibeacon auto peripheral pairing   authentication \",\"odata 6 0 missing odataentitytypeserializer\",\"automating jpeg download\",\"image javafx listview\",\"real benefit using crosswalk android 4 4   \",\"activemq mqtt producer publish openwire subscriber\",\"specify particular jre browser applet \",\"method add string  undefined type string  jsonobject 2nd array \",\"array argument passed function constant pointer \",\"convert file content array javascript \",\"avoid  including capybara  dsl global scope recommended   cucumber \",\"passing nullable decimal json asp net mvc controller action \",\"mongodb   use multiple groups aggregation pipeline \",\"string replace haskell\",\"sharing css  js  images  master pages  etc across asp net web sites\",\"facebook api post wall\",\"linking clang llvm\",\"xmlhttprequest response type wrong firefox\",\"magento reindexing loses solr docs\",\"iphone  touchesbegan   touchesmoved  message     move centre touch\",\"dynamically load details grid master   details grid\",\"vb6 replace msxml3 dll msxml6 dll project windows 8 1 \",\"add items existing list using addrange\",\"iterm2 triggers always echo  done  every entry\",\"execute custom query connection fetched datasource\",\"execute custom query connection fetched datasource\",\"mysql query returns 0 rows searching value dot     string\",\"error smack 4 2 0   aaaa yielded error response nx domain\",\"delphi sharemem   needed\",\"know discriminator value\",\"download images background j2me \",\"problems limit method rails 3 2 hash ordering\",\"routing messages server python\",\"vcr capybara webkit\",\"write adverb function returns function evaluated different environement \",\"gmod lua   checking flag exists bitflag\",\"close inputstream renderbinary   call play framework\",\"resize chartarea runtine\",\"javascript thrift client hangs\",\"time strptime   returning current date \",\"jquery ui autocomplete callback\",\"ipad 2 ipad 3 website testing\",\"jquery xml  html   instead  text   displaying \",\"rally node add new item collection\",\"bootstrap 3   3 column layout 2 column layout\",\"get label names abperson properties\",\"control output make command\",\"using maven opts eclipse unit tests\",\"edittext enable disable button click\",\"requirejs jquery multiple dependent non module jquery plugins like jquery ui jqgrid\",\"sqlstate hy093   invalid parameter number  parameter defined\",\"need  br  as400 sms\",\"springboot spring oauth2\",\"jquery  use multiple ajax requests \",\"store  list  redis list\",\"retrieve clr dll sql server\",\"mongoose changing schema format\",\"dispose method get called \",\"xhttp get request express js server   nothing returned\",\"void troubles return value string\",\"run json schema validator command line\",\"problems importing android platform classes\",\"c  vb net   iterate public enums\",\"mysql datetime performance\",\"font size really mean ios \",\"laravel   calling redirect    within view\",\"delphi xe   f1027 unit found   system pas  binary equivalents   dcu  upon activation trial version\",\"save richtextbox text mysql db formatted bold  italic     retrieve text within code\",\"operation hours\",\"change default routing map actionlinks stopped working\",\"jquery  elegant way replace set elements another set \",\"enable bluetooth windows 10 laptop using c  net\",\"sequentially create multiple csv files ruby \",\"symfony2  determine controller called development environment production environment\",\"create email notification function odoo \",\"many chained conditions else\",\"implement regularized least squares matlab\",\"gwt client files one server   gwt servlets server\",\"trouble linking php database\",\"file upload working android webview\",\"robotium examples java\",\"httpwebrequest web service c   get data fast response stream \",\"hiveserver2  failed create change scratchdir permissions 777  could create fileclient\",\"getting characters last     string\",\"orgmode capture template  add entry org header\",\"pymongo failing connect heroku mongolab add\",\"cannot send email hotmail   live com   outlook com\",\"fibonacci series using alternate approach working\",\"css  vertically horizontally align image \",\"backbone localstorage  url  property function must specified\",\"maximum number threads process windows\",\"decoding ransom note c python \",\"track page views using php\",\"remove items publishing using tridion resolver \",\"time difference two date fields\",\"write save file nano using subprocess\",\"specify collation column creating model rails\",\"use facet wrap list\",\"add tooltip check box radiobutton runtime silverlight\",\"best practices database development delphi \",\"loopback address work android phones \",\"onclick  parent location working firefox chrome\",\"selectively delete messages amqp  rabbitmq  queue \",\"unable restore pg dump backup\",\"rename swig generated proxy java classes created c structures\",\"providing jackson mapper multiple ways deserialize object\",\"donation page viable free applications \",\"change text box visible depending item selected drop menu \",\"base36 string nsdata hex string\",\"semantic ui modal stretching window height\",\"debug sql server agent jobs \",\"mapping predicates propositions dlv prolog\",\"import data neo4j  neo4j community 2 0 0  windows 7 \",\"xna release becoming unresponsive\",\"convert string utf 8\",\"remove entire rows data 4 stdev\",\"r install packages centos 6 5\",\"fetch facebook album cover photo   android\",\"recommendations deployment svn  version numbers written code automagically \",\"need running website internet order access google analytics data using google api\",\"send iframe email body \",\"linking two modules distutils\",\"autosize size property winforms\",\"using angular 1 module angular 2 app\",\"check skshapenode line contains point\",\"create uisplitviewcontroller portrait behavior landscape orientations \",\"opening saving xml preserving newline node attributes\",\"jquery ui button gets disabled refresh\",\"convert  zip file nsdata\",\"php move nodes parent array\",\"syntax highlighting working ruby files   erb  chrome devtools \",\"safe reuse intent \",\"jquery       excluding elements\",\"opencv initialize mat 2d array java\",\"conversion flash components 9 slice scaling html5 canvas\",\"app config transformations applying\",\"check google username password\",\"unwanted margin css\",\"get values mysql database using php script android\",\"asp net session state using redis\",\"query builder json data laravel 5 1\",\"dynamically set less variables user settings\",\" following packages superseded higher priority channel  mean \",\"purpose nsrefreshedobjectskey\",\"android studio nothing\",\"find list default dll files available windows  xp  vista  7       \",\"group listbox windows phone 7 \",\"transparent tmemo trichedit vcl control \",\"live wallpaper game engine \",\"using int field improve read performance byte array access java \",\"ios 7 creating image thumbnails threads showing view unless tapped waiting long time\",\"happens calling createdirectory createfile different machines simultaneously \",\"anyone suggest compatibility versions hadoop  sqoop  hbase hive\",\"use cql 3 0 jdbc drivers hector\",\"uislider adjust match uitextfield value\",\"setup mass dynamic virtual hosts nginx docker \",\"need help centering div class page\",\"scala variable binding used actors\",\"compiling netbeans program commandline\",\"nested struct definition\",\"alignment sortable jquery ui divs spacing\",\"getting numberformatexception  input string      parsing inputs array\",\"determine cluster size file system python\",\"create sql view excludes based datetime\",\"managed metadata  person group  checkbox field values saved item creation\",\"c   class recognized python 3 module via boost python embedding\",\"put urls string array using regex  problem trailing period \",\"get undeclared identifier error create variables dynamically \",\"download file name using curl  c   \",\"chartjs jsp\",\"getelementsbytagname results nullpointerexception\",\"get h1 element display image \",\"backbone view dom element removed\",\"undefined vector new\",\"direct output \",\"change images grid view position changes android \",\"creating new site collection office 365 app\",\"solve sql query\",\"php calculation based array values\",\" script  tags showing inspector firefox todomvc example angularjs source \",\"adding row number   query loses distinct  defeats purpose paged results attempt\",\"field transient property flag set reflection java \",\"check box list select one item selected mcv 3 using jquery\",\"move file linux server windows sharedrive  python\",\"possible add per file disable rules pylint rcfile \",\"config start tomcat 7 netbeans 8\",\"text centered inside image\",\"load messages mouse scroll \",\"decimals integers\",\"using cakephp query database coordinates return json google map\",\"css   horizontal alignment embedded divs\",\"react native ios  way determine app resumed  onresume event \",\"magento   add button sales order view page  observer event \",\"interacting web pages c \",\"parse file compilation\",\"compiled version vs  minimum required version android\",\"export import excel combo box\",\"checkout close tab\",\"creating chess board using windows forms\",\"get models backbone collection attribute equal value\",\"possible implement youtube channels uploaded videos list website \",\"bypass disable uppercase    global inference handlebars templates \",\"best way close access jet oledbconnection\",\"android viewpager  downloading images url\",\"javascript keydown conflict\",\"round error converting double string without using  f\",\"json based rest   esb   rest communication build axis 2 xml messagecontext\",\"structure antlr based translator  best practices \",\"jquery   simple array  pushing item already  removing item\",\"add delete option dynamically generated edittext\",\"read two lines data column create combination values column \",\"bind manual input value report deviation input column\",\"finding jquery accordion within 2 divs\",\"css  gallery view without  table \",\"assigning fixed colour subset ggplot2\",\"add custom function widget assign variable\",\"cfnetwork internal error   urlconnectionloader cpp 304\",\"report data parent child levels row  random sublevel \",\"round error converting double string without using  f\",\"ios socket send message server\",\"search required elements list using jface\",\"django oauth toolkit work apache\",\"iphone   scrollview textview tableview inside\",\"instrument count number method calls iphone\",\"send http request using django get results\",\"change pixels image\",\"chrome extension ignores xmlhttprequest withcredentials field\",\"return http 204 response successful delete servicestack\",\"continuous integration server heroku ror app\",\"add gdx tools libgdx gradle project\",\"migration unique column certain condition \",\"fatal error  call undefined function cybs load config  \",\"current windows phone 8 1 apps run windows 10 mobile devices whitout code modifications \",\"unregister listener   stop service within broadcastreceiver\",\"disabling auto commit namedparameterjdbctemplate batchupdate\",\"share files path using fileprovider \",\"add unique id  reply  header swift mailer\",\"create lightuserdata lua luaglut glreadpixels\",\"create rabbitmq consumer ruby rails web app \",\"query working worked hours\",\"loading large textures andengine\",\"android   de facto implementation rest json client \",\"callvirt work hood \",\"convert nsstring char str  \",\"inject bean datafetcher graphql\",\"sorting searching table working\",\"rails production server stylesheet loading\",\"python exe valid win32 application error coming suddenly\",\"hibernate jpa add calculated field\",\"hibernate jpa add calculated field\",\"contravariance expressions\",\"hide navigationview top shadow moving toolbar \",\"install name tool nothing\",\"creating adding dictionary one class  accessing dictionary main program\",\"detached pthreads memory leak\",\"change datatype imported spreadsheet mysql \",\"program drag drop two tables\",\"perl program issue  print scalar array values together hash\",\"developer credentials url open google play facebook\",\" bash  jspm  command found\",\"unique constraint  avoid duplicates\",\"hybrid application   open image zooming controls\",\"google api   documentlist   create shared link\",\"jaxb annotations   mapping interfaces  xmlelementwrapper\",\"receiver calling service another application\",\"r text file text mining   load data\",\"adjusting image brightness\",\"ie 6 vs  position fixed\",\"picasso causing outofmemory error\",\"enable user input android edittext scientific notation\",\"use hibernate entity annotations bean validation\",\"android app startup problems  growing heap \",\"expire django template cache key receiving signal \",\"asp net mvc validation uniqueness\",\"java pmd warning non transient class member\",\"use pyhthon calculate data csv\",\"  moz     webkit         ms  \",\"use kvc rather simple dot syntax accessing object properties \",\"restart apache apex application \",\"reference diagram dsl t4 template \",\"bufferreader skip    performance\",\"rectangle oval appear exactly position \",\"1 2   30   35 \",\"delphi datasnap server mysql found rows   return 1\",\"cache xmlhttprequest response javascript \",\"perform division timespan\",\"possible global memory cache replay 100  \",\" extract data archive \",\"angularjs  multiple views routing without losing scope\",\"c   app ubuntu  installing gcc 4 8 1 gdb work\",\"jquery   simple   click    selector issue\",\"php wordpress query\",\"jquery attr   fails set attribute\",\"use sum bit columns \",\"std deque surprisingly slow\",\"linq select expression work\",\"iis7   specifying content length header asp causes  connection reset  error\",\"replace stored procedure mybatis mapping\",\"get mappings two lists \",\"extract base class pointer\",\"wcf messagecontract wrapping lists\",\"read settings database log4net\",\"structure url routes \",\"set download status file datatable using node js\",\"use react js without bundler \",\"serializing int type without quotes\",\"parent uiviewcontroller orientation change dismissing child\",\"make html embeded video webview play landscape mode\",\"google chrome   crash dump location\",\"userscontroller create  user new params  user   return empty user  params looks good \",\"searching two tables sphinx mysql \",\"pyqt5 qtableview cell editing behaviour   superimposition original value\",\"convert user input spaces dashes\",\"gwt responsive design solution\",\"validity pointer returned operator  \",\"asp net5 selfhosted weblistener connection timeout\",\"codeigniter hmvc  second child module working\",\"res body empty test uses supertest node js\",\"ios 10 beta sdk    uidevicergbcolor countbyenumeratingwithstate objects count    unrecognized selector\",\"reinstalling vim\",\"use different module names url  different exports modules\",\"getting name column row column indexes phpexcel\",\"new phonegap project always list helloworld\",\"select child nodes based contents\",\"css div fit 100  div width\",\"inapp purchase skpaymentqueue finish transaction work\",\"inapp purchase skpaymentqueue finish transaction work\",\"setting button visible\",\"showing code snippet html page\",\"cropping image based background stripe colors python\",\"running  vbs script via html javascript php cognos report studio\",\"webpack configuration compiling module node modules\",\"visual studio  tfs  mvc classic asp project setup\",\"advising html control  call dispeventunadvise \",\"conditionalattribute special classes\",\"hibernate  id via inheritance\",\"reroute query string using friendlyurl\",\"nfc tag contain deeplink \",\"website scrollmagic pins\",\"structure url routes \",\"circumstance system collections arraylist add throws indexoutofrangeexception \",\"application reset programmatically objective c \",\"cannot pass module functions page\",\"cannot get average date using pandas\",\"add polygon map r leaflet\",\"keep immutability mutual dependency 2 objects\",\"prevent javascript redirect exiting fullscreen mode \",\"dynamically register new attributes polymer component ready \",\"git tf moving parts large tfs project\",\"checking android source github\",\"getting class name constructing class\",\"inserting character middle string\",\"int vs intptr handle \",\"ensuring integrity 2 databases\",\"asynccallback  call different class multiple forms\",\"select html elements attributes defined \",\"javascript local folder selector \",\"google maps javascript api  direction update geolocation move\",\"python  continue nested loop \",\"use let setup local binding list two element lists scheme \",\"uiviewcontroller ignore left right slide movement\",\"stack ghci loading local modules \",\"stack ghci loading local modules \",\"map arduino pins using ardulink \",\"php warning  php startup  unable load dynamic library phalcon  undefined symbol  php pdo g \",\"know copy job done \",\"ckeditor blur dialog\",\"granting rights stored procedure another user oracle\",\"htaccess redirect vs php redirect\",\"set customer  id find model strongloop mongodb\",\"git push hp ux fail ssh urls function available \",\"executing block code atomically\",\"parsing date python without using default\",\"using virtualenv within pythonbrew   installing dependencies\",\"angularjs   run code controllers done\",\" transparent  overlay view opaque \",\"character replacement strings vb net\",\"view akka dead letters\",\"run example storm starter using command \",\"itemrenderer contentbackgroundcolor\",\"excel   add error handling array formula using offset\",\"special characters xsl\",\"generate code   use generate \",\"table categorical variables grouping variable r\",\"create  net windows service windows mobile 6 x\",\"cleaning stdin buffer issue\",\"angularjs  cookies  getting undefined\",\"defualtly define winapi treat strings unicode \",\"pc pc usb communication\",\"perform create always fails django rest framework\",\"transition d3 axis without tick text attribute reset \",\"maven mojo   scm plugin  add file ignore list   set svn property\",\"building activeqt  com  applications mingw\",\"calculate shortest distance gps coordinate route\",\"keep navigation open new page loaded\",\"create resources file vb6 c \",\"remove tags inside hyperlink using jquery\",\" nsurlconnection sendasynchronousrequest       always send completion block \",\"asp net vnext resource file format\",\"wpf  window setbounds\",\"handling action bars two fragments\",\"add column table exists\",\"make json schema allow one another field \",\"detect ctrl 1 key press textbox\",\"elastic beanstalk vs ecs multi container docker\",\"pass custom field values ajax request wordpress\",\"jni method descriptor char     char array  \",\"onclick event banner application layout\",\"error sails lift since update 0 10 4\",\"session null first request\",\"embed mjpeg file webpage\",\"display hide xml elements using xsl onclick checkbox\",\"expose adobe aem bundles restful webservices\",\"springcloudstream httpsource returning 404\",\"retrieve onclick text \",\"set cron run automatically without event magento\",\"set cron run automatically without event magento\",\"using vi command make alias \",\"android telephony manager crashes\",\"haskell   ghc    infix tag   pragma  warn incomplete patterns \",\"jmeter load server affecting results \",\" recursive sql  used  dictionary managed tablespaces  oracle \",\"copy duplicate github remote branches repository\",\"laravels neat testing helpers workbench \",\"adobe cq5 sidekick empty  components shown \",\"objective c memory management problem\",\"collision detection management libgdx\",\"data checkboxes store database\",\"github windows showing old readme text\",\"inconsistent results finding factorial trailing zero\",\"advising html control  call dispeventunadvise \",\"add content   append specific line\",\"difference thread interrupt   thread currentthread interrupt   java \",\"array manipulation  accessing specific bytes \",\"determine necessary functions delegate \",\"css hide text node show children\",\"use wildcard variable\",\"saving dynamically added linearlayouts without using savedinstancestate \",\"css file linking html file website uploaded online\",\"incompatibilities indy 9 windows server 2003 \",\"boost  set program priority \",\"objective c project using c   posix classes\",\"anyway hide div ascx file alone \",\"extract background image html element ruby\",\"install neo4j 3 0  windows service\",\"value violated integrity constraints column\",\"selecting item gridview adding list\",\"add seconds timestamp start date get estimated end date \",\"jtextpane vertical alignment\",\"understanding vtune report\",\"make custom listview clickable items acces position\",\"necessity private static methods \",\"regex pattern java updating\",\"webpage mobile safari scaling fit viewport \",\"sparql  arithmetic operators variables \",\"reportviewers overlay refresh\",\"symfony bundle  avoid using   dir   build path doctrine mappings\",\"eventlet timeout exiting\",\"extract time information data time classes construct time series\",\"get simple zeroclipboard copy clipboard setup working within jquery jsfiddle single click \",\"using awk remove whitespace\",\"setonclicklistener inside flipviewpager working\",\"django programmingerror fields postgresql\",\"get bytes contents zipfile entry zipinputstream without writing outputstream \",\"threads get locked wait   state\",\"jpa entity metadata\",\"jpa entity metadata\",\"read colorspace  eps file using ghostscript \",\"way clear  hover drop menu touch screen \",\"cannot save data sessionstorage\",\"declare empty array type  cnlabeledvalue  using swift 3 \",\"jquery ui date picker default text textbox\",\"sql server 2005 says  temp table already exists  drop table  temp says invalid  object id   null\",\"xcode array output label\",\"uploading nsdata uijpegrepresentation big\",\"handling image file using laravel controller\",\"mobilefirst 7 1   issue multiple push notification android devices upgrade mfp 7 1 0 00 20151227 1725\",\"visual studio   affect textboxes\",\"epplus 4 1 outofmemory exception  xlsx  files  xls  files\",\"mouseleftbuttonup never called dragmove\",\"arabic zend pdf\",\"code returns error says   value given one required parameters \",\"possible nest dom elements inside option element \",\"div appears small mobile\",\"cause conflicts patch apply\",\"24 hours values\",\"several editable pdf\",\"run example storm starter using command \",\"best way share texture image two context context sharing \",\"regarding defining two dimensional array ever changing size\",\"memory leak android zxing library \",\"spring add soap header endpoint response\",\"constructor class whose super made via factory method\",\"boost  serialize sqlite  blob \",\"remove extra header excel export gi\",\"recognizing text picture delphi\",\"switching activity firebase  app shuts\",\"avoid retain cycles  nsnotificationcenter \",\"select2 control  allow value selected numerous times\",\"weird behaviors time rails application\",\"java swing mousedragged callback speed\",\"unable download  apk file remote server android\",\"unable dump relation pig\",\"wordpress   max  characters latest post titles\",\"replacing file using regex\",\"office 365 api get user details\",\"get server ip address current request\",\"connection laravel oracle yajra\",\"saving corresponding data hasone relation\",\"want initialized every jtabbedpane jtextarea new dynamic name \",\"specify cipher suite java application client use \",\"image fetch database php pdo\",\"using itextsharp generate multiple page pdf existing pdf form\",\"esp 8266 module arduino executing post request\",\"set xslt duplicate information\",\"add new function property textbox class text property\",\"char comm port commands\",\"shifting columns dataframe extreme end replacing nan\",\"spring ehcache refresh\",\"extract background image html element ruby\",\"vuforia augment reality windows\",\"optional appears result\",\"fix progress report method merge files\",\"makefile  use curl config xml2 config configure ac \",\"show embedded excel file webpage \",\"append current div element loop\",\"fixed top menu scroll allow reach screen bottom\",\"nested ng controller fires  locationchangestart \",\"click many links  one page  greasemonkey script \",\"spring custom logout filter perform action logs \",\"adding google play services crashes aapt exe\",\"creating d3 v4 histogram ordinal scale\",\"powerpoint process works standalone console project  integrated project\",\"routing parameter widget jqueryautocompleter  symfony \",\"one map network drive windows service \",\"sql server   msg 102  level 15  state 1  line 2 incorrect syntax near    \",\"prevent php file get contents   \",\"possible turn entire webpage grayscale using javascript\",\"aws sdk node js s3 putobject request body\",\"change class label checkboxes simple form\",\"auto updating scope variables angularjs\",\"delete closed pull request github\",\"using phonegap load external url iframe  childbrowser plugin  \",\"copying nsdictionary without empty values \",\"get java program written netbeans compile javac \",\"get current process uid euid linux kernel 4 2 \",\"get rid squared border around image \",\"jpeg manipulations dotnet   gdi  exception\",\"drupal 6 fails build menu router links\",\"using express device sails\",\"simultaneous events\",\"mysql num rows   segfaults\",\"refinerycms compatibale version devise  1 5 3 \",\"prevent duplicating records mysql insertion queries \",\"unable execute dex  multiple dex files define lcom google gdata util common base escaper\",\"scss   exclude specified containers set styles\",\"iterate two list objects get name file list1 comparing time stamp list2\",\"formatting tabs html php css\",\"sql   insert exist update exist\",\"insert xml element first child using elementtree python\",\"vlookup skipping row excel\",\"equivalent  literal  tag asp net mvc\",\"slider cannot dragged  cannot call method  addclass  undefined    jquery ui bootstrap   twitter bootstrap \",\"change calculation type using lambda expression \",\"fabricjs canvas reset zooming\",\"rectangle selection svg elements  raphael \",\"check codeigniter session expired ajax\",\"creating pivot table c \",\"working jquery internet connection\",\"get item selected listview generate context menu\",\"silverlight column series chart width question\",\"using bower visual studio tools apache cordova\",\"middle  vertically  align text inside  textarea \",\"multiply alternate digits array using c \",\"md5 hash begin zero \",\"wordpress call undefined function get header   \",\"class name argument function without quotes\",\"ios   uipangesturerecognizer get touched coordinate relative  gesturerecognizer view \",\"forkjoin   void functions \",\"uisearchcontroller  show results even search bar empty\",\"unwind  unknown symbol address\",\"text overflow ellipsis list items keep numbers\",\"difference two lists preserving duplicates\",\"spring 3 0 could load properties\",\"siamese network using rstudio keras\",\"know application disabled android ics\",\"deploy rails app domain name   trying create test server \",\"find count comparisons method sort  \",\"cmake  called add library library cryptopp without source files\",\"javascript setinterval   countdown lagging\",\"efficient way determine string starts token set tokens \",\"sending fixed voltage serial port\",\"overcoming ambiguous field error sql query\",\"cant get zend loader load classes wamp\",\"set video frame capture using bitmap data\",\"create dynamic pages asp net mvc\",\"javascript jquery   ordering element arrays\",\"multiple ohlc datasets one image\",\"openmp work mfc application \",\"antivirus block web service \",\"django rendering specific block inside modal keep base page active\",\"tortoisesvn use domain name use ip address\",\"simple counter example using mapreduce google app engine\",\"embedding font swf using as3\",\"quicker way comparing matching array integers linq \",\"location headers laravel\",\"php curl login work\",\"equality operator overloading allegro\",\"need quote command substitutions \",\"select check row insertion\",\"inno setup   change label caption  controls general   selected value combox box changes\",\"could make query numbered   36   mysql error   1059\",\"calculate percentage youtube video viewed api\",\"service fabric application vmimagesku\",\"retrieve content type file name base64 encoded image string rails 4 \",\"anchor link document attachment\",\"integrating paypal library swift project using cocoapods  finding library\",\"iphone   delay operations queue\",\"list variables xml  combo box c \",\"php  phpmailer  get example code phpmailer work\",\"uitableview loaded\",\"spring security  expire sessions user\",\"way test web site iphone without iphone \",\"usage local dart library\",\"restrict querying certain child value security rules\",\"use javascript   jquery dynamically create multiple html buttons different click event handlers\",\"override css element\",\"avoid truncated bubbles elasticx elasticy\",\"executing php function json\",\"exporting deducer contingency tables csv xls\",\"using chartist js change color stroke donut chart \",\"vb variable inside string display value literal name\",\"recursive hierarchicaldatatemplate  wpf \",\"javafx   svgpath pathtransition animate node along svgpath \",\"task wait throwing exception\",\"project oxford vision api ocr exception\",\"uistoryboardsegue modal form sheet fills entire screen first\",\"turn location service\",\"depth map calibrated image triangular mesh using opencv matlab\",\"combine gwt php \",\"getting range number column min max  missing numbers\",\"magento installing extension admin panel unable load\",\"possible set arguments provided  using arguments property\",\"python pool multiprocessing functions\",\"possible run multiple mappers one node\",\"python pandas stem leaf plot\",\"differences membership  simplemembership  asp net identity \",\"find sum field  condition ie  select   table sum field    150 \",\"symfony  place screen form error \",\"sometimes get  file contains potentially unsafe dynamic content  message mathematica notebook\",\"android database update device\",\"mvc model binding dictionary list  ienumerable  value\",\"suppressing passwd calling sqlplus shell script\",\"sp refreshview replaces view implementation sp rename occured\",\"close toggle visibility street view custom google map api v3 \",\"git pull permission denied linux \",\"makemigrations djano models custom path \",\"draw  corridor  google maps\",\"expand table multiple columns query\",\"create form container angular js component\",\"http patch request android\",\"tooltip hover select box options generated ng options angulerjs\",\"change image previous state row selected tableview didselectrowatindexpath function \",\"formula auto change calendar hours change 1 keep total hours\",\"type mismatch error adding jlabel jpanel scala swing panel\",\"get stable unique device id windows 8\",\"implement search like people search\",\"real time syncing\",\"two sidebars flexbile center column css\",\"request data backend show extension ui\",\"essential techniques pinpointing missing requirements \",\"using transition cifilters catransition\",\"picasso repeats images\",\"use app firebase phone  emulator\",\" postform  header\",\"create disabled form child components \",\"making table  tbody  scrollable using display block offsetwidth\",\"php image url  buildimg php 1 2816  picture 2816 png \",\"get highest value text field class  id name \",\"neo4j v2 2 0 default password working \",\"custom appbarbutton appbartogglebutton windows apps\",\"podio api scopes working\",\"convert dictionary pandas dataframe\",\"classes necessarily exist prior record insertion \",\"sqlite entity framework 6  table \",\"getting s3 credentials database startup rails\",\"compiler deduce array size defined template parameter \",\"creating indexvariable r based several indexvariables\",\"sphinx autodoc django working\",\"save apple pay transaction customer \",\"contain behavior  conditions empty array\",\"understanding tensorflow text classification py\",\"identifying html elements css styling positioning\",\"c process status mean htop \",\"vimeo php api  play private video programmatically without login \",\"jquery indirectly cause issues checkboxes \",\"405 error django ajax post\",\"clang   llvm building sparc\",\"need handle null exception\",\"vertically scrolling gridview xaml windows store app\",\"php run intstalation \",\"creating dojo datagrid programmatically  sorry error occured \",\"asp net mvc preview 5   html image helper moved namespace\",\"use unassigned local variable   statements\",\"keyword     makefile prerequisites\",\"std  size \",\"need create li list different links using php explode method\",\"dynamic sql clause select query \",\"unable run compiled  classes command line\",\"dynamically import columns csv database table sqlite3 python\",\"onselect event datepicker rise\",\"multiple properties facebook feed publishing attachment\",\"keras implementation dropout correct \",\"scala futures  main thread expected futures executing \",\"angular2 bootstrap way dynamically target elements like angular 1 x\",\"grails datasource remote mysql database access migrations\",\"spring mvc   velocity  proper way bind dropdown options\",\"flexicapture 10 sdk verification step issue\",\"overlaying text box leaflet js map\",\"checking post title unique else return error   using friendly id\",\"amazon  aws    request must contain parameter signature\",\"easy way calculate crap metric javascript build process \",\"way send content type header get request windows phone 8 \",\"windows file  folder permission using vb net\",\"change button image navigation drawer opening closing\",\"hgwatchman throws warning trying clone\",\"would single integer safe read another thread might writing \",\"joomla default index php added url\",\"chaining locks \",\"appcelerator titanium error  application installer abnormal process termination  process exit value 1\",\"seaborn  countplot   frequencies\",\"send productids product catalog java class \",\"say design completely restful \",\"rendering new page post handler works cases others\",\"image xamarin\",\"error  key   hashkey must start      angularjs \",\"problems compiling files using jogl\",\"insert method binary search tree\",\"starts os process scheduler \",\"attribute error trying convert datetime unix timestamp python 2 7\",\"difference setbackgroundimage forstate setimage forstate \",\"create dynamic fields google app engine expando class \",\"large photo version contacts android\",\"elastic search   sort doc type\",\"fix absolute positioning ff \",\"wpf datagrid   validate multiple rows mark invalid ones \",\"print whole table using anonymous block pl sql \",\"encode special character sitemaps \",\"reading default namespace roslyn api\",\"simple example upload photos google picasa\",\"regex date format yyyy mm dd working\",\"read call history iphone ios 5\",\"use powershell tabexpansion function\",\" multiple definition    first defined  errors\",\"button working intended glyphicon\",\"release mode diagnostics react native\",\"strip url 1 word jekyll\",\"syntax error  unrecognized expression   object object  rel  x  \",\"ember cli  broccoli funnel copying files\",\"classnotfound  vmdisconnectedexception  losing  bashrc\",\"width height required iframe \",\"google maps zoom past certain point\",\"insert array mysqldb\",\"using bash  c globbing\",\"use boto manage cmdshell ssh agent \",\"adding text views multiple rows relative layout programmatically\",\"callback function aurelia js\",\"php session cookie secure actually set cookie secure\",\"lumen mongodb \",\"css riddle  figure modify piece code\",\"query mysql table performant way \",\"json serialization pojos child objects\",\"cassandra   datastax   clustering order work\",\"typemap rule confusing\",\"structuremap3 configure constructor string injection types \",\"insert html table row specific location jquery\",\"parse special character xml file using simplexml\",\"able allocate pointer inside void c  \",\"image video conversion transition effect\",\"r  painfully slow read performance using rodbc   sql server\",\"convert writer byte array\",\"jquery js  sorting array based upon another array \",\"tilemap sprite kit tile size issue\",\"print text line \",\"android mapview json array adding array points\",\"compare panel background image resource image\",\"android permissions regard warning google play developer policy violation  action required\",\"convert adobe illustrator font size css font size\",\"expose soap 1 2 web service java calls another rest service\",\"handling data access layer exception mvvm using inversion control\",\"tool read html file save javascripts found one \",\"run node app sublime text\",\"insert clob via createnativequery jpa methor oracle without 32766 character limit\",\"get single json value using webmatrix   razor \",\"optional definitely null values java 8\",\"jquery get previous input text\",\"query haversine formula oracle\",\"call google cloud function javascript web application\",\"update self based reference value hashmap self\",\"bash  sleep loop gets pid\",\"mean js unique error handler search     \",\"difference relationship  scope passed controller   scope passed directive\",\"difference relationship  scope passed controller   scope passed directive\",\"get index clicked element mootools\",\"save windows tabs gvim\",\"getting ioerror   errno invalid number channels   9998 using mic pyaudio raspberry pi\",\"move files folders partial names\",\"adding child existing treenode\",\"fancybox shown jquery ui dialog  pressing esc button closes dialogs\",\"highlighting words javascript  missing \",\"install r redhat\",\" class vs   import header compile time saving clang \",\"unit testing oauth login cake 2 3\",\"possible turn field debug drawing spritekit xcode \",\"change user windows authentication connection string c \",\"background colour views set storyboard working properly \",\"javascript return json working\",\"eloquent relationship partial match\",\"jquery js  sorting array based upon another array \",\"bound datagridview cells updated \",\"adding new label every loop iteration\",\"google places api   getplacepredictions exclude specific business types results \",\"query works slow results\",\"retrieve list positions including fields using linkedin javascript sdk \",\"java daemon thread share heap perm gen spawning process \",\"two processes saving record database time\",\"adding robotium test projects\",\"time select 12 hour time time zone ruby rails\",\"rewrite wordpress url use first sub directory querystring \",\"import ion rangeslider aurelia\",\"javascript uncaught syntaxerror unexpected identifier error\",\"creating function arguments named list  application stats4  mle \",\"metadata could determined every code path results error  see previous errors\",\"item count 10 0\",\"set text color disabled form control button\",\"need assistance setting class send email  gets called main class\",\"struts 2 interceptor runs page executes \",\"php  get data json array without loop\",\"use x coordinates plot points inside circle\",\"python   find email address page selenium\",\"realloc changng size array\",\"url encode incoming url ci\",\"modify wcf process messages different  non soap  format \",\"adding listener google map\",\"understanding vtune report\",\"include parent option elasticsearch nest library\",\"finding line file    x  instead x\",\"merge update comparing strings\",\"fixed background image bug chrome mac\",\"silverlight toolkit accordion   change color\",\"zclip work   multiple copy clipboard js\",\"reordering columns csv\",\"use android autocompletetextview xamarin forms\",\"objective c variable declaration inside     vs outside  interface    end\",\"error using export graphml neo4j 2 2\",\"best way allocate memory two dimensional array c \",\"applying list functions number\",\"effective time code reviews \",\"local ajax request   sencha   phonegap android\",\"loopback connections working user context working local system account\",\"javafx  red border text field\",\"reload fragment\",\"add reference system speech \",\"fluent nhibernate many many issue\",\"implement google drive google plus sdk ios project\",\"multiple result types struts2 \",\"find ibm ilog jrules 7 1 trial version\",\"set remove insets javafx titledpane\",\"change default responsive filemanager upload path \",\"red5 installation\",\"android   cordova  extract code apk\",\"add remove dynamic textboxes uniquely using javascript appscript\",\"factor clojure code setting many different fields java object\",\"sqlite double inner join sql query statement\",\"wordpress header fixed jumps scroll\",\" host key verification failed  using php script   centos\",\"share instance asp net mvc 5 ninject \",\"asp net mvc use regular toolbox controls \",\"build data matrix mixed messy csv file \",\"possible implement median medians introselect swaps heap allocations \",\"possible implement median medians introselect swaps heap allocations \",\"tax class  zero rate  per user role specific product id\",\"sql  microsoft sql\",\"convert date milliseconds another date format\",\"custom menu visible one document excel\",\"mysqli query returns empty string\",\"best way construct activerecord finder using variable \",\"view partitions linux using python3 x\",\"enable bokeh tools pyqt qwebview\",\"flot chart possibility add additional legend\",\"onehotencoding sklearn pipeline\",\"program teaches someone multiplication random numbers\",\"implementing goto ast\",\"app icon showing itunes connect\",\"r  outlier cleaning column dataframe using quantiles 0 05 0 95\",\"storm dynamic topology\",\"oauth access token could extracted mule message\",\"find named range cell   vsto\",\"delete single occurrence recurring event using zend gdata\",\"opencart  directory containing files uploaded could found\",\"replace emoticon word tweet using regex c \",\"java lang illegalargumentexception  failed find configured root contains  storage emulated 0 pictures \",\"m2e install external jar file  need install maven command line tool \",\"adding custom images nodes sigma js\",\"android   retrofit https connection working\",\"simple custom ui maya using python\",\"wordpress  change default font navigation menu \",\"zk event listener removed component using removeeventlistener\",\"pass different browser robotframework\",\"write clang compiler diagnostics structured file\",\"return column location value excel 2010\",\"twitter  share link parameters\",\"check document exists mongodb using es7 async await\",\"get filehandle command line \",\"call function program idle given time\",\"bundle 2 standalone jars 1\",\"comparator set defined class set elements\",\"ambiguous call services configure appsettings \",\"php attachment using swiftmailer\",\"identify mkpointannotation mapview\",\"want current date time  dd mm yyyy hh mm ss ss  format\",\"prevent select option changing back default\",\"adding unit uses clauses units project \",\"lookup error ora 00932  inconsistent datatypes  expected date got number\",\"generate html javascript working \",\"disable assets compilation heroku \",\"iterate every possible double value\",\"use onehotencoding scikit encode categorical data conjunction decisiontreeclassifier \",\"acces data using relationships laravel\",\"using matcher function select2 plugin  results found message appearing\",\"use powershell sql server 2005 \",\"c  application setting showing user config file \",\"remove unexplained shadow around pictures \",\"set attributes unsafe restful yii2 \",\"unable adjust grouping settings opencv hog detectmultiscale  python \",\"insert two tabels mysql database time\",\"data update\",\"lagging panel data data table\",\"one avoid creating ad hoc type system dynamically typed languages \",\"angularjs unknown provider   locationprovider\",\"mpi err buffer performing mpi\",\"prevent controller  service repository constructor executed mvc sitemap provider menu html helper \",\"c    check many times value appears array find indexes\",\"knockout unable process binding  foreach \",\"spaces tabs visual studio code\",\"embedding font swf using as3\",\"netbeans mercurial   moving deleting files folders\",\"variable watchpoint work eclipse adt android projects\",\"recording espresso test without clean install every time\",\"react native enable proguard app close run\",\"mvc remote validation  parameter null\",\"html multiple javascript alias\",\"analytics js blocking scripts\",\"upgrade dicom library   dcm4che2 dcm4che3\",\"get posts   instead query posts   custom post linked custom taxonomy term\",\"ado net data services entity framework request error property setter internal\",\"search elasticsearch condition\",\"hibernate generates wrong query optional bi directional onetoone jointable\",\"read response angular resource  save   also keeping original data\",\" class registered  error opening recordset using vb6\",\"video tag html5 src base64 encode work different device browser\",\"service  rebind bound \",\"data binding wpf datagrid control system data datatable object \",\"android facebook apiexception  invalid application\",\"basic js touppercase\",\"android   communication two services application\",\"reserved class names groovy\",\"minimize adobe air android app as3 \",\"one many db flow\",\"docker machine google  gce  driver working  unable create instance\",\"stop opening tfs builds browser instead ide\",\"vkallocatedescriptorsets returns vk host memory\",\"typeerror converting pandas dataframe spark dataframe pyspark\",\"search engines recognize search boxes websites \",\"check javascript string 100 000 00 format\",\"images cut outlook 2007 2010 2013\",\"go  get path parameters http request\",\"scale button right left  android animation\",\"prolog counting using 0  p 0 \",\"raphael paper editing\",\" js file code  calling way \",\"return resulset given radius\",\"source code unix environments  cd  command\",\"multiline regex using vb script\",\"get cuda use gcc 4 6\",\"ai  partial unification open world reference resolution\",\"asp net mvc  foolproof validation working\",\"use radians programming \",\"add new enum value existing enum field \",\"wpf  treeview keyvaluepair int  string \",\"exceeds list view threshold 5000 items sharepoint 2010\",\"maven 3 multi module build tries run targets multi module pom\",\"php code variable\",\"liferay   autologin hook portlet logout current user\",\"lotus domino group account concern\",\"mysql  get sequential number rows \",\"ormlite filestream\",\"add zeros sql columns\",\"recurring events event calendar\",\"convert imagesource writeablebitmap metro windows 8\",\"cq5 render image inputstream jcr data \",\"keep python printing type information \",\"r  getting indices elements sorted vector\",\"android  get mjpeg stream camera\",\"finding minimum number user input\",\"documenting  tuple  return type function docstring pycharm type hinting\",\"get full description activity cleartool \",\"get full description activity cleartool \",\"creating virtual machine using azure command line tool linux\",\"writing estimating likelihood functions em algorithm r\",\"pass  param value select function returns table  sql server \",\"run multiple classes netbeans maven project\",\"stop warning uiview may respond selector\",\"refreshtoken null\",\"enable button textfields filled ios\",\"create image json file \",\"creating multidimensional array adding elements dynamically\",\"fancybox shown jquery ui dialog  pressing esc button closes dialogs\",\"mvc scaffolding support entity framework 6 later\",\"intercept javascript requests chrome extension\",\"percentages mysql\",\"sqlalchemy  object attribute   sa adapter \",\"authenticate users using curl login system site \",\"android bug  webview fasle    false logcat\",\"integration python c  application\",\"tsql combining multiple rows one row\",\"use email passport local  previous help working\",\"including additional static xml python\",\"install haskell packages using cabal without internet connection\",\"grep one string occuring multiple times file\",\"gmres residual plotting\",\"iterating multidimensional array output contents inner array php\",\"surfaceview camera preview destroyed\",\"handle buffered channel properly golang \",\"creating htmltable using asp net repeater dynamically bound object list\",\"method using super take subtype object add list \",\"join two queried tables\",\"compute xor remainder used crc java \",\"setting canvas background animation\",\"run c   projects ubuntu ntfs partition \",\"grep one string occuring multiple times file\",\"use mpi parallel hdf5\",\"redirect rule working\",\"xcode 5    bundle loader used  bundle xctest\",\"reload iframe every x seconds \",\"run application debug folder visual studio solution \",\"know activity ruuning windows phone 7 \",\"create dynamic destination blazeds\",\"set default image img src  null\",\"nsarray bounds check\",\"flask mail error  headers    self sender  self reply    self recipients\",\"template vagrantfile using ruby \",\"mssql connect    unable connect server  without freetds conf \",\"eraser opengl es iphone\",\"pub sub paradigm  know subscribers alive \",\"cannot start java 1 7 0 101 b00  java 1 8 later required  updation android studio v2 2 0  september 2016 \",\"install networkit\",\"parameterized function clothoid\",\"using cordova 5 0 0 google maps content security policy\",\"setting background color android actionbar\",\"boost asio udp read optimization questions\",\"integers exponent 52 even 64 bit floating point\",\"fatal error installing mongodb nodejs\",\"clojure message handling   async  multithreaded\",\"mvc   adfs authentication   adfs redirects localhost\",\"matplotlib  different stacked bars \",\"running tomcat6 webapp privileges\",\"datagridview  show unique values duplicate cell values c  2005\",\"specify positional arguments flag package golang \",\"private method parameters\",\"getting persistent intermittent  violation primary key constraint  errors\",\"generate static html server side \",\"3d touch collectionview\",\"controlling multiple tedits array\",\"meaning error 404  found \",\"update query problem asp net c  mysql using odbc\",\"sitecore mobile detection\",\"sequence date  add date date postgresql subquery\",\"select enlarge masterpane zedgraph\",\"get inner html   php\",\"perl locate loadable object module math  pari  inc\",\"increment datetime value increment value 30 minutes oracle \",\"nvd3 line chart shown properly   dots shaded area \",\"start terms creating proper folder structure html css javascript site built using twitter bootstrap \",\"getting coordinates glfrustum\",\"flash   get inputtext value as2 swf running load as3 swf\",\"page form send data remotely hosted aspx form\",\"determining  programmatically  controls mouse pc using c  c  \",\"positioning cells fpdf\",\"create container noncopyable elements\",\"run django tests  manage py  different directory \",\"pyscripter rpyc error\",\"rxjava data db onscreen list\",\"connect azure service bus subscription node js sdk using sas keys \",\"connect azure service bus subscription node js sdk using sas keys \",\"print substituted expression without numerical evaluation\",\"cakephp 3 migration issue\",\"edittext returning null accessed adapter\",\"connect tt x trader api order create automated trading system using python \",\"jquery ui draggable live\",\"deploy gwt application pretty compiled html using google plugin eclipse\",\"unique number identifier generation\",\"want code fibonacci series program c getting last element negative\",\"angular cookie resets\",\"gettint youtube video titles\",\"github windows client delete work \",\"vba search column strings copy row new worksheet\",\"type enum generic error cloning andengine\",\"get position absolute child overflow parent dimensions parent overflow auto \",\"focus excel vsto wpf application\",\"jexl2 1 1 script throwing exceptions\",\"best way structure multi page form create edit models database \",\"installing adt plugin eclipse android development\",\"set dynamic url angular js\",\"sending email cakephp 1 3\",\"retrieve content closing opening html tag using beautiful soup\",\"ios tableview time left\",\"firefox add sdk getting tab id\",\"camera app running background  multitasking  ios8 \",\"find years distinct digits   ccc 2013\",\"asp net mvc pass radiobutton selected value view controller\",\"invalid cursor state identifier cursor positioned row update  delete  set  get statement    resultset empty\",\"embed json file within d3 js\",\"spring jpa  transactional committing\",\"jquery datepicker   show day week name date cell\",\"uploading images php app gce storing onto gcs\",\"run  sonar runer  throw exception   caused  unknown database status  fresh install \",\"compile apk two different geographic sites\",\"java 7 8  expecting stackmap frame branch target\",\"java 7 8  expecting stackmap frame branch target\",\"override existing html form use jquery post form \",\"ie7 problems displaying text td\",\"rewrite urls change aspx extension html\",\"symfony2   doctrine  order entites foreign attribute\",\"discover db2 procedure default parameters using syscat tables\",\"know activity ruuning windows phone 7 \",\"know activity ruuning windows phone 7 \",\"launch transparent activity background activity able take events\",\"combining facebook google auth firebase android\",\"use child process webpack\",\"lock framebuffer temporary\",\"ruby concatenate strings add spaces\",\"shopt command found  bashrc shell updation\",\"time duration measure using dimensions ssas\",\"draw information panel libgdx scene2d ui\",\"ai  partial unification open world reference resolution\",\"innodb disk usage overhead\",\"windows store apps  change icon appbar button \",\"viewing word docs read\",\"swift textfield width\",\"populate dropdownlist based another dropdownlist selected value mvc 4 \",\"html textarea injecting line breaks\",\"user defined conditional standard local datetime format django\",\"rails 4 memory profiling\",\"setting width height\",\"know coverage django application  \",\"converting inserted string compilable expression\",\"cannot get mongodb started centos 6 4\",\"build jar maven\",\"execute 2 commands one button press windows 8 app\",\"spinning wheel stop slowly  css3\",\"finding pointer arguments gnucparser \",\"java windows   error  illegal escape character\",\"possible place something front iframe \",\"use czech chars regular expression\",\"flask mongodb using mongokit mongolabs\",\"reusing scanner input multiple conditions loop\",\"specify chrome device mode viewport default value \",\"best way todo list objects type\",\"fixed sidebar skeleton responsive layout\",\"android listview toggle button web service\",\"entity framework 5 library consumers need entity framework dlls \",\"underscores mysql table names cause issues \",\"asp net gridview sorting implementation   event handling\",\"cuda double pointer memory copy\",\"c  threading  getavailablethreads  \",\"find regular expression type python\",\"issue nan adam solver\",\"generating code locales without interpretation\",\"adobe air native extension android external jars  aapt tool failed error \",\"reads google app engine datastore transactions see previous writes deletes \",\"would right service use php client library google get basic info like name email address \",\"implement  get feature futuretask backgroundtask using android \",\"index data specific shard using solrj\",\"requestdispatcher forward one dopost always go another dopost \",\"array implementation fpga using vhdl\",\"android change timertask interval shcedule \",\"rails 3 1   stack level deep db seed\",\"regular expression matching mysql instead like\",\"insert moment js time mysql\",\"mvc3 validation  unobtrusive validation   asterisk validation message\",\"reduce cfdata store  \",\"representing ad hoc operator precedence scala parser\",\"function rapidjson  value  parameter wants allocator called\",\"css railstutorial\",\"c   vtknetcdfcfreader reading variables different dimensions issues\",\"confirm save onchange drop\",\"bash script    using expect read standard output\",\"behaviorsubject initial value working share  \",\"openlayers 3 xyz layer\",\"document location href   location   vs    mobile changepage   location   \",\"decision tree model spark  pyspark  visualized \",\"visual diagram format gui event mapping \",\"visual diagram format gui event mapping \",\"pushing viewcontroller tableview inside viewcontroller working\",\"crop region interest points available\",\"read multiple lines access sql query using oledb vb\",\"bad style reassign long variables local abbreviation \",\"ovh cron error phpmailer\",\"fatal error  class  artisaninwebsoapwrapperserviceprovider  found\",\"datagridview  show unique values duplicate cell values c  2005\",\"autocomplete light return \",\"create automatically word wrap 40 characters javascript   jquery\",\"magento 1 7 import product issue\",\"select element efficiently parent div using jquery\",\"read description code\",\"tablets make calls   telephony \",\"python  copy deepcopy produces error\",\"column dependent column value\",\"php   find value comparing two multi dimensional arrays\",\"check network reachability ios non blocking manner \",\"check value one array exists another array using linq\",\"session timeout using signalr\",\"force fluid div expand full available width \",\"simple url mapping issue\",\"use  distinguished name  keystore android market\",\"xpages view string type ratio\",\"reflect dom property change input checkbox innerhtml attribute\",\"vbscript getting file twice intermittently reading webpage\",\"bluemix  connect dashdb php application\",\"find main diagonal matrix   scheme\",\"httprequestmessage getclientcertificate   returns null web api\",\"silverlight webservice  remote server returned error  notfound \",\"warning ini parameter missing z3 3 2 \",\"vertical html table without repeating th tags\",\"speed sql server spatial query \",\"android  possible code start service device goes sleep wakes sleep\",\"remap capslock key emacs super using autohotkey \",\"count number values within cell\",\"expressjs connect   simulate slow file upload\",\"java swt get image relative path\",\"asp net core rc2 disable transfer encoding  chunked response\",\"c  fontfamily showing new fonts\",\"use context state    method   violate statechart assertion \",\"lifecycle static field\",\"share uploaded file among servlets\",\"possible detect download actual download started chrome \",\"check link internal external\",\"make spring webflow  dojo  dijit  text field required textarea\",\"runtime polymorphism giving wrong output\",\"c chat program get error segmentation fault  core dumped \",\"cron job send mail\",\"get json results placed google maps \",\"sparkexception using javastreamingcontext getorcreate    one sparkcontext may running jvm\",\"accepting range array parameter\",\"read maxattempts spring  retryable application properties file\",\"set right left image uislider ios\",\"python module extract probable dates strings \",\"possible generate global list marked strings compile time runtime \",\"cocreateinstance    858993460  comip h  c  \",\"microsoft speech recognition  wildcard blank content\",\"right click sendkeys  net\",\"mimic fully compatible icompilationunit standalone java files \",\"escape special characters         string coldfusion\",\"qt cannot find dll  though everything set\",\"pass dynamic query ssrs dataset \",\"matrix shaped list\",\"detect touches skspritenode oddly shaped image  running animations\",\"signs fatal exception application crashes   nlog version 2   compact framework 3 5\",\"simple join vs  clauses\",\"replication factor changed hdfs hdfs site xml\",\"imagefactory imageasresized returns null\",\"change sketch support without moving geometry\",\"foreign key composite primary key\",\"stick footer bottom  fixed  even scrolling\",\"eonasdan datetimepicker working bootstrap4 alpha\",\"using facebook logo ios app\",\"sql pivot dayvalue  dealing date pivot table  mysql solution\",\"xmp metadata supported png images \",\"duplicate rows database\",\"start elasticsearch service 2 nodes\",\"handle different screen resolution screen size developing site \",\"disconnect windows phone 8 1 emulator network \",\"json stringify outputs empty object empty object\",\"maven site plugin   body  tag inherited\",\"uitableview uitextfield   keep data even user scrolls\",\"convert row columns \",\"javascript  print value   session array \",\"get current location using mapmodule \",\"modifying containable fields required beforefind callback \",\"return promises instead async\",\"change color html5 progress bar\",\"convert datetimes  00 00 depending timezones mysql \",\"maven provided scope\",\"create scatter plot graduated marker colours matlab \",\"swift property override working\",\"sharedobject  receive event clients never fires event saving data\",\"change date format storing input variable unix \",\"transaction management ejb\",\"rails  create maintainable html structures  defined one place used wherever needed  \",\"values encoding post request\",\"ribbon get created wordprocessingdocument created byte  \",\"delphi ios ipv6 trouble  please ensure app compatible ipv6 networks\",\"fork processes r\",\"changing class span\",\"erase multiple packages using rpm yum\",\"android ics   embedded youtube video working full screen mode\",\"xslt takes escape sequences parameter\",\"performance difference order nested loop \",\"numerical integration error\",\"adding random number uploaded file\",\"running storm nimbus supervisor physical node cluster mode\",\"asp net 5  docker build multi projects solution\",\"insert row sql database ado net connection oriented mode\",\"copy references project paste another project references visual studio \",\"use response node js connecting database \",\"simple nasm questions  understand  n selector\",\"pop click rss feed   javascript\",\"assigning dojo tooltip nodelist using  selector  attribute\",\"output piglatin function messed\",\"create anonymous javascript function callback dart js interop \",\"numerical integration error\",\"achartengine   recognise touch line chart \",\"automatically setting scale graph based max value  python \",\"execute perl script crontab\",\"error  absolute uri  http   struts apache org tags html cannot resolved either web xml jar files deployed application  \",\"python call reference equivalent\",\"testing nsmutablearray contains string object\",\"chdir   changes directory used fgets  \",\"response content cannot parsed internet explorer engine available \",\"android view inflateexception  binary xml file error\",\"install sql server setup encoutered error win 7  \",\"change color surface plot sfit matlab\",\"next available item ddl vb net\",\"error loading swf game stimulate download normally\",\"android sdk renistalls death appcelerator studio\",\"nullpointerexception   attempt invoke interface method  android view view android view menuitem getactionview    null object reference\",\"easiest way get schema hsqldb\",\"start application windows service \",\"retrieve data pc hyperterminal\",\"watson conversation list entity value\",\"search textbox entered value xml file using c \",\"android listen home button\",\"access specfic json data rotten tomatoes  api\",\"remove empty namespace java using dom\",\"javascript   add pause button carousel \",\"manipulate data ngresource query   returning \",\"directory createdirectory exception\",\"dynamic itemtemplate within gridview dynamic drop list column\",\"ef power tools  modelentitycontainername invalid characters\",\"mix two colors point intersection paths coregraphics \",\"would use  n n  relations python \",\"rails 4  ruby 2 0  get pg error trying get records specified value joined table\",\" initialize method core data managed objects called twice \",\"implement reordered list binding data database\",\"get someones profile picture display back \",\"mongoose mapreduce  \",\"less 1 3 3  watch mode hogging lot cpu espresso editor\",\"cannot figure hide show loading animation jquery\",\"could someone explain use updatemanager tidesdk 1 3 1 beta \",\"extjs applying different theme specific component \",\"unable fire selectedindexchanged event single item combobox\",\"edit method mvc4 visual studio 2012\",\"string replace linq \",\"calling method viewcontroller class xcode\",\"ienumerable list returns 1 object convert object \",\"access list filtered items dataview\",\"iphone interface orientation statement working os 3 0 \",\"call tortoisegit  show log  commandline\",\"asp net directory security\",\"asset catalogs resource bundles\",\"delete one column row jagged array c \",\"visual studio c4028 warning  formal parameter different declaration  spurious \",\"restrictions objectpath associators statement \",\"access nested class super attribute child \",\"reduce ipython parallel memory usage\",\"sql server management studio declaring variable\",\"getting list entityvalidationerrors  immediate window\",\"confusion stack growth addressing\",\"printing two dimensional array\",\"   still getting results trying optimize mysql innodb table fast count\",\"spring security 4 custom login page\",\"shiny  display results based counter condition\",\"php  read  title  font  ttf file \",\"check id object touched  ios \",\"restful service argument mismatch exception\",\"array array php pdo fetch modes\",\"doxygen  adding custom link  related pages  section\",\"python   extracting files large  6gb   zip file\",\"disable folding    unit    scala procedures intellij idea \",\"embed  nav file pdf portfolio \",\"remove uiimageview animation memory completely \",\"web storage preferable cookies storing sessionid \",\"make pop image using css3 \",\"data frame manoeuvre\",\" autowired constructor scala class\",\"sorting 2d string array java\",\"ruby   get cookie response two set cookie headers\",\"sql server   select values table without group\",\"jquery fancybox stopping asp net logout link working\",\"serialize json object named  return \",\"difference static sql dynamic sql \",\"malloc code \",\"need help understanding complex query multiple join conditions\",\"multiply two size wrong \",\"semantic ui grid   display full width column   computer  columns hidden\",\"replace letters textbox using vb net\",\"call child javascript function parent\",\"installing gulp sass throwing error\",\"django     slug forms\",\"get information browser network console\",\"access variable another non monobehaviour class\",\"mongoose schema check model instance saved first time\",\"window open modifying dom new window\",\"getting result inverting dictionary twice\",\"type characters interval \",\"dbacl  check     failed aro aco node lookup permissions check \",\"validation process working server side struts 2 \",\"html image onclick working mobile browsers\",\"winforms data binding entity framework 6\",\"edit method mvc4 visual studio 2012\",\"create root element input xml \",\"exceeds list view threshold 5000 items sharepoint 2010\",\"java logging statement says cannot find symbol\",\"stop firing asp net module static content\",\"using avurlasset custom nsurlprotocol\",\"influxdb data input file timestamp format\",\"set jquery draggable min max left min max right\",\"subversion checkout modified files jenkins\",\"shared worker teminated reloading page\",\"create type aware jackson deserializer\",\"jquery ajax removes line break get\",\"missing type map configuration unsupported mapping auto code generation client\",\"user defined functions vs  built   pre defined functions\",\"subset data repetitive names\",\"convert double value binary value\",\"getting susy compass installed ruby rails\",\"want hide ios nav bar particular view\",\"anaconda updating latest\",\"facebook messenger bot persistent menu\",\"unstable session mvc3 application godaddy servers\",\"two dimensional array via pointer\",\"rails website ios app\",\"add peridic timer callback linux kernel module\",\"difference removeprop removeattr jquery 1 6 \",\"events adding removing items listbox c  net\",\"progress dialog usage thread\",\"spark sreaming  broadcast variable size limit \",\"combine multiple  serviceknowntype  attributes one \",\"non static values chart using canvasjs \",\"defining object var without var\",\"audiofileopenurl returns  43 caf file exists\",\"add customisable text wordpress theme\",\"subversion  continuous integration  scrum\",\"verilog code counting 7 segment display 9999 0630\",\"implementing google oauth2 chrome extension interecting servers\",\"pbc windows  cryptgenrandom  \",\"split single file angular module client  server  shared files \",\"block comment issue eclipse mars\",\"android 4 4 4 moto g bluetooth le reconnect issue\",\"work  using cin read char array smaller given input\",\"match facebook campaign objective insights actions types\",\"start sqlplus  oracle 12c  linux \",\"managing objectcontext life time threads\",\"postgres strings comparison peculiarity\",\"find attached data frames \",\"virtual pet games iphone\",\"django  make parent object field show editable children admin changelist page \",\"enable activerecord skip active record rails application \",\"print message android app\",\"run ant task maven\",\"understanding indices opengl es 2 0\",\"maximum compression msi install using wix\",\"get ip address wcf remote endpoint \",\"render queries ajax rails\",\"caching drupal site session specific data every page\",\"access n matrix n index vectors \",\"gtkmm  connect signal handler combobox treeview\",\"find bitness  32 bit 64 bit  excel application object \",\"logstash reading logtype field beats\",\"sap crystal report load slow first time \",\"read file java  output first comma delimited string\",\"writing dataannotations best approach\",\"links work jsp jquery  link websiteurl anchor tag jsp page \",\"way mysql trigger something affected rows \",\"check camera existence ios phonegap\",\"separating unconnected objects model\",\"group chat python\",\"html tag exist defaulted inline block \",\"uitableview   multiple selection single selection\",\"change working directory msbuild sonarqube runner exe \",\"weblogic disable authentication\",\"multisampling fragment shader\",\"count row1 table1 count row1 table2 returned result group day\",\"resize hash table \",\"coverting list dictionary datatable\",\"execute several maven plugins within single phase set respective execution order \",\"remove uiimageview animation memory completely \",\"return sql query specific chunks \",\"downloading files dropbox using c  asp net\",\"clone git repo hosted windows shared folder mac os x\",\"color textures work together \",\"convert joda time datetime java sql date retain time zone\",\"unexpected closing tag  div  error angular2 html\",\"cannot step wcf service\",\"use di winrt\",\"postgresql   unnest  array  array agg  back\",\"creating histogram multiple data series using multhist r\",\"searching dates sql jdbc \",\"deploying rails application\",\"run macro \",\"android os calling onactivityresult picking image gallery\",\"ant compile issue\",\"c  ms chart   best way print chart \",\"adding onsubmit function semantic ui validation form\",\"resizing appletviewer window canvas size change\",\"mayavi texture span full surface\",\"webpack require non js content jest unit tests\",\"assert 3   2    1   work \",\"symfony render template string\",\"fopen fails invisibly creating files system drive  c  \",\"linq  convert query results select \",\"proxy settings firefox  stick \",\"embed font visual basic  net application \",\"initialize bitmap array android \",\"filehelper attributes limitied fields members\",\"difference  locals locals express 4 0\",\"grails 3 0 public folder\",\"sparql wikidata   retrieve members wikimedia category\",\"oracle adf 11g stands among java ee frameworks \",\"virtual network virtual machines\",\"user friendly artifact procurement maven\",\"include static library  import paths still valid \",\"returning different type parameter\",\"parse  cloud code variable declartaion\",\"set cron job php iphone application \",\"back button exits application android using appcelerator titanium\",\"return json result unicode characters escaped u1234\",\"magmi multi store set attribute  use default value \",\"using client status c  sharpsvn\",\"call python script use external python packages java\",\"create test db server\",\"yii2 dropdownlist onchange change autocomplete widget  source  attribute \",\"rendering mkmapview uiimage real resolution\",\"switch  layout view mvc5\",\"make menuitem invisible odoo 10\",\"android store contact vcard data \",\"category axis label alignment multi series bar chart jasper\",\"validating variable length arguments\",\"calculate average conditionally based attribute rake task  rails \",\"alternate method global temp tables oracle stored procedure\",\"get single quoted string array json output \",\"start learn prism silverlight \",\"could delete applet\",\"forwarding futures  stream futures  sink\",\"send email using oauth\",\"count number times variable repeated continuously r\",\"drawing 3d surfaces javafx\",\"mono addin implementation retrieve addins\",\"signing aws api gateway request unity3d c \",\"render hex grid\",\"prettyphoto social tools share lightbox deep link\",\"error calling exslt saxon\",\"google app script   separating html css\",\"parse error  syntax error  unexpected goto  expecting string     b c function php line 406\",\"sklearn error   svr  object attribute   impl \",\"sample depth buffer opengl compute shader\",\"properties   avoid code repetition\",\"setting node env forman causes process terminate nodejs\",\"  symbol definition c \",\"calculate length characters text non latin letters\",\"possible add http header aws custom auth api gateway \",\"must logged use magmi\",\"android test project fails build ant  ok eclipse\",\"possible size gridview columns gridview dynamically bound \",\"use python large scale development \",\"type text field using redux form\",\"running portia  scrapy  windows\",\"error  could successfully connect elasticsearch  check cluster state red elasticsearch running properly\",\"jquery tools validator overlay\",\"draw circle geofence preview android\",\"nivo slider overflow issue\",\"volley stop adding date listview json\",\"set odbc connection r \",\"embedding python c   calling methods c   code\",\"java  stanford nlp   extract specific speech labels parser\",\"blur  input     click   caused blur  something\",\"pear absolute paths\",\"specify content type produced handler spring messaging \",\"synchronized arraylist threads \",\"force pages https\",\"tcp socket communication limit\",\"could dequeue view kind  uicollectionelementkindcell identifier\",\"wpf style base window applied app xaml  themes generic xaml\",\"copy 5 seconds 28 minute video using ffmpeg\",\"windows workflow 4   difference workflowapplication cancel  terminate abort\",\"proper way overload operators abstract base classes \",\"adding new row datagridview keydown\",\"remove index php url codeigniter host server\",\"remove index php url codeigniter host server\",\"appending button uitableviewcell dynamically   tableview\",\"reopen closed file vim \",\"web config single user basic auth\",\"execute plink file containing commands thru qtp 11 \",\"problems gfortran compiling simple scripts\",\"nokogiri builder performance huge xml \",\"anchor disappears onclick event happen faded\",\"azure movile services  provider enabled\",\"localized srandom \",\"stuck fixing query  mistakes two commands wrote\",\"extract private key  created using strong name tool  sn exe  \",\"asynchronous method using  result\",\"android list view search query\",\"android  integrating foursquare app\",\"vim editor  auto formatting vim \",\"best way search long datatype within oracle database \",\"pwa   web app  restarts  google login\",\"surveyor respondent patter nanomsg python\",\"rally authentication issue getting results\",\"error sending form file form using ajax\",\"deciding cms system build website\",\"selecting max sum\",\"macros still running even cell  range value changed\",\"apprtc coturn stun turn server\",\" wpdb insert big problem  weird\",\"rle finding rectangles matrix\",\"getting twitter handle twitter framework ios\",\"write image text pdf form fields using itextsharp\",\"wix setproperty   possible values attributes\",\"sidekiq processing queue\",\"detecting iphone swipe jquery\",\"add given time tomorrows date php\",\"postgresql   replace html entities\",\"py stackexchange filter tag\",\"javamail api   change setfrom whatever want \",\"differences php base64 encode  nix base64\",\"clean urls backend frontend thing\",\"choose file starting given string\",\"generating maven project inheritance aggregation diagram\",\"expression compare guid properties versus string values translate tsql\",\"get letter entered instantly android \",\"need find difference timings without dates javascript application\",\"joomla htaccess working\",\"git branching files opened\",\"intuit quickbooks online app authorization quit working\",\"html document width exceeds 100  increase height bigger screen height\",\"add custom keys tiff file add temperature data image properties tiff file\",\"ruby rails   best way include css js\",\"building serialport js nw gyp nw js\",\"fosuserbundle found appkernel\",\"android action bar button show\",\"xcode swift pods installation   import file found\",\"ckeditor toolbar enable\",\"change value hidden file according radio selected\",\"build hang using jenkins \",\"sound muted notification unity project android\",\"asis3objectrequest issue bad url uploading file amazon\",\"wait job pod completion kubernetes google container engine\",\"seggregate json values javascript\",\"check thread ran 5 seconds \",\"randon error processing pentaho cde dashboard mdx query widget\",\"using cygwin ssh agent running git still prompting passphrase\",\"save javascript variable session variable \",\"javascript tostring working ie\",\"extract data string set new string\",\"returning strings windows c functions\",\"onclick event whole page except div\",\"get list languages windows forms application localized \",\"padding checkbox label\",\"gllinkprogram crashes even though glcompileshader return error\",\"intent service get started called broadcast receiver\",\"scalable architecture socket io\",\"cqrs  read side return dtos viewmodels \",\"position list item bullets inside list \",\"twitter bootstrap carousel buttons working\",\"add values stored different arraylist new one arithmetic mean\",\"call function page load completed\",\"implement voting system play framework \",\"possible make derived class inherit non 0 argument constructor \",\"accessing big arrays php\",\"use local database mysql  relate stormpath user accounts\",\"use undefined constant curlopt ipresolve   assumed  curlopt ipresolve \",\"determine user  temperature unit  setting ios 10  celsius   fahrenheit \",\"rewrite instead append xml file\",\"desired output  probable cause overload\",\"uitableview   click blank area trigger didselectrowatindexpath\",\"another issue coordinates igraph r\",\"find command seem execute twice \",\"skip carrierwave integirty processing validation\",\"add values app config retrieve\",\"mysql error 1205  lock wait timeout exceeded\",\"generic collections type test\",\"delete lot objects named common prefix s3 bucket \",\"slice endpoints invisibly truncated\",\"combobox binding stringformat\",\"much thread choose upload cloud \",\"hibernate nativequery   transaction \",\"ionic framework   update device geolocation google maps js api\",\"generate symbolmap gwt mvp4g project \",\"deploying multiple app together\",\"app rejected  iphone app white screen ipad\",\"erlang odbc  disable autocommit oracle\",\"kendo grid filter   show yes column information\",\"class contain constructor takes 0 arguments  parameters constructor optional\",\"amd  specifically requirejs  handle dependancies across multiple modules\",\"hive complex nested json\",\"wcf operationcontract method webget attribute multiple responseformat types \",\"loading image remote server different lan\",\"use suggested intellij command disable double buffering \",\"progress bar uiwebview\",\"extracting result google bigquery cloud storage golang\",\"setting recaptcha different language english\",\"get record controller ajax laravel 5 2\",\"send array flash  as3  javascript\",\"laravel eager load dynamic constraints\",\"remove adjoining faces three js\",\"wpf combobox binding\",\"anyone know java util map implementation optimized low memory use \",\"installed components detected  element already child another element\",\"installed components detected  element already child another element\",\"shiny conditional statements\",\"recylerview changing single parameter row \",\"create virtual hosts mamp \",\"screenshots ios\",\"session stickiness amazon web services\",\"browser startup failure executing tests remote machine using selenium grid\",\"jquery submit    picking value\",\"convert html code plain text inside div textarea\",\"fpgas  updated \",\"azure search statistics power bi\",\"google api v3 retrieving contacts\",\"reading response data web service\",\"nosuchelementexception\",\"generate id inserting table  jpa hibernate\",\"rails route appears routes throws 404\",\"simple sentiment analysis java\",\"run java program without jvm \",\"python  splitting certain pattern\",\"set datagridview columns text format uppercase adding new property \",\"show user name user created comment order magento 1 7\",\"ampersands wordpress titles break share social media links\",\"compress image ionic 2\",\"cannot create unordered map tuple int  int  int \",\"change text style inline matplotlib\",\"generate combination possible words based specific letter rule substitutions java\",\"remove metadata common image formats \",\"winform webbrowser recaptcha show\",\"attributerouting work\",\"catch unexpected messages c   send messages also want accept answers messages \",\"oracle pl sql  function cursor\",\"jenkins  push deploy failure deploy stage google app engine\",\"python tkinter application quit properly\",\"grails 3 1 8 controller\",\"throttle login attemps java webapp \",\"meteor storing retrieving custom objects session\",\"connect third party dependency injection framework reactiveui\",\"margin extended page tablix ssrs\",\"h2o model fit driver node memory error\",\"pass viewbag controller partial view\",\"make reordered tuple vector tuple use spirit  karma\",\"declaring function return 2d array header file \",\"pattern updating multiple parts redux state\",\"programmatically generate trx file \",\"python2 7   windows 7   scapy  select error   10038     \",\"set uitoolbar background similar navigation bar\",\"parse json format objective c\",\"validate controlfx checkcombobox\",\"dialogfragments devices api level   11\",\"large excel file   upload import   java\",\"servicestack identity field pk   insert fails\",\"change magento layout width\",\"able access life events timeline \",\"choosing iterating specific sub arrays multidimensional arrays python\",\"maximize window across multiple monitors \",\"navigating several views iphone\",\"prevent google cardboard pairing   startup screen ios\",\"processbuilder constructor parameter work \",\"generate graph sub graphs using sparql\",\"cannot install pip windows 10\",\"websocket binary transmission returns data server sent\",\"find list escaped characters msil string constants \",\"copy html clipboard programmatically\",\"infragistics   license information found   false error\",\"aggregating analyses sbt subprojects\",\"using matrices algebra manipulate strings  feasible \",\"typedef work \",\"orbeon 4 m11   glassfish 3 1 2 coused errors httpurlconnection\",\"sort table laravel eloquent objects custom attribute \",\"let ear deployment programmatically mark failed\",\"mac osx app   test production build correctly \",\"customized streambuffer c   istream\",\"yql column projection using xpath\",\"bookmarking ajax pages\",\"angularjs  force refresh native one time bindings\",\"file upload chunks via http post java android\",\"html working tags\",\"capture javascript http redirection c  \",\"xmlpath mapping problems using eclipselink moxy\",\"resources using git rstudio\",\"laravel losing session redirect paypal\",\"read sound backward directsound\",\"add phonetic guides texts \",\"castle monorail async action\",\"sharing folders permission c \",\"asp net identity 2 1 change pk int error\",\"active buttons bootstrap 3\",\"flattening sql bitmask enumeration table\",\"joblib userwarning trying cache results\",\"navigate account settings specific syncadapter account \",\"process creation using  clone  result memory failure \",\"getting current user express js  using socket io \",\"unable read checkbox gridview\",\"python module binary plist\",\"arc releasing viewcontroller prematurely\",\"perl  replace strings multiple files array entry\",\"iphone development   exc bad access error stack trace\",\"handle images low density large screens android \",\"apache jmeter   2 10   null point exception running existing script\",\"apache ignite kafka connection issues\",\"control choosing number list\",\"setting form dirty without actually changing value \",\"get position view added dynamically linearlayout\",\"get value hidden input field using jmeter\",\"log4j 2 json configuration\",\"loading config file parameter angular2\",\"reference right layout file magento\",\"query cgi based webserver app written mfc  msvc 2008  process result \",\"materialize datepicker   rendering icon clicked\",\"spatial autocorrelation using moran spatial overlap index\",\"jsx element type  xxx  construct call signatures\",\"httpurlconnection getrequestproperties   throws illegalstateexception   already connected \",\"make one  td  span columns two column table \",\"applicative order call value normal order call name differences\",\"alternative locals   printing table header\",\"android  programatically login website retrieve data \",\"chrome apps development\",\"digital frequency doubler dual edge triggered flip flop vhdl\",\"organize many configs one stylus project webpack\",\"detect mantissa precision overflow gmp  happens \",\"counting particular occurrences python csv file\",\"create multiple objects class different variables \",\"nullpointerexception getreadabledatabase  \",\"difference using synonyms path using synonyms specifying synonym filter elasticsearch \",\"strcpy output c\",\"libquadmath gnu gsl ode solver \",\"cygwin xserver losing connection\",\"avaudiosession availableinputs returning nil without external microphone\",\"valueerror using commands function\",\"reduce rectangle detected faces opencv \",\"seeking algorithm invert  reverse  mirror  turn inside  dag\",\"mod rewrite multiple query strings \",\"python reading null character telnet\",\"jquery table filter text  checkboxes  selects\",\"nservicebus  nhibernate  guidcomb  \",\"phonegap   jquery app  scripts taking time load \",\"python numpy 2d array indexing\",\"setup remote debugging different directory\",\"visual basic6 0 object cannot drag move\",\"jpa   hibernate count    using criteriabuilder   generatedalias\",\"binding portion ssrs serverreport reportpath app setting web config\",\"create nothing tpl task complete result triggered\",\"entity framework 4  ctp 5  unwisely queries comparison linq sql\",\"php  subtract minutes\",\"difference context scope cdi   java\",\"changing aspx page body image pageload   asp net\",\"xamarin app run without google play services\",\"c  image  preserve image checksum\",\"bycript blowfish salts existing auth system\",\"fullcalendar   go date monthview picking date\",\"plsql procedure execution error invalid statement\",\"passing values one jsp page another jsp page\",\"xsltprocessor importstylesheet error\",\"cant send mail android app using java mail api\",\"parse specific link using selector css query\",\"function highlighting monokai vs code   atom sublime\",\"jquery ajax form  cross domain firefox issues\",\"creating mlp python showing error\",\"creating walkable n e w world photos\",\"string format works string\",\"nservicebus  nhibernate  guidcomb  \",\"trouble filtering camel\",\"spring intercept url patterns\",\"android imagebutton size fit smaller screen device\",\"failing fgets tcp socket\",\"changing image folder reflect changes browser\",\"python   libs subfolder \",\"workflow using django south multiple code branches\",\"mongojs limit skip\",\"rml test page number\",\"visual studio 2013 database project drop column\",\"usb connection issues\",\"duplicate items jplayer playlist mysql database\",\"memory required  short  fields dalvik \",\"wake waiting swingworker \",\"get requestmapping request aop advice spring controller \",\"update except statement\",\"want able set random date datepicker\",\"render scenegraph pyopengl\",\"reconnect client server java \",\"move asana tasks section section via api\",\"phpdocumentor document available options string parameter\",\"laravel query builder sum returns multiplied values\",\"clarification min distance locationmanager requestlocationupdates method  min distance parameter\",\"detecting div position based attaribute\",\"hibernate distinguish entity types native query case inheritance  real meaning clazz  column \",\"calling asmx web service method jquery ajax\",\"dropdown value onchange php\",\"want able set random date datepicker\",\"j oliver eventstore  questions\",\"django model inheritance foreign keys\",\"android find color close black white\",\"thread safe invoke net cf\",\"apply style specific text styled paragraph using docx4j\",\"jqgrid  delete row    send additional post data \",\"displaying facebook news feed android\",\"application retrieve custom fields docusign transaction \",\"  sign needed macro definition \",\"use tablesorter stickyheaders widget   working \",\"php include read changes source file\",\"get value url set name spinner send select value id server fragment\",\"android sqlite check record exists work\",\"linux bash scripts respond install options\",\"c  linqtosql submitchanges   update  even though pk set\",\"android   find best size text based size button\",\"time entry validation html form\",\"trying reduce django q objects operator  seems result reduction  \",\"py test aborts  py root imported\",\"vc11 winsock application shut\",\"stop touchend firing links unintentionally\",\"ant  source target files  detect change \",\"convert large document containing lists authored word clean html \",\"matching division widths jquery\",\"amazon mws  specify language  get merchant listings data \",\"javassist insertbefore line number incorrect\",\"python counting letters string without count function\",\"swing  enabling buttons delay\",\"show error load data recyclerview android\",\"pivot calculating column average\",\"passing data uiviewcontroller uitableviewcontroller connected via segue\",\"jquery droppable  list item dropped  unable get  id  attribute using attr  \",\"parsing rfc3339 dates nsdateformatter ios 4 x macos x 10 6  impossible \",\"fixing libvlc release mode crash vc2010\",\"css blur working well iframe content\",\"using pandas manipulate multiple columns\",\"c  merge multiple lists based timestamp\",\"assigning value variable  let  possible \",\"image reverting original scrolling uitableview\",\"injection error  cannot resolve parameters\",\"facebook requests dialog showing message recepient\",\"javascript add minutes new date    using object\",\"animate bar char updated python\",\"opencv stereo image pair correction   displaying results\",\"matplotlib imshow vs set data video update\",\"react classes added via jquery\",\"c   inherited interface static member \",\"capybara webkit pass params angular\",\"knockout mapping rendering everything\",\"get windows files associations via java\",\"updated  nodejs   connect keycloak middleware empty response error\",\"android emulator web cam detected\",\"background image rendering issues mobile safari  ipad \",\"java   apply keyboard shortcut 3 keys jbutton \",\"storing private keys using dsacryptoserviceprovider\",\"laravel  embed image email content attachment\",\"rotation issue first view  splash  first viewcontroller\",\"centos install mod dav svn\",\"unknown  failed opening required  0ff   include path     tmp  usr lib php  usr local lib php   unknown line 0\",\"able store  doc resume mysql database\",\"generating abstract syntax tree java source code using antlr\",\"canceling task delay  net 4 0\",\"multiple threads accessing one variable\",\"varying amount dictionaries datatable\",\"oracle 11g  unpivot multiple columns include column name\",\"countdown timer using datetime parse without defined date\",\"set files uploaded filepicker io s3 services  facebook  instagram  etc     public\",\"prestashop uploading file sending message\",\"server side validation asp net 2 0\",\"getting history zabbix python api\",\"save retrieve image swift 3 0\",\"format number column oracle \",\"datagrid allowing edit item\",\"getting response app billing\",\"rails production  css precompiled \",\"salt stack   show started duration details results\",\"last child \",\"format number column oracle \",\"import existing java project anjuta ide \",\"get form submit page \",\"flurry initialization error android\",\"jpa optimistic locking incrementing entity version   version  twice one transaction \",\"google apps script onedit   accessing external api \",\"crystal reports mvc throwing exception\",\"make readable xml tags\",\"jasperreports export excel auto size columns\",\"speed svm predict \",\"strange error java generic\",\"mvc 3 webgrid column sort alphabatically  according table structure\",\"multiple image sprites vs one\",\"access sql   show additional columns count query\",\"make cppcheck skip package definition\",\"css body background image showing ie 6\",\"get values span tag js\",\"taking website return 500 internal server error\",\"constructing initializer list enumerating values contains random values\",\"repetitive color pattern paragraph css\",\"determine applicationdidbecomeactive whether initial iphone app launch \",\" using namespace  problems dns addressfamily\",\"extjs scroll bottom grid \",\"make new records cascade across one one relationship ms access \",\"cannot create local copy magento\",\"including prebuilt static library android build system\",\"find intersection 3 arrays  ignoring empty arrays \",\"programmatically show activity top task stack \",\"winforms button right click visual feedback  show pushed state \",\"call function string number inferior 0 \",\"play 2 1 3 application maven enhanced models loading lazy objects\",\"jssor   weird behaviour arrow button\",\"need clean runspace loop   tidy script\",\"remember variables list\",\"add   round 2 decimal places sql\",\"difference instantiateinitialviewcontroller instantiateviewcontrollerwithidentifier  \",\"accessing connected vertices orientdb javascript functions\",\"make tab bar angular js sliding effect \",\"reverse byte using assembly language\",\"clear multidimensional cookie c \",\"template matching opencv  java \",\"set responsive divs case \",\"mysql  storing arbitrary data\",\"mongodb c    update property specific object array\",\"call method catch clause object defined try clause \",\"delete one column row jagged array c \",\"unable save file asp net fileupload   access denied\",\"escape characters bash\",\"bootstrap datepicker angular2\",\"module attribute error python3\",\"mvc  pass parameter action using jquery ajax  \",\"adding pagination repeater\",\"header come constant fixed button add   \",\"beautiful soup parsing inline  div   p  dictionary\",\"using javascript variables within string\",\"jms   db integration\",\"parallel programming vector addition\",\"submitting form enter button ajax\",\"removing conditional statements\",\"bisect left bisect right equal \",\"compile error boost  iostream  filtering streambuf\",\"fluent nhibernate configuration working\",\"best practices using multi level hashmap java\",\"allocate lut use scriptintrinsic3dlut \",\"fill null cell cell previous record\",\"c   simd  store uint64 value bitwise operation\",\"php  remove tags   href  text\",\"  defined  uncaught referenceerror using select2 plugin rails\",\"windows phone 8 1 automatically close socket 10 seconds\",\"using count joins across multiple tables\",\"could making jasper reports throw java io ioexception reading font data \",\"memo create file folder \",\"writing commands embedded linux\",\"generate import keys keystore \",\"cakephp call connect method data source \",\"hint function parameter type deftype \",\"canactivate works ionic2 page navigation\",\"console log   printing data console codepen io\",\"want make prolog file stand alone exe file\",\"standalone source code gethostbyname function linux\",\"error caching table sparksql\",\"spread operators redux\",\"get last 3 records\",\"calculate google distance input address address mysql server using jquery ajax get\",\"progressdialog set indeterminate mode onprogressupdate\",\"accessing web app stock android 4 1 4 2 browser\",\"meteor mongo   add update element sub array dynamically\",\"write text already existing text file vb net\",\"get results sparql query\",\"ruby rails   error running cucumber  already activated activesupport 3 2 1  gemfile requires activesupport 3 1 0 \",\"connecting data source crm word like excel\",\"css vertical align middle\",\"generating random default screen ios\",\"execute function every x minutes background work\",\"rails pages controller spec rb test failing  error \",\"rails pages controller spec rb test failing  error \",\"wpf popup alignment point inconsistent  top right  top left  placement absolutepoint\",\"setting array value list\",\"visual studio 2008 visual studio express edition 2010 coexist machine \",\"issues writing txt file transmitting small textfile using c  tcpclient\",\"accessing elf symbol table c\",\"lithium auth  check  default   return weird things\",\"scroll click  autocomplete  ie\",\"opencv eclipse  declared scope  errors compilation\",\"azure sql request limit reached although number connections well resource limit\",\"ios app crash  gpuimagecontext presentbufferfordisplay \",\"get values appsettings json businesslayer helper class  mvc 6\",\"time complexity analysis  choosing operator counting number times line code runs\",\"uncaught exception\",\"ie9 dynamic page js issue\",\"scope finalizer thread   per application domain per process \",\"javafx connecting components model\",\"static bound checking array c  \",\"awk work bash script\",\"using url lib folder module\",\"time complexity algorithm two loops\",\"display error uploaded files exceeding post max size php \",\"pickadate js disable every sunday\",\"unit test database sql server \",\"sharepoint hosted app 2013   list permissions app level\",\"nsdateformatter issue involving week numbers\",\"delete event log installer get uninstalling\",\"ng options angular placeholder\",\"developing via remote desktop\",\"trying setup new editor git\",\"google fit custom data type\",\"standard location based ios app waking suspended ios\",\"mysterious characters end e mail  received socket python\",\"extracting latitude longitude moving google map kml layer\",\"spring explorer showing beans bean definition file\",\"android xamarin c   app runs emulator actual device gets error   install parse failed bad manifest \",\"error using aws encryption library osgi bundle\",\"align fields inline label\",\"show tooltip cell hover using jquery\",\"android   parse php json encode java\",\"retrieve fetch records dynamic 365 crm using c  code\",\"itemssource syntax ok \",\"php microseconds\",\"umbraco 7  render partial view macro rich text editor\",\"jquery   selector  select child div find background image\",\"jsp page check authentication\",\"black screen splash screen loads iphone\",\"unity game screen blurred\",\"authenticated user loggouts server restart\",\"split infix string array string java\",\"get friend app user graph api\",\"creating custom wall post facebook api android\",\"php files downloading\",\"add text inside header nav prestashop\",\"getbooleanextra   always get true value\",\"cllocationcoordinate2d without knowing many array \",\"able insert sqlite3 using python\",\"web view flicker blinks scrolling\",\"multiple custom fields stored meta keys  connect post \",\"aws elastic beanstalk   increase instance disk capacity\",\"idea sql dialect configured mybatis\",\"angularjs select mark matching model selected\",\"nsstring value returning block run\",\"android setellipsize working class extends edittext\",\"installing imagemagick buildpack heroku rails cedar 14\",\"defining object var without var\",\"interop outlook message html displayed plain text\",\"entity framework core  fastest way check generic entity already dbset add update \",\"looking flexible tool gnu indent\",\"swift   assign nib self class\",\"retrieve display python console historical data tws \",\"using default parameters using boost shared ptr\",\"zend framework 2 server   non mvc architecture\",\"safe uninstall vs express installing vs ultimate \",\"form submit button going next page click \",\"nswindow zooming  view   first tiny  zooms normal size \",\"blackberry facebook like button\",\"android programatically inserted sms incorrect timestamp messaging apps\",\"customising uisegmentcontroller issues\",\"sailsjs mysql orm multiple query table field\",\"custom contact form gives 404 error\",\"integrate openid mvc4 web api\",\"google spreadsheet script getvalues   force int instead string\",\"comparing two spanned strings edittext android\",\"run method onclick crash android\",\"disable vibrate android button held\",\"css google app script\",\"write values python dictionary back file\",\"value ngmodel updated angular input view\",\"check input comes null empty\",\"create json array servicestack\",\"embedding flash linux gtk application   sandbox violation\",\"pass value words symbol number  template url py django\",\"jquery datatable add new row row already present remove insert new row id\",\"memory leak asynctask\",\"android geocoder addresses list   google maps api    bounds exception  \",\"export specific request file using postman\",\"update  c   pointer snippet\",\"velocity eventhandler\",\"update  c   pointer snippet\",\"get attr jquery \",\"python  append dictionary zip\",\"write data multiple bluetooth le slaves simultaneously corebluetooth \",\"lua override   strings\",\"wordpress call undefined function add menu page  \",\"time complexity algorithm two loops\",\"hide paging numbers gridview \",\"mongoose populate without ref\",\"uibutton swift 2 2  add different target \",\"run shell command arguments powershell script\",\"using youtube api  get list likes search results python\",\"select2 4 0 1  return first character matched results \",\"tortoise svn   svn ignore   recursive \",\"myclass class \",\"forwarding play scala returns empty response\",\"properly handle two threads updating row database\",\"linear programming solver matlab  similar cplexlp linprog\",\"loop days week beginning today\",\"prevent line break case\",\"cannot loop mongodb collection functions\",\"get macid mobile number android mobile device database\",\"copy constructor using  initwith   productflavors   sourcesets \",\"comparing two generic lists specific property\",\"jenkins   system println printing anything console window\",\"easiest way vb net parse xml objects \",\"use machine learning calculate graph states sequence data \",\"single connection string multiple entity framework models \",\"possible validator table \",\"prevent use trait methods  use  scope php\",\"simulate click spacebar 5 secondes jquery\",\"dealing received gcm push notification different activities \",\"ptrdiff defined c \",\"weblogic caching problems\",\"opengl   java   rendering issue  polygons flickering disappearing\",\" valid  requestbody controller method\",\"process textview html linkify\",\"merge count query   fetch query one   let mysql work\",\"sum datediff minutes 2 rows\",\"php content length header working\",\"mongodb map reduce  gives error   converter found capable converting type java lang boolean type int \",\"vista phantom directory\",\"vista phantom directory\",\"build dynamic data entry forms wpf application \",\"shell script stop rabbitmq server\",\"tab keypress causing focus change also triggering keyup event \",\"c program  pointer argument hold values\",\"opencv detect face landmarks  ear chin ear line \",\"bad performance  stuttering  windows phone 7 page transitions\",\"using massivejs rest put post saves\",\"problem custom tfs web service plugin\",\"fabric js crop path inside object\",\"detect repeating decimal\",\"weblogic jar containing javax servlet 10 3 \",\"firebase database online editor ignore security rules\",\"rails cache view files hosted vm codebase samba share\",\"listen hyperlink click mx control html component\",\"testing angularjs directive modifies scope karma   jasmine\",\"decode html back original html code php posted jquery\",\"angular2 0 subdirectory  systemjs cant import angular components\",\"swift ios9 building macintalk voice asset   null \",\"select rows master table join subtable\",\"display custom fields wordpress alphabetical order \",\"nsstring value returning block run\",\"generate range dates using cte oracle\",\"mock trigger  routechangesuccess angular unit tests \",\"insert iframe php ajax \",\"js css animation speed relative object size\",\"access google play account reports google api client php library\",\"database design questionbased voting system  normalization gone wrong \",\"get url post author user buddypress avatar inside wordpress post loop\",\"create bootstrap carousel iframes \",\"list add nodes pylon app python command line \",\"javascript   instafeed js   limit filters\",\"problem rss feed cdata\",\"create bootstrap carousel iframes \",\"feature extraction butterfly images\",\"node js open chrome ubuntu 16 04 lts\",\"jpa fetching one many\",\"applying jquery resizable dynamically generated html data table\",\"get unique values sql column\",\"talend   specify jndi datasource\",\"find peers wifi network ios\",\"jquery fn load   deprecated \",\"transform log4net config like web config \",\"chart serverside export\",\"web service client code generator ios \",\"alamofire get size url download\",\"cypher profile via neo4j rest api\",\"convert time decimal c \",\"jquery autocomplete many inputs   django dynamic formset\",\"avoid rendering images stuff backbone views\",\"smtpclient throws exception trying send email via zentyal server\",\"upgrade stack ghc\",\"gwt requestbuilder  handle pdf \",\"speed pascal cuda8 1080ti unified memory\",\"android outofmemoryerror xml\",\"want integrate aadhaar card authentication php  tried code api access get response\",\"neo4j cypher query creates links expected\",\"xml attribute alias\",\"3 remote objects bound rmi registry\",\"render speed  adding one dom item time adding set items\",\"system err println output go jboss \",\"getting current user express js  using socket io \",\"meteorjs external files  css js\",\"windows batch copy files subfolders one folder\",\"restkit savetopersistentstore calls controllerdidchangecontent data written database\",\"rails 3   ajax posts link click\",\"matplotlib draw spline multiple points\",\"need help creating specific pointcut inside method\",\"exc bad access setting integer anything else zero\",\"populate dropdownlist based another dropdownlist selected value mvc 4 \",\"using exceptions acceptable python javascript\",\"node js  image upload issue undefined\",\"application  immediately running emulator terminated\",\"post request golang server using polymer core ajax \",\"automatic screenshot capture running android application app store commitment\",\"advantages disadvantages delegate members classic functions \",\"trying simple transaction ef ctp5   sqlserverce4 0    failed  \",\"change supportmapfragment mapview google maps v2 \",\"convert image file byte array using ruby\",\"webapi  deserialize uri parameter poco action parameter\",\"print two zero 00 integer \",\"jquery ui tabs disable tab navigation\",\"new apcu apc user cache shared processes \",\"gson java make different names mapping printing \",\"post request swift 3 0 alamofire\",\"initiate remote assistance session  net \",\"determine whether  selector wants parameter \",\"creating custom wall post facebook api android\",\"youtube data api   get access media stream play  java \",\"glyphicon change color hover\",\"hibernate nativequery   transaction \",\"create tfs build definition website without  proj file\",\"binary tree  method remove subtree\",\"isa deprecation issue\",\"concurrent operation synchronized block\",\"teamcity build last svn checkin branch\",\"reading core properties using python docx\",\"matlab   pass argument command line run script\",\"exception library tomcat apache web application tlds found\",\"refresh listview click delete button\",\"zf tool   phpunit recognised include path\",\"increase performance insert cursor \",\"sql query returning  overload resolution error \",\"image size limit ipad \",\"running tests android studio ide rebuild pure java library module\",\"crystal reports   hiding text drawing object based data\",\"handling missing data pandas\",\"jni crashes calling callvoidmethod\",\"scala lambdas implementation vs  java 8\",\"wordpress plugins add content \",\"ng grid filter cell template column\",\"smarter editor tab labels eclipse\",\"pyqt win gpl 4 11 1 installation\",\"redirect page animate reach certain scrolltop\",\"quickest way query database linq \",\"simple recursive method\",\"select data sqlite listarrays\",\"xaml daily calendar control  windows phone 8 1 \",\"send html email java using html external template \",\"mathjax  hide math expression processing\",\"obj  c   qr reading application runs slow\",\"c    reading file using ifstream\",\"managing different developer connection strings linq sql\",\"powershell printer ignore  f  new page  text \",\"hitcounter mvc\",\"web service client programing language\",\"usage netty channellocal\",\"neg instruction set adjust flag  af  x86 \",\"neg instruction set adjust flag  af  x86 \",\"bash curl array text file\",\"bad put css include middle body \",\"reading seperate integers line\",\"asp net menu rendering different vs2008 vs2010\",\"spring batch   process repeated skippable exception occurs\",\"laravel many many   unexpected result set   select  \",\"apps app updates submitted app store must built xcode 5 1 1 later  ios 7 sdk\",\"  uiscrollview zoomtorect animated   weird behavior contentsize   bounds size\",\"read large text file matlab   30gb \",\"sorting array increasing frequency element\",\"displays dates current month\",\"spring 4 configuration  java onfig  maven dependencies adding mysql spring data spring desktop application without hibernate \",\"angularjs seo  \",\"animating carpet rolling three js   ideas \",\"bootstrap table plugin  set search string first load \",\"clipcursor working\",\"increasing cpu rendering load game code\",\"xml   access content two self closing tags\",\"get record mysql time two dates \",\"using hierarchical page tables \",\"use role attribute html5\",\"extract text tex  remove latex tags\",\"lowest id row always returned also returning max value column \",\"scraping data without explicitly define field scraped\",\"select  part line  within file php\",\"generate android apk sencha touch using sencha cmd5   error   output\",\"row exist multiple\",\"row exist multiple\",\"entity framework iqueryable poco generation\",\"use delegation  pass messages  class methods\",\"select rows containing group wise maximum column\",\"possible pass partial view different model model used view \",\"implement mouse joint sprite kit \",\"dnn portal alias internal ip\",\"use  object   iframe  loading video \",\"cakephp 2 0 5 sqlserver requires database connection\",\"remove fragment crash\",\"open pdf new tab\",\"store keystrokes x  \",\"difference two density plots\",\"show selected record custom list view toast\",\"cross join behaviour  sqlserver 2008 \",\"extracting data 2 tables\",\"get confirm box value via code behind c \",\"transfer images android device pc using wifi\",\"would reverse cgrectunion   \",\"mysql update query run\",\"ssl configuration issue rabbitmq web stomp plugin\",\"custom listfield checkboxes blackberry\",\"wrong android virtual device \",\"error trying create opportunity converting lead opportunity custom module openerp\",\"error creating menu dynamically xamarin android\",\"run mahout rowsimilarity recommender mongodb data\",\"docker build fail\",\"generating checkbox lists mvc3 using complex viewmodel cross table linq sql\",\"pass encapsulated variable new environment\",\"foundation 6  6 2 3  equalizer stops working try use optional configurations\",\"text showing   executing\",\"javascript listen focus blur events\",\"vserver linux   start jar  invalid corrupt jarfile\",\"hello guys  getting error submitting simple form  honestly know\",\"install update upgrade ssl certificate tomcat\",\" net web request proxy  automatically detect credentials\",\"use openlayers 3 webpack\",\"load large picture file add watermark\",\"required field validator   asyncfileupload\",\"powershell   empty pipe element allowed\",\"combine two urls way browser \",\"ios  detect voice dictation used uitextview  microphone button tapped keyboard\",\"set textbox enabled false true textchange \",\"visual studio  copy dependent dlls target folder\",\"vigenere cipher difficulties\",\"r shiny  go previous conditionalpanel using back action button\",\"cannot bind port 80  microsoft httpapi 2 0 lock\",\"data binding specific item array angular\",\"javassist cannotcompileexception   source error  field   1\",\"misinterpretation hashes perl  populating log file\",\"ignore property using jquery   extend   \",\"ideal data type array c\",\"error javascript function called  referenceerror   function name  defined\",\"good idea bad idea  using mysql rand   outside small set subquery results \",\"linkedin authentication request error\",\"serialize com excel objects binary format store memorystream asp net\",\"select2   insert bolded headline \",\"fetch every nth object using core data\",\"prevent programatically generated chart resing cells vba\",\"use  willchangevalueforkey   didchangevalueforkey  \",\"set icon non app mac os x bundle\",\"using variables jquery django template filter\",\"passing quoted string arguments bash script\",\" scrim  context android \",\"get pid php function exec   windows \",\"session cookie send back client using urlconnection windows jre 1 7\",\"using knockout extender allow array characters\",\" call asp page parameters html link \",\"customized google c style el\",\"deploy openlayers tomcat   jsf 2\",\"avoid implicit conversion mysql  truncated incorrect double value \",\"importing files extension  sqlite r\",\"android app design  write correct intent filter\",\"2d array  pushing one array shows arrays \",\"clientcertificate server ssl cert\",\"post variable multi select working php\",\"content management   asp net recommendations\",\"problems pc lint gcc 4 8   stl  ubuntu \",\"relative absolute tolerance definitions matlab solver\",\"getters violate law demeter \",\"accessing    operator pointer\",\"gui apps python 3 4\",\"callkit find number used start app native phone app\",\"dynamic java integer long overflow checking versus performance\",\"getting row data inserted row  mysql  php  mysqli \",\"show uisearchbar right side uinavigationitem \",\" outlook mail rest api  include access corporate ms exchange server email \",\"repeat header page break using fpdf\",\"save web page continue working offline \",\"select rows data frame ending specific character string r\",\"handle notfoundexception elegantly neo4j 2 0 \",\"remove project reference website project visual studio \",\"weird error overloading methods generics\",\"format multiline code single line visual studio\",\"use opencv find red color picture\",\"sharing ajax data multiple controllers angular using service\",\"uncaught typeerror  failed execute  importstylesheet   xsltprocessor   parameter 1 type  node \",\"liferay portlet relative path\",\"callback url skydrive api localhost\",\"using  ifdef  defined   find variable   defined\",\"wcf   get reference incoming message string service implementation \",\"complexity   determining order growth\",\"compiling static executable\",\"creating email alias using office 365 api\",\"run django runserver tls 1 2\",\"custom property names lesscss\",\"transforming appending dom node\",\"validation fails delegation error\",\"neon comparison\",\"making doctrine query results simple json array\",\"ember deeply nested routes keep parent dynamic parameter\",\"find number occurrences modal value group using data table  r \",\"php file curl commands working server\",\"automating builds subversion tags\",\"escaping single quote using jdbctemplate\",\"google static maps move maps finger\",\"overriding method element within xaml usercontrol \",\"windows phone 7 ftp client error\",\"running app built ios4 ios 3 0  everything huge \",\"changes get saved crystal reports report\",\"downloading images server saving database\",\"data loading detail view controller first row selected\",\"get noclassdeffounderror  java awt desktop \",\"run pycharm using port 80\",\"component react native typewriter work \",\"code first generic repository existing database tables\",\"luracast restler   naming  returned objects\",\"design intermittent via points travel itinerary\",\"enable rainbow parentheses slime \",\"best way validate entity unique key symfony2\",\"random movieclips timer complete\",\"design intermittent via points travel itinerary\",\"homepage loads differently every page\",\"jquery click event autocomplete\",\"apache ftp server seeing logging jar package exists class path\",\"product system make tutorials use website\",\"  pointer  inheriting functions super class subclass using   pointer\",\"display syncexec working inside callable\",\"better way  const  store large blocks text \",\"check image already gallery retrieve\",\"php force close  kill  connection\",\"onclick functioning chrome google sites\",\"csv export showing html tags csv file shows one record\",\"resourcemanagers resourceset wrong values\",\"vs 2010 setup shortcut file shows run administrator option\",\"refresh data bound collection c  \",\"workaround heroku 30 sec timeout executing long plsql procedure rails \",\"determine postal code inside defined area \",\"twitter api  know application used follow\",\"vb net windows api shows information  netsh advfirewall firewall show \",\"asp net literal text values contained ajax accordion migrating south winter\",\"show pattern asp repeater item template \",\"multiprocessing delay second function\",\"comma separated string clause sql query\",\"ravendb transform convert string null\",\"archive validation error\",\"disable eslint vue cli \",\"date default timezone set    working\",\"add time input edittext \",\"gradient bezier curve given point\",\"document getelementbyid value\",\"powershell   comparing large fixed width file large sql table\",\"way redirect browser bootstrap zend framework \",\"rails remote    true confusion  format js  \",\"use operators function callback php \",\"cannot install python threading library windows 7\",\"use ios apns auth key azure notification hubs \",\"align page number right corner migradoc\",\"low level windows key hook stop working \",\"fullcalendar removeeventsource working event source object property\",\"search delete depending whether files contain string\",\"pass extra arguments event handlers \",\"different types escape sequences \",\"coldfusion   capture last parameter\",\"set fieldname using template angularjs\",\"download file http store content string java\",\"wmi get drive letter association physical drive path  misses cdroms\",\"get attribute dom node\",\"swapping container ip alias cause difference ajax request \",\"localize many images xcode \",\"selenium support css3 selectors \",\"retrieve data mysql combobox jung visualization\",\"testing angular2 components transitive dependencies\",\"android aar dependencies\",\"objective c  usual implementation singleton design pattern contains  static id theinstance   nil  method  outside \",\"allow one several audio files play page \",\"run debug spring boot application intellij idea\",\"get latest data module updated another module angularjs\",\"stata  elements variable\",\"test real windows store 8 1 app purchases currentapp \",\"backbone   parse model collection fetch\",\"ide msil\",\"facebook like button comments popup window half displayed \",\"reconstruct symmetric matrix values long form\",\"new desugaring behavior scala 2 10 1\",\"uploading file selenium file input element hidden\",\"multiple protractor configs\",\"properly use store images yii\",\"enable disable cluser \",\"ios launch app photos application selected image\",\"substitute replace expression using hash multi character variables \",\"bokeh equivalent matplotlib subplots\",\"rails heroku application error\",\"modify expander header children expanded\",\"loop taking long produce export output python\",\"display event views block inside another content type content section events related content alone \",\"xpath missing node\",\"delphi timer issue\",\"php  adobe reader open pdf files created mpdf\",\"mysql combine view two table different number entry records date range\",\"jquery ajax return data\",\"strategy check content change iframe\",\"get c  linq query compile joins\",\"merge two stl maps\",\"oracle ancestors hierarchical queries\",\"jquery  click event works \",\"make apk launch robotium test \",\"know exception throw object\",\"make flexmobile project pure as3 \",\"redirection based url   javascript\",\"bootstrap  nav tabs  works incompletely jsp\",\"way create fancy iterator   corresponding new array condition checked index value index \",\"node webkit   starting maximized\",\"swift code leak memory  handle \",\"test speed 2 different querying methods ms access \",\"onshake method   activity start\",\"count number files special suffix directory using python\",\"server required run client side dart apps using polyemer dart angular dart \",\"create neo4j database using csv files\",\"difference getconnectioninfo   getscanresults   detect signal strength changes\",\"save word document using poi api \",\"access shadow dom properties  polymer  javascript jquery \",\"load testing using jmeter basic authentication\",\"custom textbox control built client side validation\",\"jpa  foreign id automatically set\",\"big 2 variables mulitply together\",\"using app resw file background task\",\"functionality matlab function\",\"appcelerator live view console log working\",\"help understand c code    void        scode    \",\"display combobox datagridview\",\"firefox autocomplete even different input name \",\"iis rewrite local apps   fails 404\",\"delphi nosql\",\"qt ios  return qvideoframe type gltexturehandle qvideofilterrunnable\",\"sqlcommand timeout even though sql studio query fast\",\"use tfs workspace virtual machine\",\"local development  apache vs developer   file permissions\",\"trimming spaces variable shell script raspi\",\"onclicklistener called fragment detach\",\"origin policy solve issues xhr  cookies cross page commuication \",\"csv date format\",\"fetch 5 columns value mysql query translate php\",\"filewriter bufferedwriter writing file\",\"solution  multiple resultsets returned query \",\"segmentation fault error using mpi c \",\"javascript coffeescript mock module public function test \",\"make qgraphicstextitem clickable \",\"changing static ip beagle bone black usb0\",\"use one argument template parameter deduction \",\"converting web app asp net mvc 3   enable razor views \",\"use root directory system getproperty  user home  \",\"multiple apps glassfish jul logging different log files \",\"trying compile debug c   vim\",\"admob adview appearing landscape orientation\",\"equivalent main resources non maven project \",\"someone please explain double called double java \",\"ember always loading belongsto\",\"mongoose connect method loading via browserify\",\"formula auto change calendar hours change 1 keep total hours\",\"passing 2d array function\",\"getting frame particular tab bar item\",\"delete duplicated database records \",\"rails  paperclip  s3  heroku  model icon fields saved\",\"problems nsstring inside viewwilldisappear\",\"create dynamic amount tables inside tabsetpanel r shiny\",\"setuid perl script \",\"unit test nscoding \",\"way apply knuth shuffle stack data structure \",\"separate file name path\",\"modifying static array inherited php classes\",\"php mailer script completing ajax call form submit\",\"node js detect string encoding\",\"input check box tag value rails model outside main form\",\"javascript  best way move focus firing event \",\"javascript  best way move focus firing event \",\"implementing  net application isv ms crm 4 0\",\"program call delay   c   linux\",\"android sort sqlite query results ignoring case\",\"visual diagram format gui event mapping \",\"solve javafx flashing screen mac\",\"activerecord  validates associated work updating model \",\"   considered int \",\"xor binary forms integer items list\",\"match kind random string php \",\"return hibernate collection entities without returning root entity\",\"activerecord  validates associated work updating model \",\"gridview column row total\",\"gridview column row total\",\"javascript classlist selector error\",\"yii model composite primary key\",\"point eval bash  c opposed evaluating variable \",\"mysqli fetch row work \",\"mysqli fetch row work \",\"c  run c   opengl application panel\",\"finding shortest word array strings java\",\"ios core plot   scatter plot symbol color appearance\",\"odbc ms access setup\",\"uninitialized constant migrating rails ubuntu osx\",\"start work gmail api rails 4\",\"add small image large image oclmat opencv\",\"rails active record query double nested joins select call\",\"call js confirm code behind\",\"choosing cloud storage service web api ftp third party server\",\"setting ssh public keys docker image\",\"android long press back button crash\",\"activate word document \",\"hazelcast client itopic see topic\",\"happens bind jquery event already bound \",\"good practice use  myboolean     true  javascript \",\"error ts audio stream udp\",\"good practice use  myboolean     true  javascript \",\"help elmah configuration asp net\",\"flip image qt \",\"save changes datagridview database\",\"drupal 6  listing taxonomy vocabularies tagged nodes underneath\",\"chrome extension redirect url parameter\",\"xlib  xgetwindowattributes always returns 1x1 \",\"symfony2  local changes twig view\",\"trigger functions another java program\",\"get filtering data lists alfresco share  community 4 0 \",\"error installing rpm   post script spec failed dependencies  bin sh\",\"set opengl perspective correction \",\"jpa entitymanager updates object transaction finished \",\"ios core plot   scatter plot symbol color appearance\",\"scroll text div hover return first element\",\"get name last inner method executed nested method \",\"flex 4 textarea  automatic character escaping html textflow links\",\"jax ws request response interceptors thread invoke \",\"ransack   action  create  could found\",\"event preventdefault   first click remove\",\"get return value jquery dialog box  asynchronously like alert box\",\"react router links absolute paths\",\"match node certain attribute whose parent attribute \",\"mongodb using index correctly \",\"return path header different actual email bounce recipient \",\"managing logs warnings python extensions\",\"whatsapp contacts syncronization\",\" htaccess redirect based query string remove query string\",\"popular host os developing android \",\"stream types c    read istringstream \",\"django callback facebook credits\",\"change radius mkcircle mkmapview uislider\",\"karaf configuration\",\"python regular expression using operator\",\"make jenkins run failed tests first  upon successful completion  run tests \",\"trying get rid persistent log warning debugging huawei ascend p6\",\"reading multiple cards tags using smartcard rb acr122u\",\"r summarize dataframe depending group subgoup\",\"running aws cli command local python script \",\"typescript better documented  handbook  documentation \",\"run soffice bin supervisor\",\"oracle 12c query require double quotes around table\",\"c  query linq\",\"embedding png files retrieved sending post data url\",\"cef3 single process mode production\",\"atg weblogic  making jsessionid secure\",\"rendering conditional statement grid templatecolumn  extjs 4 2 1 \",\"find matched dataframe pairs\",\"bloodhound get   return undefined \",\"animate scale circle keep centerposition\",\"wince  debug version works  release version crashes reading stream device driver\",\"sbt idea 1 2 0 unresolved sbt 0 12 0 scala 2 10 0 \",\"deleting memory allocated static function c  \",\"unable locate package php5 curl\",\"pass parameter url cakephp\",\"google maps api   map loaded\",\"grant permission api gateway invoke lambda functions cloudformation \",\"access resourcedictionary name\",\"identityserver3 redirect logout custom url\",\"jboss jms provider\",\"questions sort order using xquery sql server\",\"iphone app built amazon web services\",\"bash read strings output one key multiple values\",\"property testers load despite forcepluginactivation  popup menu enablement\",\"sql  mark condition matched\",\"add custom sql orderby statment doctrine2\",\"make pairs array value \",\"kohana framework   prevent subdomains inhereiting parent doamin cookies\",\"change default wcf service binding \",\"error occurred control id  0  could located different control assigned id postback\",\"compare two string arrays   return matched strings mismatched strings separately\",\"sharing images videos apps uiactivityviewcontroller shows shared items twice ios\",\"using google maps v3  php json plot markers\",\"get cognito identity id aws lambda\",\"retrieve info mongodb using c \",\"knockout add edit observablearray conflict\",\"google apps engine php mail api    image data\",\"magento cron job expression dynamically\",\"solve left join sql \",\"defining tables  views  indexes aws cloudformation\",\" module named numpy     error google data proc   upgrade numpy google data proc \",\"accessing data member rootviewcontroller another class\",\"getting video dimensions upload  client side\",\"facing difficulty constructing sql multiple multi select listboxes\",\"update    set    sql query failing\",\"image custom actionbar unwanted left padding\",\"possible auto click\",\"c   substructure bitfield size\",\"jquery ui slider  value  min max html\",\"un nest spark rdd following type   string  scala collection immutable map string scala collection immutable map string int    \",\"error running portia docker ubuntu\",\"hadoop map reduce operation failing writing output\",\"contenteditable nodes xml compound document \",\"get checkboxlist selected values li tag\",\"vba highlight double clicked cell second double click removing formatting 2 ranges\",\"create wordpress post xmlrpc jquery\",\"split arraylist file     \",\"trying create calculator java\",\"google admin directory api sdk user last logged fully accurate\",\"move asp net controls different places web form runtime \",\"convert svg data svg file uploaded\",\"exporting dataset excel\",\"itemscontrol updating data change observablecollection  property\",\"cast child type base parent type serialisation\",\" net app reference two different versions  net framework library \",\"google analytics error message  unexpected error  please try later \",\"opencv histogram data mat\",\"kernel oops executing function read hardware registers\",\"mootools jquery conflict   despite dollar safe mode\",\"share files folders batch\",\"hierarchicaldatatemplate display items without children\",\"capture split tap output result\",\"multiple uipickerviews selected multiple uitextfields\",\"malicious reflection used original running application\",\"use phobos tango \",\"best way add fragment tabs android\",\"maintain session android set session timeout \",\"using deferred ajax\",\"long delay mp4 video start flowplayer\",\"long delay mp4 video start flowplayer\",\"error svydesign using imputed data sets\",\"modify xml fields matlab\",\"date conversion issue   yyyy mm dd dd mm yyyy\",\"xslt generate children based split parent node name\",\"separate countdown divs\",\"dropdownlist enableviewstate bug \",\"make executable python file\",\"asp net partial page class names best practices\",\"angularjs ng scopes\",\"google app engine datastore testing api environment registered thread exception\",\"bash script set folder date file date within folder\",\"make ondraglistener ontouchlistener work together \",\"transpose function elixir \",\"delete multiple records listview asp net using checkbox listview\",\"generic parameter could inferred  factory methods\",\"access displayname attribute model mvc view\",\"enumerate relative paths files directory\",\"getting folder including subdirectories files using gulp\",\"long python application take run \",\"cross apply namespace  sub nodes returns duplicate records\",\"initialize static nsstring class level\",\"gmail api mail read reciept\",\"get list box options hidden field using jquery \",\"amazon sns configuration topics iphone apns integration\",\"calculate precision recall 2 classes\",\"ms access control property type making sense\",\"name thing lets part url argument \",\"issues setting ssl  keep getting  valid  non passphrase protected keys given  error\",\"vagrant provision working\",\"android  removing item listview working properly\",\"error  require  connect   json   undefined\",\"r datetime scaling\",\"faking mouse wheel scroll linux\",\"installing gulp sass throwing error\",\"jquery stop drag allow drag direction\",\"nancy   mimic web api plain notfound response \",\"correct encoding snmp type unsigned32 \",\"find broken links website\",\"using ruby rails api documentation incorrectly \",\"passing php array external javascript function array\",\"moving sprite position jquery\",\"bind property socket object using deployd \",\"flash as3   developing facebook api locally \",\"load text files greater 64 kb buffersize limit \",\"testing whether object java primitive array clojure\",\"jquery parsing rss namespaced element like  content encoded \",\"add dynamically created tables sqlform web2py\",\"tell kmllayer custom map projection \",\"symfony2 functional test select checkboxes\",\"get bundle identifier application context id mach port ios 7 jailbroken  \",\"request denied service delegate  sbmainworkspace  reason  unspecified\",\"merge multiple arrays objects common object key\",\"creating random x matrix range specified numbers  happening \",\"retrieve values stripe webhook\",\"would create drag drop feature image arrays \",\"mac app store upload fail  validation error  sfml \",\"flex   bisonc   parser\",\"full yammer api documentation\",\"swift  assign optional value non optional var\",\"remove uinavigationbar prompt push back button\",\"kind sctp support various windows versions \",\"videoview memory leak\",\"show values grid using matplotlib\",\"close ul parent click\",\"android  programatically login website retrieve data \",\"issue jquerymobile jquery multi page site\",\"scrolling 2 different elements time\",\"sum digits till number given input\",\"asp net medium trust dll\",\"large sqlite database copy\",\"class key value coding compliant key error\",\"would want trailing spaces html document \",\"change data source microsoft sql server visual c  \",\"use javascript variable php \",\"creating function deletes certain character string  wrong program \",\"test soap webservice without using soap client real time feel\",\"change image popup link clicked fancybox\",\"detect combination keys datagridview cell\",\"generating wcf proxy untrusted ssl endpoint\",\"pass jenkins configurations overwrite automation configuration\",\"someone used iphone app name\",\"using es7 static proptypes react native\",\"xslt transform xml document display two columns right left value\",\"keyboard shortcuts debug release builds\",\"install dependency  doctrine dbal  composer laravel\",\"use drawrect draw existing view \",\"create heat map based values  frequencies  \",\"print data situation separate dives loop flask template\",\"ruby http post   errors\",\"generate url outside controller asp net mvc \",\"earley cannot handle epsilon states already contained chart\",\"help pylons routes url \",\"virtual midi vsts\",\"extract title name column \",\"django queryset list set\",\"jacobian hessian inputs  scipy optimize minimize \",\"alternatives biztalk rules engine\",\"expandablelistview default list item press behavior preserved supplying group view contains textview \",\"check specific button exists scrapy \",\"able install socket io windows server 2012\",\"differences psych  principal  varimax   varimax  \",\"passing events external function\",\"jsoup seeing text website\",\"insert value database derby jsp \",\"insert value database derby jsp \",\"file path setting   response  file   cakephp3\",\"calculate greater precision r binomial distribution\",\"matlab  calculate mean part one column another column satisfies condition\",\"nodejs receive udp numbers ugly binary format\",\"named index case sensitive mysql \",\"sfml fails multithreading\",\"self repairing python threads\",\"asynchronous sqlite sample dot42 \",\"ionic returning sql data factory controller\",\"get first post facebook user\",\"ora 02391  exceeded simultaneous sessions per user limit\",\"allow    dash  regular expression\",\"calculator jquery\",\"excessive hard disk usage degrade hard drives \",\"remoting connection tcp\",\"remoting connection tcp\",\"image gradient vector field python\",\"bind model two  already related models  display information \",\"ggplot doesnt order levels since last update\",\"querying broken pymongo 3 0 flask mongoengine\",\"transfer data shared library application\",\"clone control wpf \",\"recyclerview remove animation bug\",\"positioning image top image specific coordinates  android\",\"c     restarting game calling main   function\",\"interpreter iphone \",\"closing excel userform commandbutton click\",\"c   passing pointer function  howto    c   pointer manipulation\",\"android activity lifecycle coming sleep\",\"response large return using limit\",\"pass 9 parameters batch file\",\"google maps v2 api key different package names \",\"define margins pdf used boxplot rendering\",\"java   splitting csv file array\",\"preview viewswitcher androidstudio\",\"removing tabs using fragmentpageradapter\",\"programmatically printing adobe reader 9 using  net interop\",\"possible make matrix rows different  rows matlab \",\"exclude non folders files readdir function \",\"tool generates diagrams sql server hierarchical data \",\"accessing css class another file\",\"play  obtaining connection default database\",\"counting hours using mysql\",\"check via macro whether gnu libstdc   used \",\"making array nsrect values mousedown method\",\"moq   c   invalid callback  setup method parameters cannot invoke callback parameters\",\"c      crtp   type erasure vs polymorphism\",\"detect ambiguous dst overlap \",\"dynamically select columns used select statement\",\"jquery selector question  something elements hidden\",\"updating dynamic control\",\"concurrent access free heap object\",\"concurrent access free heap object\",\"returning index n th element string using tsql\",\"excel 2010 pivot table filter   print multiple filter selection values\",\"cassandra data modeling one many lookup\",\"mirror http website  excluding certain files\",\"lazy mode webpack dev server \",\"parse yaml correctly\",\"making use getparametertypes javassist ctmethod\",\"concurrent access free heap object\",\"news feed response parsing iphone using facebook graph api\",\"regular expression capturing word non word non word non word boundaries\",\"nutch crawl multiple sites\",\"android hardware adobe air cont\",\"html5 canvas draw multiple rectangles move canvas\",\"html5 canvas draw multiple rectangles move canvas\",\"get url remove product cart magento \",\"undefined reference  cv  cascadeclassifier  detectmultiscale   lib linked properly\",\"git extension work visual studio 2017  known issue \",\"using class key nsdictionary\",\"generate display serial number min max value php\",\"necessary implement locking using pthreads c   \",\"ccuiviewwrapper ignores position uitextview\",\"sql select record match multiple words give column\",\"append javascript block string html \",\"search bbedit causing  stack overflow  error \",\"would  go get  start fail travis ci build \",\"cannot talk atmega328p avrisp mkii\",\"using kentor authservices stubidp sp initiated login\",\"qtableview find row selected \",\"get value child  div  parent  div \",\"return multiple variables jsonresult asp net mvc3\",\"data fetch using php curl regular expressions\",\"ordered http request parameters\",\"php sql get next row query  user ordered results \",\"stacking listview top textview android\",\"create unlimited nested sortable list \",\"speeding processing large data frames r\",\"insert google map showing current location\",\"error making clucene max os x 10 10\",\"implement system type property markup user control \",\"opencart  way restrict access page people logged certain group see page \",\"set powermockito verify different types methods called \",\"add datetime class support php 5 1 6\",\"create app aweber \",\"two issues ws ex noactivate winforms\",\"data binding access xaml vs code behind   linq xml \",\"mysql 5 7 installer fails detect vs 2013 redistributable\",\"using longs keys groovy map\",\"powershell  set itemproperty working script running c  webapplication\",\"filter resources template variable value modx wayfinder\",\"writing post data one java servlet another\",\"iphone  mask uiimageview differing dimensions square dimension\",\"c    close openvpn cleanly\",\"c    close openvpn cleanly\",\"django  session cache updated using cookie based session storage\",\" htaccess trying use directories parameters\",\"mongodb mongoid rails unable increment counters hash embedded document\",\"custom row color jquery bootgrid\",\"error  redirect uri mismatch gae django project\",\"deploy maven war jboss eap 6 3 within eclipse luna\",\"connect crm 2015 premise siverlight app without depending context \",\"use segments google analytics api\",\"parsing json javascript\",\"choosing iterating specific sub arrays multidimensional arrays python\",\"iprogress  synchronization\",\"understand f test based lmfit confidence intervals\",\"expanding image field pandas dataframe\",\"replace string column c based matching index column\",\"celery   rabbitmq   find acks   unacknowledged messages\",\"celery   rabbitmq   find acks   unacknowledged messages\",\"asp net health monitoring iis 7 5 integrated mode\",\"file get contents    stream support seeking php\",\"jquery flot pie chart legend formatting\",\"prevent folder deleted using publish web deploy vs2012 \",\"objective c get placemarks given coordinates\",\"eclipselink persistenceunitloadingeception executable jar\",\"laravel database log   best practice\",\"convert chrome extension  chrome specific apis  firefox add \",\"query embedded class hibernate \",\"bitwise shifting reverse javascript\",\"upload file folder asp net \",\"php preg match regular expression  single hyphens spaces words\",\"capture clicked link website website b \",\"avoid printbibliography swallowed org mode headings\",\"display image text inline\",\"ios  anyone know uuid generated executables information may encoded therein \",\"default gnu linker script name vim syntax highlighting\",\"c  java des encryption\",\"check javascript file loaded\",\"javascript value composed several words  value dog crazy \",\"use google maps search location data  functionality places search api   places  \",\"public object cloud storage bucket accessible load balancer\",\"ide msil\",\"horizontal placement components jsf\",\"sql query inner select\",\"use jquery update long since event happened \",\"preprocessor output file valid c c   file\",\"jquery get tallest height child put parent element\",\"redirect url containing smartquotes via  htaccess \",\"set typed information length array\",\"deploy failed   clr trigger\",\"salesforce session variables  set get variables session\",\"save changes datagridview database\",\"tensorflow learn   initialize variables\",\"jquery toggle comment box\",\"define matrix r pass c  \",\"convert nv21 nv12 rotate 90 degrees libyuv \",\"read variables two files output pattern 3rd file\",\"regex   match character diacritic variations  aka accent insensitive \",\"send email iphone app containing img tag\",\"filter three tables id sql\",\"identity insert error set identity field\",\"nginx root inside location working\",\"access menu structure application using visual c  \",\"mysqli insert statement\",\"ember js model data output collectionview\",\"create dotnet tool ef core data seed\",\"setting temporarytransient styling xaml element\",\"indesign  idml file  automation using html5 javascript\",\"custom action   error 1001  could find file myapp installstate\",\"authenticate ews application using oauth\",\"httpurlconnection  connection established \",\"convert restructuredtext plain text\",\"best way change background color javascript html dom\",\"dropdown list bound object data source   update button click\",\"change sender name outlook  \",\"converting struct array\",\"prevent user printing\",\"add folder windows indexing list windows search api\",\"java amount colors lower\",\"wildcard get files exact extension\",\"make makefile multiple java files within package\",\"errors using input web service  esb \",\"change start page windows 8 1 store app c \",\"calculating average value per document sort\",\"issue interacting internet explorer comobject server 2008 r2\",\"raphael viewbox animated zoom\",\"asp net4 canvas app  postback causes unexpected redirect\",\"select query using executeupdate   instead executequery  \",\"default case class parameter lift json\",\"sorting hash given another hash including information order method\",\"django   pass dictionary template tag\",\"angular ui grid d3 graph row\",\"possible conflict error using 443 port ibm http server configuration\",\"angularjs  passing nested angular binding controller method\",\"r  build sum arrays third dimension containing nas returning list \",\"wpf   binding list string column data grid\",\"awk script  prevent argv treated input file name\",\"cropping image imagelist rmagick\",\"vc inline asm   shifting rcl  rcr \",\"google play game services rest api snapshot load commit\",\"scale hatchstyle drawn rectangle \",\"updating dictionary dictionaries python\",\"sql cast float without scientific notation\",\"get 2 different url using xmlhttp open\",\"configure  baseurl  typescript compiler \",\"run function depending selected phone language\",\"remove 100s warnings  implicit conversion loses integer precision   nsinteger   aka  long    int   got updating arm64 \",\"javascript node js stand alone script  block wait promise\",\"signal slot connection creator created class\",\"change cornerradius combobox wpf\",\"master detail split styling android\",\"keep footer div overlapping page content \",\"c   persistence database\",\"c    move point given distance  get new coordinates \",\"mac indexing classpath problems   java lang noclassdeffounderror\",\"export hbase table mysql table\",\"delete link deleting record mysql database\",\"c  struct type initialize \",\"sql query inner select\",\"using local storage chrome db \",\"differences type  image  type  submit  \",\"corona  timer cancel   returns  attempt index nil value \",\"install ffi heroku\",\"suspend process except one thread \",\"set html text color size using javascript\",\"class library project asp net reading web config app config\",\"create file data ur\",\"android finding position map\",\"getting duplicate header button cell nstableview using nspopupbuttoncell\",\"fluent nhibernate exception  association table x refers unmapped class  system string\",\"get nhibernate enforce string property non empty \",\"add song resource directory playlist\",\"vb net   sql  pasting select query results textbox\",\"extends form data scout eclipse\",\"send input terminal window using java mac os\",\"send input terminal window using java mac os\",\"express jsonwebtoken  prevent return config object\",\"join table   performance\",\"escaping special characters sphinxse\",\"combining arrays based keys another array\",\"bytecode design \",\"postal code google map return\",\"connect eclipse websphere application server hosted remote server \",\"django pbkdf2 sha256 js implementation\",\"get reference label repeater control code behind\",\"use ios6 fonts ios5\",\"oracle sql subselect find aggregated values\",\"insert values multiple checkbox database php\",\"dynamic graphs tensorflow\",\"change cell color excel according adjacent dropdown value\",\"moving window forecasting python\",\"linq sql  datatable rows 0   columnname   equivalent\",\"getting started solr\",\"variable height flowlayoutpanel right anchored static panel\",\"thread locals lua\",\"dropdown list options populate second list js php \",\"replace random word string random replacement\",\"incremental update sqoop\",\"accessing websphere api  admin console   wsadmin \",\"changing named range\",\"difference response setheader response writehead \",\"network game adobe air programming adobe flash\",\"big risk testing  net 3 5 assembly using  net 4 0 test assembly\",\"find last wednesday month php php version 5 1 6\",\"find last wednesday month php php version 5 1 6\",\"send input terminal window using java mac os\",\"render certain html tags forum \",\"loading image twice via actionscript3 \",\" tab order  rails app\",\"unix   diff command output single line per difference format\",\"edit epub file content php\",\"printing elements list separate text files python\",\"mqjms2013 invalid security authentication\",\"system argumentnullexception resourcemanager getstring internals\",\"find panel control inside formview edit mode gridview event\",\"determine group  current user account belongs \",\"show wait screen vba excel 2010\",\"ef7 unable retrieve child collections  child object properties\",\" invalid argument  ie 8 jquery prepend   flash objects\",\"array char  \",\"dygraphs timestamp timezone\",\"symfony 3   outsourcing controller code service layer\",\"send email web application \",\"custom converter simple xml working properly\",\"image disappear url route\",\"jquery  get  timeago   work elements loaded dom ready  ajax \",\"symfony bundle  avoid using   dir   build path doctrine mappings\",\"query error search result xml file\",\"codeigniter image upload cant grab file name\",\"extract port number url reverse proxy nginx\",\"usable html code   widgets\",\"d3 js trying animate data  changed data always treated new\",\"wpf c  chart mouse events\",\"change table cell text area save cancel button\",\" map  version threesum slow \",\" map  version threesum slow \",\"rvm gemset   bundler   capistrano production\",\"spring boot jooq auditing solutions\",\"time complexity double invarient loops\",\"get selected value uipickerview button click\",\"inner select inside sql update \",\"gwt canvas   save image open\",\"mono windows 2000 sp4\",\"passing local variable name global variable possible js \",\"realize winforms c  something like image map areas homepage  hoovering cover areas semi transparent rectangle  \",\"excel script hyperlink extraction\",\"android 4 0 ssl authentication\",\"tinymce editor dislikes moved around\",\"jenkins find android sdk\",\"jframe originally require getcontentpane   adding components\",\"serving static files asp net 5 mvc 6\",\"log n  always faster n \",\"retrieve values array mongodb using c \",\"printing r data frame column names multiple lines\",\"ews managed api  search based icaluid\",\"building haskell project using stack  specify custom pre build step \",\"updating recyclerview firebase using dialog\",\"spring ws  adapter endpoint\",\"beautiful soup parsing inline  div   p  dictionary\",\"hiding asp net sitemap nodes treeview control\",\" exit sub  dialogresult ok button\",\"jmeter http proxy server recording\",\"create table syntax error\",\"vba preserve instances macro completes  excel \",\"json decode return scalar \",\"enter key causes unnecessary post back\",\"json chrome extension problem\",\"php upload file web server form  error message\",\"php upload file web server form  error message\",\"unit test simple properties \",\"paginate gridview month yii\",\"partial view one page  handle binding \",\"problem uuid guid\",\"python terminology  things left    argv  learn python hard way exercise 13\",\"way retrieve process stats using perl python \",\"class filter parameters method controllers getting hash instead hashwithindifferentaccess\",\"generate wadl file using jersey 1 7\",\"wider argument types overridding method java\",\"context menu dynamic html table\",\"code works jsfiddle codepen browser  gone wrong \",\"java bytecode variable index 0 classname something strange\",\"scroll offset overflow hidden document\",\"explanation c code\",\"setting start levels dynamic eclipse features  alternatives p2 inf \",\"cocoapods completely broke\",\"equivalent  media test screen size jquery\",\"auto import libraries android studio \",\"run java c drive default cmd prompt \",\"extjs hide tab close  delete\",\"use fmin python\",\"tensorflow retrain windows\",\"insert xml element text parent element using elementtree\",\"vb net mysql pick dates different years \",\"find right raw format\",\"prevent html signature wrapping gmail android \",\"save tree structure db\",\"profanity filter  java\",\"hide video window ends show later ios swift \",\"phabricator  block push differential revision pass build\",\"application reading incorrect integers file \",\"loop passing\",\"r oracle sql\",\"matlab  apply functions componentwise \",\"scikit learn classification regression weights\",\"guard ruby classes class level metaprogramming multiple loads\",\"use mutex embedded c atmega 16 \",\"inject ngroute jasmine   karma angularjs unit test \",\"change dna sequences fasta file using biopython\",\"conversion cloud data 2d image using opencv\",\"dynamically changing proxy firefox selenium webdriver\",\"use ruby rails load slickgrid\",\"jquery ui position function problem parent div visible screen\",\"opencart adding custom menu header menu\",\"wait function finishes continuing main  one threaded \",\"nested statements   r\",\"extracting contents html page element using python\",\"traverse element\",\"validate desktop app problems clickonce deployed application\",\"bc30456   return  member  asp home aspx \",\"com sun jna android arm libjnidispatch found resource path\",\"start preferenceactivity part way hierarchy\",\"security beyond username password \",\"scroll div using scrollwheel another div\",\"storing random values arrays considering duplicates\",\"difficult browse scala api \",\"tweepy streaming api integration django\",\"retrieve multiple results set\",\"show percent random number generator c\",\"conditionally change color angularjs element \",\"missing photos retrieving users tagged photos facebook graph api\",\"show percent random number generator c\",\"java socket bug linux  0xff sent   3 received \",\"get posix time  utc  serial value local date time java 8 datetime api\",\"finding conditions  java file\",\"capistrano connect remote dir also specifying specific port\",\"add five rows invaders space invader game python\",\"expect within bash script\",\"ear able find ejb module classes\",\"learning oo coding php  static    expressions  php manual says everything value expression  confused\",\"entity framework   adding entity twice many many relationships\",\"regexpal differs browsers\",\"osx cron connected internet\",\"accessing data core data location background mode\",\"create link external file section sphinx \",\"software monitor events fired code\",\"media query div changing width everything else works\",\"swift  detect cllocation valid \",\"7 dimensions pentaho google analytics transformation\",\"import java package android studio\",\"map mixins nested json response\",\"website automatically fit iphone screen\",\"php automatically refresh page content specific file changed\",\"regexpal differs browsers\",\"nserror  using nil detect error actually turn error reporting \",\"duplicate xcode project create payment version free app\",\"higher frequency clock generation rtl\",\"returning directory string textblock\",\"ar application   3b object shown asus tablet\",\"convert ole automation date value date sql server\",\"file uploading issue yii2\",\"jquery validate plugin submitting\",\"xml serialization deserialization allowed wp8 1 \",\"retrieve images sql server database wpf form    linq  databinding  sql \",\"user identity name null authenticate via wif\",\"enum exist asc desc ordering  net \",\"mongo collection query operators\",\"oracle error startup  another startup shutdown operation instance progress \",\"c    indicate purposely ignoring return value\",\"ie 10 link block   get work\",\"create encrypted openpgp private key go \",\"downloading zip file android\",\"android screenorientation vs rotation\",\"clearing draw framebuffer works attached gl color attachment0 \",\"using responsive plugin extjs 5\",\"get two template classes working together   properties c   \",\"phpstorm webstorm increase memory 512mb\",\"symfony 2 x shows broken layout clean install\",\"enabling static member conditionally without changing member scope\",\"fiddler  possible replace part url using onbeforeresponse function \",\"hack js  thoughts mixing object arguments  inner variables  external functions  like   kwargs  w using\",\"phpunit test laravel controller session\",\"aws api gateway get time stamp integration request   body mapping templates\",\"configure maven add junit 4 10 instead 3 8 dependency new project\",\"recreating skype quote javascript\",\"create table instruction  parameter stored procedure\",\"java lang numberformatexception  empty string sentiwordnet\",\"parse  handle invalid session \",\"replace apache aliasmatch function nginx\",\"advanced slicing tuple using  args\",\"c   send type argument function\",\"search extract word rows sql\",\"convert informix cursor mssql cursor\",\"cakephp pagination associated habtm model model view controller\",\"update web page content like facebook news feed update\",\"custom domain pointed specific google app engine version domain \",\"storing random values arrays considering duplicates\",\"extract results linq query \",\"fluentnhibernate  getting 1 column another table\",\"canonical way passing options go function \",\"replace swashbuckle ui completely\",\"kohana add multiple data relationship\",\"fields images displays active admin form\",\"htaccess mod rewrite subdomain\",\"dynamically generate list available languages spring mvc\",\"dynamically generate list available languages spring mvc\",\"convert special symbols web scraping r \",\"use id attribute reference variable tooltip\",\"xlsread function matlab systematically loads whole file specified cells\",\"best way select text portion cut based keywords \",\"stripslashes \",\"getting warning setting delegate custom protocol\",\"getting json data using jquery ajax jsp page\",\"get android version server side using asp net\",\"elm   turn msg cmd msg\",\"vs 2017 specified deps json exist asp net core application \",\"inconsistent results finding factorial trailing zero\",\"django accepting get parameters\",\"swift generics subclasses\",\"swift getting struct work first view controller \",\"c  emulator   wifi\",\"could cause evopdf  unable render html  exception deployed azure website\",\"connect jms queue jboss eap 7 behind nat \",\"xcode 6 ios 8    app file\",\"selecting existing image android gallery  intent data null samsung s7\",\"close menu user clicks anything except  li  children\",\"vimeo html 5 player showing\",\"making request linkedin api results 401\",\"change  1 123 456 789   1 123 456 789  python3 \",\"settablistener error applying action bar navigation\",\"compile  main    hpp  files makefile c   \",\"run ansible plays tasks host playbook run via vagrant provisioner \",\"resize text totally fill container\",\"create ar marker vuforia   unity \",\"parse error  syntax error  unexpected      tried answers \",\"python requests  invalid header name\",\"multithreading msvc showing improvement\",\"record microphone untill sound \",\"adding native php function ctags vim\",\"enforce rule based object ordering inserting list\",\"angular web project changing pages\",\"optimising uitableview process huge set data\",\"compass  sass  media queries   767px valid css value \",\"get ubi volume name volume id linux terminal \",\"plain loop python\",\"tableview custom uiview   adding labels overlaps\",\"put items mysql database directly arduino \",\"jenkins skip scm parameter\",\"javascript  affect element hovering \",\"java config spring interceptor interceptor using autowired spring beans\",\"cannot  source  shc compiled scripts\",\"possible use css vars css3 selectors \",\"use qlpreviewpanel \",\"exactly danger uninitialized pointer c\",\"associating records together\",\"show mouse pointer responsive mode \",\"get server name code sql server  standard edition  installed\",\"asp net aspx page code runs impersonated though impersonation disabled\",\"program compiled machine language run different machines \",\"connecting via tcp 3g mobile device\",\"get shared directories remote server\",\"jquery  hide show table row based radio button checked\",\"deploy applets restrictions\",\"create binaryarray vbscript \",\"setup gui mysql \",\"treetagger r\",\"treetagger r\",\"change views iphone rotated \",\"avoid printbibliography swallowed org mode headings\",\"css right margin work inside div overflow scroll\",\"make int char 4    c \",\"get latitude longitude address save database\",\"select optimal key map reduce \",\"read write binary 16 bit data python 2 x \",\"data sent new view controller nil  unwrapping optional value\",\"catching sound played vlcj\",\"populate treeview sql server database sql query   print crystal report vb net\",\"qmake set platform toolset\",\"choosing non zeros long list numbers text file\",\"android virtual device opening ubuntu 16 10\",\"mysql  pull results match like 3 4 expressions \",\"multi condition statement c  \",\"designing iphone application photoshop design tools\",\"create tab dynamically tablayout\",\"upload image chevereto website c \",\"interface builder show hidden views views \",\"web config azure websites friendly url rewriting routing manual code writing\",\"web config azure websites friendly url rewriting routing manual code writing\",\"solving rossler attractor using runge kutta 4\",\"phpmyadmin update 4 3 6 generates  undefined index  navwork  error\",\"visualvm float instances seem include floats inside classes \",\"shall  unexpected indentation  errors pointing  rb files  migrating rails 3 5 \",\"substitute parenthesis regular expression\",\"spring cloud config server property encryption\",\"ssis   warning  failed decrypt encrypted xml node\",\"set timestamp timezone laravel 5 migrate\",\"ie8  jquery ui dialog set height contents zero  fix \",\"multi condition statement c  \",\"sort records  code  grouped listgrid \",\"want something similar iphone calendar list view \",\"extends form data scout eclipse\",\"typescript reflect getmetadata design type returns object instead date without angular testbed\",\"getting started jsf   richfaces eclipse\",\"remove clients semp solace\",\"versioning copy wordpress\",\"write iron router nested template \",\"many statements java\",\"fade transition using php includes static navbar\",\"ordering bool types  e  true   false    \",\"import local module global python\",\"import local module global python\",\"getline   sets failbit skips last line\",\"android broadcast receivers vs aidl\",\"tell intellij start gradle java 1 6 jdk \",\"feature request  making api show profile thumbnails track thumbnails\",\"perform division timespan\",\"preview laravel mail sending\",\"starting android project phonegap\",\"metricam  could load file assembly  webcam dll\",\"making image available via url tomcat\",\"python zip sub folder entire folder path\",\"retrieve values array mongodb using c \",\"using  date    doctrine querybuilder\",\"cant get custom widget work replacing django default date time widget django admin\",\"edit variable compile  less bootstrap yii framework \",\"add list view item dataset delphi \",\"make chat application android using xmpp gcm\",\"scaling modelinstance libgdx 3d bullet engine\",\"replacements available formerly widely supported behaviors defined c standard\",\"handle subdomains one laravel installation\",\"order view returns different results sql\",\"fill database table wxlistctrl using wxthread  fill system going hang\",\"jenkins parameterized matrix job\",\"generating md5 hash qt\",\"strtotime returning unexpected results  relative timestamps\",\"get frame given circles image\",\"use errorlistener ironruby\",\"nsjsonserialization emoji\",\"pass textarea value wysiwyg ckeditor\",\"inserting multiple rows php foreach\",\"class library connection string   change \",\"add datepicker cake php\",\"running ironpython script python   sandbox  loadfromremotesources\",\"get data xsl file\",\"identify classes run time\",\"android app installation  unknown failure  failure   installed 0 \",\"left join  temp  default data  another table \",\"change  eclipse folder linux\",\" libdir odbc fdw missilng\",\"provide username shortdescription jenkins remote api job triggering\",\"ios viper architecture  instantiate whole module \",\"require python module specific python version using setuptools \",\"multiple url  routeprovider\",\"vagrant   laravel   vbox e file error\",\"catching sound played vlcj\",\"itext pdfgraphics2d create   used  absolute drawing order respected generated pdf\",\"bmp reader functioning correctly\",\"android  using motionevent drag drop positioning views custom viewgroup\",\"find overlapping date ranges given list date ranges\",\"run selenium google app engine cloud \",\"make image align input element\",\"syntax error appending string separated commas mysql\",\"getting unique system id mac using c  mono \",\"phpmailer connection refused exchange server\",\"angularjs   remove n data\",\"printing console line dynamically\",\"get list selected files using getopenfilename   multiselect flag \",\"playframework 2 1 find javax persistence play db\",\"spring security 4  customsecurityinternalresourceviewresolver\",\"php   socket communication servers\",\"jquery ui tab navigation arrow css\",\"static const members cannot appear constant expression like  switch \",\"technical reasons use undefined custom elements everything \",\"c  11 ide support qt creator \",\"spotify session callback get audio buffer stats\",\"custom tab bar segue app crash deallocated instance\",\"rss reader   get updates since certain time \",\"sql iterating list call exec item\",\"http c   library \",\"avoid redundancy c   boost  python docs \",\"document rating sharepoint 2013 hosted app\",\"initial width column qtableview via model\",\"get jar opencv \",\"making link gridview vb net 2012  windows form \",\"different colors bar boxplot ggplot2\",\"view postgresql  raise notice  go app\",\"xsl recursive loop node index\",\"google oauth2 web application hosted behind nat  intranet server without public ip \",\"handle table id repetition\",\"share data within template ionic 2\",\"best web log analysis software \",\"unsupportedoperationexception java checking whether resultset closed\",\"make custom uicontrol ibdesignable   ibinspectable\",\"binary operator      cannot applied two  cgaffinetransform  operands\",\"useful set cookbook examples perl xml  libxml dom parser  x html \",\"import  pch file top  h file \",\"send values java class jsp page  \",\"breeze  ef6 updating changed columns \",\"java read random amounts socket whole message \",\"selenium   wait elements presented\",\"custom memory allocator real mode dos  com  freestanding     debug \",\"using dictionary template multiple times \",\"render docx file browser\",\"linq join asp mvc\",\"angularjs jsonp work localy\",\"property  pk  part object key information cannot modified  error occurs successful data entry\",\"redirect static urls small urls\",\"countries province web service\",\"control architecture  32bit vs 64bit  building pyinstaller executable \",\"using jenkins maven publish war file artifactory\",\"mysql search 1 2 3 11 22 33 field\",\"android tablelayout  preserve column widths different tables\",\"append column checkbox wijmogrid\",\"natsort malfunction leading character php\",\"youtube working genymotion  android 4 2 2 4 4 4 \",\"reliable   scalable solutions live audio streaming \",\"atomic increment check preconditions  atomic value less specified value \",\"auto run jetty boot\",\"make python 2 compatible python 3\",\"rails 3 2 modifications css file reflecting assets precompile\",\"jquery pass function\"],\"x\":{\"__ndarray__\":\"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\",\"dtype\":\"float32\",\"shape\":[3760]},\"y\":{\"__ndarray__\":\"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\",\"dtype\":\"float32\",\"shape\":[3760]}},\"selected\":{\"id\":\"1163\",\"type\":\"Selection\"},\"selection_policy\":{\"id\":\"1164\",\"type\":\"UnionRenderers\"}},\"id\":\"1108\",\"type\":\"ColumnDataSource\"},{\"attributes\":{\"overlay\":{\"id\":\"1165\",\"type\":\"BoxAnnotation\"}},\"id\":\"1130\",\"type\":\"BoxZoomTool\"},{\"attributes\":{},\"id\":\"1131\",\"type\":\"SaveTool\"},{\"attributes\":{},\"id\":\"1132\",\"type\":\"ResetTool\"},{\"attributes\":{},\"id\":\"1133\",\"type\":\"HelpTool\"},{\"attributes\":{\"fill_alpha\":{\"value\":0.1},\"fill_color\":{\"value\":\"#1f77b4\"},\"line_alpha\":{\"value\":0.1},\"line_color\":{\"value\":\"#1f77b4\"},\"size\":{\"units\":\"screen\",\"value\":10},\"x\":{\"field\":\"x\"},\"y\":{\"field\":\"y\"}},\"id\":\"1143\",\"type\":\"Scatter\"},{\"attributes\":{\"callback\":null},\"id\":\"1110\",\"type\":\"DataRange1d\"},{\"attributes\":{\"callback\":null},\"id\":\"1112\",\"type\":\"DataRange1d\"},{\"attributes\":{\"data_source\":{\"id\":\"1108\",\"type\":\"ColumnDataSource\"},\"glyph\":{\"id\":\"1142\",\"type\":\"Scatter\"},\"hover_glyph\":null,\"muted_glyph\":null,\"nonselection_glyph\":{\"id\":\"1143\",\"type\":\"Scatter\"},\"selection_glyph\":null,\"view\":{\"id\":\"1145\",\"type\":\"CDSView\"}},\"id\":\"1144\",\"type\":\"GlyphRenderer\"},{\"attributes\":{},\"id\":\"1114\",\"type\":\"LinearScale\"},{\"attributes\":{\"source\":{\"id\":\"1108\",\"type\":\"ColumnDataSource\"}},\"id\":\"1145\",\"type\":\"CDSView\"},{\"attributes\":{},\"id\":\"1116\",\"type\":\"LinearScale\"},{\"attributes\":{\"callback\":null,\"tooltips\":[[\"token\",\"@token\"]]},\"id\":\"1146\",\"type\":\"HoverTool\"},{\"attributes\":{\"formatter\":{\"id\":\"1161\",\"type\":\"BasicTickFormatter\"},\"ticker\":{\"id\":\"1119\",\"type\":\"BasicTicker\"}},\"id\":\"1118\",\"type\":\"LinearAxis\"},{\"attributes\":{},\"id\":\"1119\",\"type\":\"BasicTicker\"},{\"attributes\":{},\"id\":\"1159\",\"type\":\"BasicTickFormatter\"},{\"attributes\":{\"ticker\":{\"id\":\"1119\",\"type\":\"BasicTicker\"}},\"id\":\"1122\",\"type\":\"Grid\"},{\"attributes\":{\"text\":\"\"},\"id\":\"1158\",\"type\":\"Title\"},{\"attributes\":{\"formatter\":{\"id\":\"1159\",\"type\":\"BasicTickFormatter\"},\"ticker\":{\"id\":\"1124\",\"type\":\"BasicTicker\"}},\"id\":\"1123\",\"type\":\"LinearAxis\"},{\"attributes\":{},\"id\":\"1124\",\"type\":\"BasicTicker\"}],\"root_ids\":[\"1109\"]},\"title\":\"Bokeh Application\",\"version\":\"1.4.0\"}};\n",
              "  var render_items = [{\"docid\":\"3b6b3cd4-45b7-4dda-a2fc-af58a9e538e0\",\"roots\":{\"1109\":\"68e81a7e-040e-475e-9bd0-e02c5f8ee5f3\"}}];\n",
              "  root.Bokeh.embed.embed_items_notebook(docs_json, render_items);\n",
              "\n",
              "  }\n",
              "  if (root.Bokeh !== undefined) {\n",
              "    embed_document(root);\n",
              "  } else {\n",
              "    var attempts = 0;\n",
              "    var timer = setInterval(function(root) {\n",
              "      if (root.Bokeh !== undefined) {\n",
              "        clearInterval(timer);\n",
              "        embed_document(root);\n",
              "      } else {\n",
              "        attempts++;\n",
              "        if (attempts > 100) {\n",
              "          clearInterval(timer);\n",
              "          console.log(\"Bokeh: ERROR: Unable to run BokehJS code because BokehJS library is missing\");\n",
              "        }\n",
              "      }\n",
              "    }, 10, root)\n",
              "  }\n",
              "})(window);"
            ],
            "application/vnd.bokehjs_exec.v0+json": ""
          },
          "metadata": {
            "tags": [],
            "application/vnd.bokehjs_exec.v0+json": {
              "id": "1109"
            }
          }
        },
        {
          "output_type": "execute_result",
          "data": {
            "text/html": [
              "<div style=\"display: table;\"><div style=\"display: table-row;\"><div style=\"display: table-cell;\"><b title=\"bokeh.plotting.figure.Figure\">Figure</b>(</div><div style=\"display: table-cell;\">id&nbsp;=&nbsp;'1109', <span id=\"1221\" style=\"cursor: pointer;\">&hellip;)</span></div></div><div class=\"1220\" style=\"display: none;\"><div style=\"display: table-cell;\"></div><div style=\"display: table-cell;\">above&nbsp;=&nbsp;[],</div></div><div class=\"1220\" style=\"display: none;\"><div style=\"display: table-cell;\"></div><div style=\"display: table-cell;\">align&nbsp;=&nbsp;'start',</div></div><div class=\"1220\" style=\"display: none;\"><div style=\"display: table-cell;\"></div><div style=\"display: table-cell;\">aspect_ratio&nbsp;=&nbsp;None,</div></div><div class=\"1220\" style=\"display: none;\"><div style=\"display: table-cell;\"></div><div style=\"display: table-cell;\">aspect_scale&nbsp;=&nbsp;1,</div></div><div class=\"1220\" style=\"display: none;\"><div style=\"display: table-cell;\"></div><div style=\"display: table-cell;\">background&nbsp;=&nbsp;None,</div></div><div class=\"1220\" style=\"display: none;\"><div style=\"display: table-cell;\"></div><div style=\"display: table-cell;\">background_fill_alpha&nbsp;=&nbsp;{'value': 1.0},</div></div><div class=\"1220\" style=\"display: none;\"><div style=\"display: table-cell;\"></div><div style=\"display: table-cell;\">background_fill_color&nbsp;=&nbsp;{'value': '#ffffff'},</div></div><div class=\"1220\" style=\"display: none;\"><div style=\"display: table-cell;\"></div><div style=\"display: table-cell;\">below&nbsp;=&nbsp;[LinearAxis(id='1118', ...)],</div></div><div class=\"1220\" style=\"display: none;\"><div style=\"display: table-cell;\"></div><div style=\"display: table-cell;\">border_fill_alpha&nbsp;=&nbsp;{'value': 1.0},</div></div><div class=\"1220\" style=\"display: none;\"><div style=\"display: table-cell;\"></div><div style=\"display: table-cell;\">border_fill_color&nbsp;=&nbsp;{'value': '#ffffff'},</div></div><div class=\"1220\" style=\"display: none;\"><div style=\"display: table-cell;\"></div><div style=\"display: table-cell;\">center&nbsp;=&nbsp;[Grid(id='1122', ...), Grid(id='1127', ...)],</div></div><div class=\"1220\" style=\"display: none;\"><div style=\"display: table-cell;\"></div><div style=\"display: table-cell;\">css_classes&nbsp;=&nbsp;[],</div></div><div class=\"1220\" style=\"display: none;\"><div style=\"display: table-cell;\"></div><div style=\"display: table-cell;\">disabled&nbsp;=&nbsp;False,</div></div><div class=\"1220\" style=\"display: none;\"><div style=\"display: table-cell;\"></div><div style=\"display: table-cell;\">extra_x_ranges&nbsp;=&nbsp;{},</div></div><div class=\"1220\" style=\"display: none;\"><div style=\"display: table-cell;\"></div><div style=\"display: table-cell;\">extra_y_ranges&nbsp;=&nbsp;{},</div></div><div class=\"1220\" style=\"display: none;\"><div style=\"display: table-cell;\"></div><div style=\"display: table-cell;\">frame_height&nbsp;=&nbsp;None,</div></div><div class=\"1220\" style=\"display: none;\"><div style=\"display: table-cell;\"></div><div style=\"display: table-cell;\">frame_width&nbsp;=&nbsp;None,</div></div><div class=\"1220\" style=\"display: none;\"><div style=\"display: table-cell;\"></div><div style=\"display: table-cell;\">height&nbsp;=&nbsp;None,</div></div><div class=\"1220\" style=\"display: none;\"><div style=\"display: table-cell;\"></div><div style=\"display: table-cell;\">height_policy&nbsp;=&nbsp;'auto',</div></div><div class=\"1220\" style=\"display: none;\"><div style=\"display: table-cell;\"></div><div style=\"display: table-cell;\">hidpi&nbsp;=&nbsp;True,</div></div><div class=\"1220\" style=\"display: none;\"><div style=\"display: table-cell;\"></div><div style=\"display: table-cell;\">js_event_callbacks&nbsp;=&nbsp;{},</div></div><div class=\"1220\" style=\"display: none;\"><div style=\"display: table-cell;\"></div><div style=\"display: table-cell;\">js_property_callbacks&nbsp;=&nbsp;{},</div></div><div class=\"1220\" style=\"display: none;\"><div style=\"display: table-cell;\"></div><div style=\"display: table-cell;\">left&nbsp;=&nbsp;[LinearAxis(id='1123', ...)],</div></div><div class=\"1220\" style=\"display: none;\"><div style=\"display: table-cell;\"></div><div style=\"display: table-cell;\">lod_factor&nbsp;=&nbsp;10,</div></div><div class=\"1220\" style=\"display: none;\"><div style=\"display: table-cell;\"></div><div style=\"display: table-cell;\">lod_interval&nbsp;=&nbsp;300,</div></div><div class=\"1220\" style=\"display: none;\"><div style=\"display: table-cell;\"></div><div style=\"display: table-cell;\">lod_threshold&nbsp;=&nbsp;2000,</div></div><div class=\"1220\" style=\"display: none;\"><div style=\"display: table-cell;\"></div><div style=\"display: table-cell;\">lod_timeout&nbsp;=&nbsp;500,</div></div><div class=\"1220\" style=\"display: none;\"><div style=\"display: table-cell;\"></div><div style=\"display: table-cell;\">margin&nbsp;=&nbsp;(0, 0, 0, 0),</div></div><div class=\"1220\" style=\"display: none;\"><div style=\"display: table-cell;\"></div><div style=\"display: table-cell;\">match_aspect&nbsp;=&nbsp;False,</div></div><div class=\"1220\" style=\"display: none;\"><div style=\"display: table-cell;\"></div><div style=\"display: table-cell;\">max_height&nbsp;=&nbsp;None,</div></div><div class=\"1220\" style=\"display: none;\"><div style=\"display: table-cell;\"></div><div style=\"display: table-cell;\">max_width&nbsp;=&nbsp;None,</div></div><div class=\"1220\" style=\"display: none;\"><div style=\"display: table-cell;\"></div><div style=\"display: table-cell;\">min_border&nbsp;=&nbsp;5,</div></div><div class=\"1220\" style=\"display: none;\"><div style=\"display: table-cell;\"></div><div style=\"display: table-cell;\">min_border_bottom&nbsp;=&nbsp;None,</div></div><div class=\"1220\" style=\"display: none;\"><div style=\"display: table-cell;\"></div><div style=\"display: table-cell;\">min_border_left&nbsp;=&nbsp;None,</div></div><div class=\"1220\" style=\"display: none;\"><div style=\"display: table-cell;\"></div><div style=\"display: table-cell;\">min_border_right&nbsp;=&nbsp;None,</div></div><div class=\"1220\" style=\"display: none;\"><div style=\"display: table-cell;\"></div><div style=\"display: table-cell;\">min_border_top&nbsp;=&nbsp;None,</div></div><div class=\"1220\" style=\"display: none;\"><div style=\"display: table-cell;\"></div><div style=\"display: table-cell;\">min_height&nbsp;=&nbsp;None,</div></div><div class=\"1220\" style=\"display: none;\"><div style=\"display: table-cell;\"></div><div style=\"display: table-cell;\">min_width&nbsp;=&nbsp;None,</div></div><div class=\"1220\" style=\"display: none;\"><div style=\"display: table-cell;\"></div><div style=\"display: table-cell;\">name&nbsp;=&nbsp;None,</div></div><div class=\"1220\" style=\"display: none;\"><div style=\"display: table-cell;\"></div><div style=\"display: table-cell;\">outline_line_alpha&nbsp;=&nbsp;{'value': 1.0},</div></div><div class=\"1220\" style=\"display: none;\"><div style=\"display: table-cell;\"></div><div style=\"display: table-cell;\">outline_line_cap&nbsp;=&nbsp;'butt',</div></div><div class=\"1220\" style=\"display: none;\"><div style=\"display: table-cell;\"></div><div style=\"display: table-cell;\">outline_line_color&nbsp;=&nbsp;{'value': '#e5e5e5'},</div></div><div class=\"1220\" style=\"display: none;\"><div style=\"display: table-cell;\"></div><div style=\"display: table-cell;\">outline_line_dash&nbsp;=&nbsp;[],</div></div><div class=\"1220\" style=\"display: none;\"><div style=\"display: table-cell;\"></div><div style=\"display: table-cell;\">outline_line_dash_offset&nbsp;=&nbsp;0,</div></div><div class=\"1220\" style=\"display: none;\"><div style=\"display: table-cell;\"></div><div style=\"display: table-cell;\">outline_line_join&nbsp;=&nbsp;'bevel',</div></div><div class=\"1220\" style=\"display: none;\"><div style=\"display: table-cell;\"></div><div style=\"display: table-cell;\">outline_line_width&nbsp;=&nbsp;{'value': 1},</div></div><div class=\"1220\" style=\"display: none;\"><div style=\"display: table-cell;\"></div><div style=\"display: table-cell;\">output_backend&nbsp;=&nbsp;'canvas',</div></div><div class=\"1220\" style=\"display: none;\"><div style=\"display: table-cell;\"></div><div style=\"display: table-cell;\">plot_height&nbsp;=&nbsp;400,</div></div><div class=\"1220\" style=\"display: none;\"><div style=\"display: table-cell;\"></div><div style=\"display: table-cell;\">plot_width&nbsp;=&nbsp;600,</div></div><div class=\"1220\" style=\"display: none;\"><div style=\"display: table-cell;\"></div><div style=\"display: table-cell;\">renderers&nbsp;=&nbsp;[GlyphRenderer(id='1144', ...)],</div></div><div class=\"1220\" style=\"display: none;\"><div style=\"display: table-cell;\"></div><div style=\"display: table-cell;\">reset_policy&nbsp;=&nbsp;'standard',</div></div><div class=\"1220\" style=\"display: none;\"><div style=\"display: table-cell;\"></div><div style=\"display: table-cell;\">right&nbsp;=&nbsp;[],</div></div><div class=\"1220\" style=\"display: none;\"><div style=\"display: table-cell;\"></div><div style=\"display: table-cell;\">sizing_mode&nbsp;=&nbsp;None,</div></div><div class=\"1220\" style=\"display: none;\"><div style=\"display: table-cell;\"></div><div style=\"display: table-cell;\">subscribed_events&nbsp;=&nbsp;[],</div></div><div class=\"1220\" style=\"display: none;\"><div style=\"display: table-cell;\"></div><div style=\"display: table-cell;\">tags&nbsp;=&nbsp;[],</div></div><div class=\"1220\" style=\"display: none;\"><div style=\"display: table-cell;\"></div><div style=\"display: table-cell;\">title&nbsp;=&nbsp;Title(id='1158', ...),</div></div><div class=\"1220\" style=\"display: none;\"><div style=\"display: table-cell;\"></div><div style=\"display: table-cell;\">title_location&nbsp;=&nbsp;'above',</div></div><div class=\"1220\" style=\"display: none;\"><div style=\"display: table-cell;\"></div><div style=\"display: table-cell;\">toolbar&nbsp;=&nbsp;Toolbar(id='1134', ...),</div></div><div class=\"1220\" style=\"display: none;\"><div style=\"display: table-cell;\"></div><div style=\"display: table-cell;\">toolbar_location&nbsp;=&nbsp;'right',</div></div><div class=\"1220\" style=\"display: none;\"><div style=\"display: table-cell;\"></div><div style=\"display: table-cell;\">toolbar_sticky&nbsp;=&nbsp;True,</div></div><div class=\"1220\" style=\"display: none;\"><div style=\"display: table-cell;\"></div><div style=\"display: table-cell;\">visible&nbsp;=&nbsp;True,</div></div><div class=\"1220\" style=\"display: none;\"><div style=\"display: table-cell;\"></div><div style=\"display: table-cell;\">width&nbsp;=&nbsp;None,</div></div><div class=\"1220\" style=\"display: none;\"><div style=\"display: table-cell;\"></div><div style=\"display: table-cell;\">width_policy&nbsp;=&nbsp;'auto',</div></div><div class=\"1220\" style=\"display: none;\"><div style=\"display: table-cell;\"></div><div style=\"display: table-cell;\">x_range&nbsp;=&nbsp;DataRange1d(id='1110', ...),</div></div><div class=\"1220\" style=\"display: none;\"><div style=\"display: table-cell;\"></div><div style=\"display: table-cell;\">x_scale&nbsp;=&nbsp;LinearScale(id='1114', ...),</div></div><div class=\"1220\" style=\"display: none;\"><div style=\"display: table-cell;\"></div><div style=\"display: table-cell;\">y_range&nbsp;=&nbsp;DataRange1d(id='1112', ...),</div></div><div class=\"1220\" style=\"display: none;\"><div style=\"display: table-cell;\"></div><div style=\"display: table-cell;\">y_scale&nbsp;=&nbsp;LinearScale(id='1116', ...))</div></div></div>\n",
              "<script>\n",
              "(function() {\n",
              "  var expanded = false;\n",
              "  var ellipsis = document.getElementById(\"1221\");\n",
              "  ellipsis.addEventListener(\"click\", function() {\n",
              "    var rows = document.getElementsByClassName(\"1220\");\n",
              "    for (var i = 0; i < rows.length; i++) {\n",
              "      var el = rows[i];\n",
              "      el.style.display = expanded ? \"none\" : \"table-row\";\n",
              "    }\n",
              "    ellipsis.innerHTML = expanded ? \"&hellip;)\" : \"&lsaquo;&lsaquo;&lsaquo;\";\n",
              "    expanded = !expanded;\n",
              "  });\n",
              "})();\n",
              "</script>\n"
            ],
            "text/plain": [
              "Figure(id='1109', ...)"
            ]
          },
          "metadata": {
            "tags": []
          },
          "execution_count": 34
        }
      ]
    },
    {
      "cell_type": "markdown",
      "metadata": {
        "id": "8WP6SLiZ5a5x",
        "colab_type": "text"
      },
      "source": [
        "Отлично. Но, к сожалению, визуализацию тестами на канвасе проверить нельзя, поэтому давайте еще напишем функцию, которая будет находить к вопросу ближайшие похожие =)"
      ]
    },
    {
      "cell_type": "code",
      "metadata": {
        "id": "h6Ob7JIp5a5y",
        "colab_type": "code",
        "colab": {}
      },
      "source": [
        "def find_closest_questions(question, dataset=new_test, vec_candidates=word_vectors, k=5):\n",
        "    \"\"\"\n",
        "    function that finds closest questions from dataset given question\n",
        "    args:\n",
        "        question: question, preprocessed using text_prepare \n",
        "        k: how many nearest questions to find\n",
        "    \"\"\"\n",
        "    \n",
        "    embedding = question_to_vec(question)\n",
        "    \n",
        "    rank_candidates = np.array([(i, dataset[i]) for i in range(len(dataset))])\n",
        "    \n",
        "    dist_s = cosine_similarity(vec_candidates, np.array([embedding]))[:, 0]\n",
        "    return deepcopy(rank_candidates[dist_s.argsort()[::-1]])[:k]\n",
        "    "
      ],
      "execution_count": 0,
      "outputs": []
    },
    {
      "cell_type": "code",
      "metadata": {
        "id": "gOuOgPd_5a5z",
        "colab_type": "code",
        "outputId": "c50fc054-01fd-4b7a-f265-0db435d65d8a",
        "colab": {
          "base_uri": "https://localhost:8080/",
          "height": 170
        }
      },
      "source": [
        "find_closest_questions(text_prepare(\"Why am I so stupid?\"))"
      ],
      "execution_count": 0,
      "outputs": [
        {
          "output_type": "execute_result",
          "data": {
            "text/plain": [
              "array([['2564',\n",
              "        'hello guys  getting error submitting simple form  honestly know'],\n",
              "       ['1778', ' wpdb insert big problem  weird'],\n",
              "       ['2511',\n",
              "        '  uiscrollview zoomtorect animated   weird behavior contentsize   bounds size'],\n",
              "       ['171', 'xmlhttprequest response type wrong firefox'],\n",
              "       ['3218',\n",
              "        'javascript value composed several words  value dog crazy ']],\n",
              "      dtype='<U134')"
            ]
          },
          "metadata": {
            "tags": []
          },
          "execution_count": 26
        }
      ]
    },
    {
      "cell_type": "markdown",
      "metadata": {
        "id": "7eqgzVF85a51",
        "colab_type": "text"
      },
      "source": [
        "### Вопрос 10:\n",
        "* Какой самый ближайший вопрос к \"Why am I so stupid?\"?\n",
        "В канвас напишите слова вопроса с маленькой буквы через пробелы без знаков пунктуации (только латинские буквы)"
      ]
    }
  ]
}
